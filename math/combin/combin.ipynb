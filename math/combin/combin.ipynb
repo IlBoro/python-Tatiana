{
 "cells": [
  {
   "cell_type": "markdown",
   "metadata": {},
   "source": [
    "# Import libraries"
   ]
  },
  {
   "cell_type": "code",
   "execution_count": 9,
   "metadata": {},
   "outputs": [],
   "source": [
    "import itertools\n",
    "from itertools import combinations, combinations_with_replacement, permutations"
   ]
  },
  {
   "cell_type": "code",
   "execution_count": 10,
   "metadata": {},
   "outputs": [
    {
     "name": "stdout",
     "output_type": "stream",
     "text": [
      "120\n"
     ]
    }
   ],
   "source": [
    "# 0!,1! = 1#\n",
    "\n",
    "\n",
    "def factorial(num: int) -> int:  # -> указать тип который возращает функция\n",
    "    \"\"\"Интерпретатор возвращаеттип данных none\"\"\"\n",
    "    if num == 0 or num == 1:\n",
    "        # num = num*(num-1)\n",
    "        return 1\n",
    "\n",
    "    # print(num)# Возвращает NOne\n",
    "\n",
    "    return num * factorial(\n",
    "        num - 1\n",
    "    )  # используется когда надо передать значение из функции дальше\n",
    "\n",
    "\n",
    "# print(factorial(1))#\n",
    "\n",
    "get_num = factorial(5)  #\n",
    "\n",
    "print(get_num)"
   ]
  },
  {
   "cell_type": "markdown",
   "metadata": {},
   "source": [
    " в стеке реализуется стратегия «последним вошел — первым вышел» (last-in, first-out — LIFO)."
   ]
  },
  {
   "cell_type": "markdown",
   "metadata": {},
   "source": [
    "Рекурсия - вызов функции из функции самой себя.последний член умножается на предыдущий\n",
    "n = n*(n-1)!"
   ]
  },
  {
   "cell_type": "markdown",
   "metadata": {},
   "source": [
    "Если внутри функции нет return, то интерпретатор возвращает None тип данных"
   ]
  },
  {
   "cell_type": "markdown",
   "metadata": {},
   "source": [
    "<img src=\"https://i.ytimg.com/vi/FR55Pdavza4/maxresdefault.jpg\" width=\"300px\">"
   ]
  },
  {
   "cell_type": "code",
   "execution_count": 11,
   "metadata": {},
   "outputs": [
    {
     "name": "stdout",
     "output_type": "stream",
     "text": [
      "6\n"
     ]
    }
   ],
   "source": [
    "# скольктми способами можно переставить яблоко банан и грушу\n",
    "# Перестановка без повторениий\n",
    "# P3! = 3!=3*2*1\n",
    "\n",
    "\n",
    "def fac(num):\n",
    "    if num == 0:\n",
    "        return 1\n",
    "    return num * fac(num - 1)\n",
    "\n",
    "\n",
    "print(fac(3))"
   ]
  },
  {
   "cell_type": "code",
   "execution_count": 12,
   "metadata": {},
   "outputs": [
    {
     "name": "stdout",
     "output_type": "stream",
     "text": [
      "('banana', 'apple')\n",
      "('banana', 'pear')\n",
      "('apple', 'pear')\n"
     ]
    }
   ],
   "source": [
    "fruits = [\"banana\", \"apple\", \"pear\"]\n",
    "permutations_ = permutations(fruits)\n",
    "# print(dir(permutations_))\n",
    "# print(permutations_.__next__())\n",
    "# print(permutations_.__next__())\n",
    "len(list(permutations_))\n",
    "\n",
    "for item in combinations(fruits, 2):\n",
    "    print(item)"
   ]
  },
  {
   "cell_type": "markdown",
   "metadata": {},
   "source": [
    "# Problems"
   ]
  },
  {
   "cell_type": "markdown",
   "metadata": {},
   "source": [
    "## 1"
   ]
  },
  {
   "cell_type": "code",
   "execution_count": 14,
   "metadata": {},
   "outputs": [],
   "source": [
    "# how many ways can I rearrange the letters in a word\n",
    "wrd_1 = \"МАЙ\"\n",
    "wrd_2 = \"ИЮНЬ\"\n",
    "wrd_3 = \"ОСЕНЬ\"\n",
    "\n",
    "# Permutations(перестановки)\n",
    "# 1) 3! = 6\n",
    "# 2) 4! = 24\n",
    "# 3) 5! = 12"
   ]
  },
  {
   "cell_type": "code",
   "execution_count": 15,
   "metadata": {},
   "outputs": [
    {
     "name": "stdout",
     "output_type": "stream",
     "text": [
      "6\n",
      "24\n",
      "120\n"
     ]
    }
   ],
   "source": [
    "# Decision using def fac\n",
    "print(fac(len(wrd_1)))  #\n",
    "print(fac(len(wrd_2)))  #\n",
    "print(fac(len(wrd_3)))  #"
   ]
  },
  {
   "cell_type": "code",
   "execution_count": 16,
   "metadata": {},
   "outputs": [
    {
     "data": {
      "text/plain": [
       "(6, 24, 120)"
      ]
     },
     "execution_count": 16,
     "metadata": {},
     "output_type": "execute_result"
    }
   ],
   "source": [
    "# Decision using itertools\n",
    "\n",
    "var_1 = permutations(wrd_1, r=None)\n",
    "var_2 = permutations(wrd_2, r=None)\n",
    "var_3 = permutations(wrd_3, r=None)\n",
    "len(list(var_1)), len(list(var_2)), len(list(var_3))"
   ]
  },
  {
   "cell_type": "markdown",
   "metadata": {},
   "source": [
    "## 2"
   ]
  },
  {
   "cell_type": "code",
   "execution_count": 17,
   "metadata": {},
   "outputs": [],
   "source": [
    "# how many ways can I rearrange letters in words\n",
    "# a)how many three-digit numbers can be made up of digits\n",
    "# lst_1 = [1, 2, 3, 4, 5]\n",
    "lst_1 = [0, 1, 2, 3, 4]\n",
    "# number of placements\n",
    "\n",
    "# b) how many three-digit numbers consisting of different digits can be composed from the digits\n",
    "lst_2 = [1, 2, 3, 4]"
   ]
  },
  {
   "cell_type": "code",
   "execution_count": 18,
   "metadata": {},
   "outputs": [
    {
     "name": "stdout",
     "output_type": "stream",
     "text": [
      "[(0, 1, 2), (0, 1, 3), (0, 1, 4), (0, 2, 1), (0, 2, 3), (0, 2, 4), (0, 3, 1), (0, 3, 2), (0, 3, 4), (0, 4, 1), (0, 4, 2), (0, 4, 3), (1, 0, 2), (1, 0, 3), (1, 0, 4), (1, 2, 0), (1, 2, 3), (1, 2, 4), (1, 3, 0), (1, 3, 2), (1, 3, 4), (1, 4, 0), (1, 4, 2), (1, 4, 3), (2, 0, 1), (2, 0, 3), (2, 0, 4), (2, 1, 0), (2, 1, 3), (2, 1, 4), (2, 3, 0), (2, 3, 1), (2, 3, 4), (2, 4, 0), (2, 4, 1), (2, 4, 3), (3, 0, 1), (3, 0, 2), (3, 0, 4), (3, 1, 0), (3, 1, 2), (3, 1, 4), (3, 2, 0), (3, 2, 1), (3, 2, 4), (3, 4, 0), (3, 4, 1), (3, 4, 2), (4, 0, 1), (4, 0, 2), (4, 0, 3), (4, 1, 0), (4, 1, 2), (4, 1, 3), (4, 2, 0), (4, 2, 1), (4, 2, 3), (4, 3, 0), (4, 3, 1), (4, 3, 2)]\n",
      "[(1, 2), (1, 3), (1, 4), (2, 3), (2, 4), (3, 4)]\n"
     ]
    }
   ],
   "source": [
    "digits3_1: list = list(permutations(lst_1, r=3))\n",
    "digits3_2: list = list(combinations(lst_2, r=2))\n",
    "print(digits3_1, digits3_2, sep=\"\\n\")"
   ]
  },
  {
   "cell_type": "code",
   "execution_count": 19,
   "metadata": {},
   "outputs": [
    {
     "name": "stdout",
     "output_type": "stream",
     "text": [
      "digits3_1 number of permutations of  - 60 \n",
      "digits3_2 number of combinations of  - 6 \n"
     ]
    }
   ],
   "source": [
    "print(f\"digits3_1 number of permutations of  - {len(digits3_1)} \")\n",
    "print(f\"digits3_2 number of combinations of  - {len(digits3_2)} \")"
   ]
  },
  {
   "cell_type": "markdown",
   "metadata": {},
   "source": [
    "## 3"
   ]
  },
  {
   "cell_type": "code",
   "execution_count": 20,
   "metadata": {},
   "outputs": [
    {
     "name": "stdout",
     "output_type": "stream",
     "text": [
      " Number of combinations 'abcd': 4\n",
      " Number of combinations 'abcd': 24\n"
     ]
    }
   ],
   "source": [
    "# Var1\n",
    "# Write down all possible combinations and all possible placements of 4 elements of a set of 3 elements.\n",
    "lst_3 = list(\"abcd\")\n",
    "string_comb = list(combinations(lst_3, 3))\n",
    "string_perm = list(permutations(lst_3, 3))\n",
    "print(f\" Number of combinations 'abcd': {len(string_comb)}\")\n",
    "print(f\" Number of combinations 'abcd': {len(string_perm)}\")"
   ]
  },
  {
   "cell_type": "code",
   "execution_count": 21,
   "metadata": {},
   "outputs": [
    {
     "name": "stdout",
     "output_type": "stream",
     "text": [
      "['a', 'b', 'c', 'd']\n"
     ]
    }
   ],
   "source": [
    "print(lst_3)"
   ]
  },
  {
   "cell_type": "code",
   "execution_count": 22,
   "metadata": {},
   "outputs": [
    {
     "name": "stdout",
     "output_type": "stream",
     "text": [
      "[('a', 'b', 'c'), ('a', 'b', 'd'), ('a', 'c', 'd'), ('b', 'c', 'd')]\n",
      "4\n"
     ]
    }
   ],
   "source": [
    "# Var 2\n",
    "# combinations\n",
    "# C3_4 = 4!/(4-3)!*3! = (3!*4)/3! = 4\n",
    "lst_3 = [i for i in \"abcd\"]  # ['a', 'b', 'c', 'd']\n",
    "\n",
    "comb = list(combinations(lst_3, 3))\n",
    "count_comb = 0\n",
    "for i in lst_3:\n",
    "    count_comb += 1\n",
    "\n",
    "print(comb)\n",
    "print(count_comb)"
   ]
  },
  {
   "cell_type": "code",
   "execution_count": 23,
   "metadata": {},
   "outputs": [
    {
     "name": "stdout",
     "output_type": "stream",
     "text": [
      "24\n"
     ]
    }
   ],
   "source": [
    "# A3_4 = 4!/(4-3)! = 4! = 4*3*2=24\n",
    "\n",
    "lst_3 = [i for i in \"abcd\"]  # ['a', 'b', 'c', 'd']\n",
    "\n",
    "perm = list(permutations(lst_3, 3))\n",
    "\n",
    "count_perm = 0\n",
    "for i in perm:\n",
    "    count_perm += 1\n",
    "# print(perm)\n",
    "print(count_perm)"
   ]
  },
  {
   "cell_type": "markdown",
   "metadata": {},
   "source": [
    "## 4"
   ]
  },
  {
   "cell_type": "code",
   "execution_count": 24,
   "metadata": {},
   "outputs": [
    {
     "name": "stdout",
     "output_type": "stream",
     "text": [
      " Number of combinationd to divide 3 equal awards among 10 competitors -  120\n",
      " Number of permutations to divide 3 different awards among 10 competitors -  720\n"
     ]
    }
   ],
   "source": [
    "# how many ways are there to distribute 3 awards among 10 competitors?\n",
    "competitors = list(range(1, 11))  # [1, 2, 3, 4, 5, 6, 7, 8, 9, 10]\n",
    "AWARDS = 3\n",
    "\n",
    "# if the awards are equal => comninations.C3_10 = 10!/(7!*3!) = (8*9*10)/6 = 120\n",
    "\n",
    "awards_comb = combinations(competitors, AWARDS)\n",
    "print(\n",
    "    f\" Number of combinationd to divide 3 equal awards among 10 competitors -  {len(list(awards_comb))}\"\n",
    ")\n",
    "\n",
    "# if the awards are different => permutatios.C3_10 = 10!/3! = 4*5*6*7*8*9*10 =\n",
    "\n",
    "awards_perm = permutations(competitors, AWARDS)\n",
    "print(\n",
    "    f\" Number of permutations to divide 3 different awards among 10 competitors -  {len(list(awards_perm))}\"\n",
    ")"
   ]
  },
  {
   "cell_type": "markdown",
   "metadata": {},
   "source": [
    "## 5"
   ]
  },
  {
   "cell_type": "code",
   "execution_count": 25,
   "metadata": {},
   "outputs": [
    {
     "data": {
      "text/plain": [
       "(990, 26)"
      ]
     },
     "execution_count": 25,
     "metadata": {},
     "output_type": "execute_result"
    }
   ],
   "source": [
    "# a)how many ways are there to choose 3 flowers from a vase containing 6 roses and 5 carnations?\n",
    "count_flow = list(range(1, 12))  # 6 + 5\n",
    "var_6 = itertools.permutations(count_flow, 3)\n",
    "# b)how many ways are there to choose 1 rose and 2 carnations from this vase?\n",
    "var_m = itertools.permutations(list(range(1, 7)), 1)\n",
    "var_n = itertools.permutations(list(range(1, 6)), 2)\n",
    "len(list(var_6)), len(list(var_m)) + len(list(var_n))"
   ]
  },
  {
   "cell_type": "code",
   "execution_count": 26,
   "metadata": {},
   "outputs": [
    {
     "name": "stdout",
     "output_type": "stream",
     "text": [
      "4\n"
     ]
    }
   ],
   "source": [
    "# Combination with repeated elements\n",
    "# C3_2(rep) = C3_(3+2-1) = C3_4 = 4!/(4-1)!*3!=3!*4/3!=4\n",
    "\n",
    "combinations = list(combinations_with_replacement([\"rose\", \"carnation\"], 3))\n",
    "\n",
    "print(len(combinations))"
   ]
  },
  {
   "cell_type": "markdown",
   "metadata": {},
   "source": [
    "a) C3_11 = 11!/(11-3)!\n",
    "b)C1_6*C2_5"
   ]
  },
  {
   "cell_type": "code",
   "execution_count": 27,
   "metadata": {},
   "outputs": [
    {
     "name": "stdout",
     "output_type": "stream",
     "text": [
      "[('a', 'a', 'a'), ('a', 'a', 'b'), ('a', 'a', 'c'), ('a', 'b', 'a'), ('a', 'b', 'b'), ('a', 'b', 'c'), ('a', 'c', 'a'), ('a', 'c', 'b'), ('a', 'c', 'c'), ('b', 'a', 'a'), ('b', 'a', 'b'), ('b', 'a', 'c'), ('b', 'b', 'a'), ('b', 'b', 'b'), ('b', 'b', 'c'), ('b', 'c', 'a'), ('b', 'c', 'b'), ('b', 'c', 'c'), ('c', 'a', 'a'), ('c', 'a', 'b'), ('c', 'a', 'c'), ('c', 'b', 'a'), ('c', 'b', 'b'), ('c', 'b', 'c'), ('c', 'c', 'a'), ('c', 'c', 'b'), ('c', 'c', 'c')]\n"
     ]
    }
   ],
   "source": [
    "abc = (\"a\", \"b\", \"c\")\n",
    "\n",
    "print([(var_x, var_y, var_z) for var_x in abc for var_y in abc for var_z in abc])"
   ]
  }
 ],
 "metadata": {
  "kernelspec": {
   "display_name": "base",
   "language": "python",
   "name": "python3"
  },
  "language_info": {
   "codemirror_mode": {
    "name": "ipython",
    "version": 3
   },
   "file_extension": ".py",
   "mimetype": "text/x-python",
   "name": "python",
   "nbconvert_exporter": "python",
   "pygments_lexer": "ipython3",
   "version": "3.11.4"
  }
 },
 "nbformat": 4,
 "nbformat_minor": 2
}

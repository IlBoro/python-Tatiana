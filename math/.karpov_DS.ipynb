{
 "cells": [
  {
   "cell_type": "code",
   "execution_count": null,
   "metadata": {},
   "outputs": [],
   "source": [
    "# 2.2\n",
    "\n",
    "https://lab.karpov.courses/learning/243/module/2453/lesson/23847/68526/319553/"
   ]
  },
  {
   "cell_type": "markdown",
   "metadata": {},
   "source": [
    "# Квадрат суммы a и b разделим на разность a и b\n",
    "a = 3\n",
    "b = 4\n",
    "d = (a + b) ** 2 / (a - b) # => -49.0"
   ]
  },
  {
   "cell_type": "code",
   "execution_count": null,
   "metadata": {},
   "outputs": [],
   "source": [
    "c = (a**2 + b**2) ** 0.5"
   ]
  },
  {
   "cell_type": "markdown",
   "metadata": {},
   "source": [
    "# https://lab.karpov.courses/learning/243/module/2453/lesson/23847/68526/320002/"
   ]
  },
  {
   "cell_type": "markdown",
   "metadata": {},
   "source": [
    "В переменной father_age хранится возраст отца, а в переменной son_age — возраст сына. Посчитайте, через сколько лет отец будет вдвое старше сына. Результат сохраните в переменную result. "
   ]
  },
  {
   "cell_type": "markdown",
   "metadata": {},
   "source": [
    "father_age = 20\n",
    "son_age = 3\n",
    "result = 14\n",
    "\n",
    "father_age = 30.5\n",
    "son_age = 5.1\n",
    "result = 20.3"
   ]
  },
  {
   "cell_type": "code",
   "execution_count": null,
   "metadata": {},
   "outputs": [],
   "source": [
    "result = father_age - 2 * (son_age)"
   ]
  },
  {
   "cell_type": "code",
   "execution_count": null,
   "metadata": {},
   "outputs": [],
   "source": [
    "# https://lab.karpov.courses/learning/243/module/2453/lesson/24444/70058/305938/\n",
    "from collections import deque\n",
    "\n",
    "\n",
    "def find_new_neighbors(coordinate):\n",
    "    \"\"\"\n",
    "    :param coordinate: tupple = (int, int)\n",
    "    :return: None\n",
    "    :side effects: modify added_cells, queue and parents\n",
    "    \"\"\"\n",
    "    for j, k in [(-1, 0), (1, 0), (0, -1), (0, 1)]:\n",
    "        x, y = coordinate[0] + j, coordinate[1] + k\n",
    "        if (\n",
    "            0 <= x < size\n",
    "            and 0 <= y < size\n",
    "            and (x, y) not in added_cells\n",
    "            and city_map_list[x][y] == 1\n",
    "        ):\n",
    "            added_cells.add((x, y))\n",
    "            queue.append((x, y))\n",
    "            parents[(x, y)] = coordinate\n",
    "\n",
    "\n",
    "def write_path(end, start):\n",
    "    \"\"\"\n",
    "    :param end: tupple = (int, int)\n",
    "    :param start: tupple = (int, int)\n",
    "    :return: None\n",
    "    :side effects: modify variable - path\n",
    "    \"\"\"\n",
    "    x, y = end\n",
    "    next_cell = parents.get((x, y))\n",
    "    while next_cell != start:\n",
    "        path.append(next_cell)\n",
    "        next_cell = parents.get(next_cell)\n",
    "\n",
    "\n",
    "# в постановке задачи сперва задаются столбики, потом строки,\n",
    "# переставим по-питонячи: сперва строки, потом столбики\n",
    "courier_location = (courier_location[1], courier_location[0])\n",
    "orders_location = [(j, i) for i, j in orders_location]\n",
    "\n",
    "# наш путь сохранять будем в:\n",
    "route = []\n",
    "\n",
    "# к адресам доставки добавим исходную точку\n",
    "locations = orders_location.insert(0, courier_location)\n",
    "\n",
    "size = len(city_map_list)\n",
    "\n",
    "# алгоритм BFS на всем поле (потом надо будет сделать до ближайшей точки).\n",
    "# В словаре parents запоминаем откуда пришли в данную ячейку\n",
    "# и по этому словарю восстанавливаем путь до первого адреса доставки.\n",
    "# Записав путь, обнуляем все и запускаем BFS уже от первого адреса доставки.\n",
    "# Ищем путь до второго адреса. И т.д.\n",
    "for i in range(1, len(orders_location)):\n",
    "    parents = {}\n",
    "    queue = deque()\n",
    "    added_cells = set()\n",
    "    path = []\n",
    "\n",
    "    added_cells.add(orders_location[i - 1])\n",
    "    queue.append(orders_location[i - 1])\n",
    "\n",
    "    while queue:\n",
    "        find_new_neighbors(queue.popleft())\n",
    "\n",
    "    write_path(orders_location[i], orders_location[i - 1])\n",
    "    path.append(orders_location[i - 1])\n",
    "    route.extend(path[::-1])\n",
    "\n",
    "# не забываем последний адрес доставки добавить\n",
    "route.append(orders_location[-1])\n",
    "\n",
    "# из питонячей \"системы координат\" переходим в \"геометрическую\"\n",
    "route = [(j, i) for i, j in route]\n",
    "\n",
    "print(route)"
   ]
  }
 ],
 "metadata": {
  "language_info": {
   "name": "python"
  },
  "orig_nbformat": 4
 },
 "nbformat": 4,
 "nbformat_minor": 2
}

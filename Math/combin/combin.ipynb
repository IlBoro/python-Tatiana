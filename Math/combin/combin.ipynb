{
 "cells": [
  {
   "cell_type": "code",
   "execution_count": 7,
   "metadata": {},
   "outputs": [],
   "source": [
    "# сколькими способами можно переставить буквы в слове\n",
    "\n",
    "# 1) МАЙ\n",
    "# 2) ИЮНЬ\n",
    "# 3) ОСЕНЬ\n",
    "\n",
    "# Решение:\n",
    "\n",
    "# Перестановка без повторениий \n",
    "# P3! = 3!=3*2*1\n"
   ]
  },
  {
   "cell_type": "code",
   "execution_count": 8,
   "metadata": {},
   "outputs": [],
   "source": [
    "def fac(n):\n",
    "    if n==0:\n",
    "        return 1\n",
    "    return n*fac(n-1)"
   ]
  },
  {
   "cell_type": "code",
   "execution_count": null,
   "metadata": {},
   "outputs": [],
   "source": [
    "digits = len([1,2,3,4,5])\n",
    "length = 3\n",
    "\n",
    "print(fac(digits)/(fac(digits)-fac(length))*fac(length))"
   ]
  },
  {
   "cell_type": "code",
   "execution_count": 1,
   "metadata": {},
   "outputs": [
    {
     "name": "stdout",
     "output_type": "stream",
     "text": [
      "6\n"
     ]
    }
   ],
   "source": [
    "print(fac(3))"
   ]
  },
  {
   "cell_type": "code",
   "execution_count": null,
   "metadata": {},
   "outputs": [],
   "source": [
    "а)сколько трехзначных чисел можно составить из цифр\n",
    "1,2,3,4,5\n",
    "б) сколько трехзначных чисел состоящих из различных цифр можно составить из цифр 1,2,3,4,5"
   ]
  },
  {
   "cell_type": "code",
   "execution_count": 20,
   "metadata": {},
   "outputs": [
    {
     "name": "stdout",
     "output_type": "stream",
     "text": [
      "Размещение с повторением мат формула 125\n",
      "Размещение с повторением Itertools 125\n"
     ]
    }
   ],
   "source": [
    "# а) Размещение с повторением. Каждая цифра из списка может быть использована для составления трехзначного числа:111,222,121 и тд\n",
    "# A3_5 = 5^3\n",
    "print('Размещение с повторением мат формула', 5**3)\n",
    "\n",
    "# Itertools\n",
    "from itertools import product\n",
    "\n",
    "colors = ['1', '2', '3', '4', '5']\n",
    "word_length = 3\n",
    "\n",
    "words = list(product(colors, repeat=word_length))\n",
    "count = 0\n",
    "for word in words:\n",
    "    count +=1\n",
    "    # print(''.join(word))\n",
    "print('Размещение с повторением Itertools', count)\n",
    "\n"
   ]
  },
  {
   "cell_type": "code",
   "execution_count": 14,
   "metadata": {},
   "outputs": [],
   "source": [
    "#б) # Решение:\n",
    "\n",
    "# Сочетание без повторений \n"
   ]
  },
  {
   "cell_type": "markdown",
   "metadata": {},
   "source": [
    "б)\n",
    "1. Выбор первой цифры: у нас есть 5 вариантов.\n",
    "2. Выбор второй цифры: после выбора первой цифры у нас остаются 4 цифры для выбора второй.\n",
    "3. Выбор третьей цифры: после выбора первых двух цифр остаются 3 цифры для выбора третьей.\n",
    "\n",
    "Итак, общее количество трехзначных чисел из цифр 1, 2, 3, 4, 5 равно:\n",
    "5 * 4 * 3 = 60"
   ]
  },
  {
   "cell_type": "code",
   "execution_count": 22,
   "metadata": {},
   "outputs": [
    {
     "name": "stdout",
     "output_type": "stream",
     "text": [
      "60\n"
     ]
    }
   ],
   "source": [
    "from itertools import permutations\n",
    "\n",
    "# Создаем список из цифр 1, 2, 3, 4, 5\n",
    "digits = [1, 2, 3, 4, 5]\n",
    "\n",
    "# Генерируем все возможные перестановки длиной 3 из списка цифр\n",
    "perms = permutations(digits, 3) # itertools.\n",
    "\n",
    "# Считаем количество полученных перестановок\n",
    "count = sum(1 for _ in perms)\n",
    "\n",
    "print(count)"
   ]
  },
  {
   "cell_type": "code",
   "execution_count": 24,
   "metadata": {},
   "outputs": [
    {
     "name": "stdout",
     "output_type": "stream",
     "text": [
      "('a', 'b', 'c')\n",
      "('a', 'b', 'd')\n",
      "('a', 'c', 'd')\n",
      "('b', 'c', 'd')\n"
     ]
    },
    {
     "data": {
      "text/plain": [
       "4"
      ]
     },
     "execution_count": 24,
     "metadata": {},
     "output_type": "execute_result"
    }
   ],
   "source": [
    "# Записать все возможные сочетания  из 4 элементов множества D={a,b,c,d} по 3 элемента.\n",
    "# Сочетание без повторение\n",
    "# C3_4 = 4!/(4-3)!*3! = 3!*4/3! = 4\n",
    "\n",
    "#Itertools\n",
    "\n",
    "from itertools import combinations\n",
    "\n",
    "D = ['a', 'b', 'c', 'd']\n",
    "k = 3\n",
    "\n",
    "comb = list(combinations(D, k))\n",
    "count = 0\n",
    "for c in comb:\n",
    "    count +=1\n",
    "    print(c)\n",
    "count"
   ]
  },
  {
   "cell_type": "code",
   "execution_count": 28,
   "metadata": {},
   "outputs": [
    {
     "data": {
      "text/plain": [
       "24"
      ]
     },
     "execution_count": 28,
     "metadata": {},
     "output_type": "execute_result"
    }
   ],
   "source": [
    "# Записать все возможные все возможные размещения из 4 элементов множества D={a,b,c,d} по 3 элемента.\n",
    "# A3_4 = 4!/(4-3)! = 4! = 4*3*2=24\n",
    "\n",
    "from itertools import permutations\n",
    "\n",
    "D = ['a', 'b', 'c', 'd']\n",
    "k = 3\n",
    "\n",
    "perm = list(permutations(D, k))\n",
    "count = 0\n",
    "for p in perm:\n",
    "    count += 1\n",
    "    # print(p)\n",
    "count\n"
   ]
  },
  {
   "cell_type": "code",
   "execution_count": 29,
   "metadata": {},
   "outputs": [
    {
     "name": "stdout",
     "output_type": "stream",
     "text": [
      "Существует 720 способов распределения 3 наград между 10 участниками.\n"
     ]
    }
   ],
   "source": [
    "# сколько существует способов распределения 3 наград между 10 участниками соревнований?\n",
    "# Размещение без повторений\n",
    "# А3_10 = 10!/(10-3)! = 7!*8*9*10/7! = 720\n",
    "\n",
    "from itertools import permutations\n",
    "\n",
    "num_participants = 10\n",
    "num_rewards = 3\n",
    "\n",
    "participants = list(range(1, num_participants + 1))\n",
    "perm = list(permutations(participants, num_rewards))\n",
    "\n",
    "num_ways = len(perm)\n",
    "print(f\"Существует {num_ways} способов распределения 3 наград между 10 участниками.\")"
   ]
  },
  {
   "cell_type": "code",
   "execution_count": null,
   "metadata": {},
   "outputs": [],
   "source": [
    "# a)сколько существует способов выбрать 3 цветка из вазы, в которой стоят 6 роз и 5 гвоздик?\n",
    "#  Выблор происходит из одной вызы в которой 11 цветов.Выбираем 3 цветка\n",
    "# Сочетания без повторений\n",
    "# C3_11 = \n",
    "\n"
   ]
  },
  {
   "cell_type": "code",
   "execution_count": 30,
   "metadata": {},
   "outputs": [
    {
     "data": {
      "text/plain": [
       "165.0"
      ]
     },
     "execution_count": 30,
     "metadata": {},
     "output_type": "execute_result"
    }
   ],
   "source": [
    "990/6"
   ]
  },
  {
   "cell_type": "code",
   "execution_count": null,
   "metadata": {},
   "outputs": [],
   "source": [
    "б)сколько существует способов выбрать из этой вазы 1 розу и 2 гвоздики?"
   ]
  }
 ],
 "metadata": {
  "kernelspec": {
   "display_name": "base",
   "language": "python",
   "name": "python3"
  },
  "language_info": {
   "codemirror_mode": {
    "name": "ipython",
    "version": 3
   },
   "file_extension": ".py",
   "mimetype": "text/x-python",
   "name": "python",
   "nbconvert_exporter": "python",
   "pygments_lexer": "ipython3",
   "version": "3.11.4"
  }
 },
 "nbformat": 4,
 "nbformat_minor": 2
}

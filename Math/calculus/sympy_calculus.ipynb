{
 "cells": [
  {
   "cell_type": "code",
   "execution_count": 3,
   "metadata": {},
   "outputs": [],
   "source": [
    "import sympy as sp"
   ]
  },
  {
   "cell_type": "markdown",
   "metadata": {},
   "source": [
    "Useful methods of sympy:\n",
    "\n",
    "* sp.cbrt(x-6) - root 3d degree\n",
    "* sp.sqrt - - root 2d degree\n",
    "* sp.log\n",
    "* sp.ln\n",
    "* function_name.subs(x, 2) # x - symbol, 2- argument\n",
    "* sp.oo - infinity\n",
    "* sp.sin, sp.cos, sp.tan, sp.ctan\n",
    "* sp.asin, sp.acos, sp.atan, sp.actan\n",
    "* sp.pi\n",
    "* sp.E"
   ]
  },
  {
   "cell_type": "code",
   "execution_count": 58,
   "metadata": {},
   "outputs": [
    {
     "data": {
      "text/latex": [
       "$\\displaystyle \\sqrt[3]{x - 6}$"
      ],
      "text/plain": [
       "(x - 6)**(1/3)"
      ]
     },
     "execution_count": 58,
     "metadata": {},
     "output_type": "execute_result"
    }
   ],
   "source": [
    "sp.cbrt(x-6) # root 3 from (x-6)"
   ]
  },
  {
   "cell_type": "code",
   "execution_count": 40,
   "metadata": {},
   "outputs": [
    {
     "data": {
      "text/latex": [
       "$\\displaystyle 4$"
      ],
      "text/plain": [
       "4"
      ]
     },
     "execution_count": 40,
     "metadata": {},
     "output_type": "execute_result"
    }
   ],
   "source": [
    "# log \n",
    "sp.log(16, 2) # log(result, base)"
   ]
  },
  {
   "cell_type": "code",
   "execution_count": 59,
   "metadata": {},
   "outputs": [
    {
     "data": {
      "text/latex": [
       "$\\displaystyle 3$"
      ],
      "text/plain": [
       "3"
      ]
     },
     "execution_count": 59,
     "metadata": {},
     "output_type": "execute_result"
    }
   ],
   "source": [
    "x = sp.symbols('x')\n",
    "expr = x + 1 # function\n",
    "expr.subs(x, 2)"
   ]
  },
  {
   "cell_type": "code",
   "execution_count": 7,
   "metadata": {},
   "outputs": [
    {
     "data": {
      "text/latex": [
       "$\\displaystyle \\frac{1}{3}$"
      ],
      "text/plain": [
       "1/3"
      ]
     },
     "execution_count": 7,
     "metadata": {},
     "output_type": "execute_result"
    }
   ],
   "source": [
    "\n",
    "n = sp.symbols('n')\n",
    "s = n*(n+1)*(2*n+1)/6 # formulae for sum of sqaures\n",
    "limit = sp.limit(s/n**3, n, sp.oo)\n",
    "limit"
   ]
  },
  {
   "cell_type": "code",
   "execution_count": 61,
   "metadata": {},
   "outputs": [
    {
     "data": {
      "text/latex": [
       "$\\displaystyle \\frac{\\sqrt{x + 4} - 2}{3 \\operatorname{atan}{\\left(x \\right)}}$"
      ],
      "text/plain": [
       "(sqrt(x + 4) - 2)/(3*atan(x))"
      ]
     },
     "execution_count": 61,
     "metadata": {},
     "output_type": "execute_result"
    }
   ],
   "source": [
    "x = sp.symbols('x')\n",
    "f = (sp.sqrt(4 + x) - 2) / (3 * sp.atan(x))\n",
    "\n",
    "limit = sp.limit(f, x, 0)\n",
    "limit\n",
    "f"
   ]
  },
  {
   "cell_type": "code",
   "execution_count": 41,
   "metadata": {},
   "outputs": [
    {
     "data": {
      "text/latex": [
       "$\\displaystyle e^{10}$"
      ],
      "text/plain": [
       "exp(10)"
      ]
     },
     "execution_count": 41,
     "metadata": {},
     "output_type": "execute_result"
    }
   ],
   "source": [
    "x = sp.symbols('x')\n",
    "f = ((x+3)/(x-2))**(2*x+1)\n",
    "limit = sp.limit(f, x, sp.oo) # sp.oo  - infinity\n",
    "limit"
   ]
  },
  {
   "cell_type": "code",
   "execution_count": 42,
   "metadata": {},
   "outputs": [
    {
     "data": {
      "text/latex": [
       "$\\displaystyle e^{-3}$"
      ],
      "text/plain": [
       "exp(-3)"
      ]
     },
     "execution_count": 42,
     "metadata": {},
     "output_type": "execute_result"
    }
   ],
   "source": [
    "x = sp.symbols('x')\n",
    "f = (1 - sp.ln(1 + x**3)) ** (3/(x**2 * sp.asin(x)))\n",
    "limit = sp.limit(f, x, 0)\n",
    "limit"
   ]
  },
  {
   "cell_type": "markdown",
   "metadata": {},
   "source": [
    "# calculus 01.01"
   ]
  },
  {
   "cell_type": "code",
   "execution_count": 12,
   "metadata": {},
   "outputs": [
    {
     "data": {
      "text/latex": [
       "$\\displaystyle -3$"
      ],
      "text/plain": [
       "-3"
      ]
     },
     "execution_count": 12,
     "metadata": {},
     "output_type": "execute_result"
    }
   ],
   "source": [
    "# 1\n",
    "n  = sp.symbols('n')# crate symbol n\n",
    "f = (n*((7*n)**(1/3)) - (81*(n**8)-1)**(1/4))/((n+4*n**(1/2))*((n**2-5)**(1/2))) # ctreate a function\n",
    "lim = sp.limit(f, n, sp.oo)\n",
    "lim"
   ]
  },
  {
   "cell_type": "code",
   "execution_count": 8,
   "metadata": {},
   "outputs": [
    {
     "data": {
      "text/latex": [
       "$\\displaystyle 1$"
      ],
      "text/plain": [
       "1"
      ]
     },
     "execution_count": 8,
     "metadata": {},
     "output_type": "execute_result"
    }
   ],
   "source": [
    "# 2\n",
    "\n",
    "n = sp.symbols('n')\n",
    "\n",
    "f = (3**n - 2**n)/(3**n-1+2**n)\n",
    "limit = sp.limit(f, n, sp.oo)\n",
    "limit"
   ]
  },
  {
   "cell_type": "code",
   "execution_count": 10,
   "metadata": {},
   "outputs": [
    {
     "data": {
      "text/latex": [
       "$\\displaystyle 0.5$"
      ],
      "text/plain": [
       "0.500000000000000"
      ]
     },
     "execution_count": 10,
     "metadata": {},
     "output_type": "execute_result"
    }
   ],
   "source": [
    "# 3\n",
    "\n",
    "x = sp.symbols('x')\n",
    "\n",
    "f = (2*x**2-9*x+10)/(2*x-5)\n",
    "limit = sp.limit(f, x, 5/2)\n",
    "limit"
   ]
  },
  {
   "cell_type": "code",
   "execution_count": 66,
   "metadata": {},
   "outputs": [
    {
     "data": {
      "text/latex": [
       "$\\displaystyle \\infty \\operatorname{sign}{\\left(2 + 2 \\sqrt[3]{-1} \\right)}$"
      ],
      "text/plain": [
       "oo*sign(2 + 2*(-1)**(1/3))"
      ]
     },
     "execution_count": 66,
     "metadata": {},
     "output_type": "execute_result"
    }
   ],
   "source": [
    "# 4\n",
    "x = sp.symbols('x')\n",
    "\n",
    "f = (sp.cbrt(x-6)+2)/(x+2)\n",
    "# f = (sp.cbrt((x-6),3)+2)/(x+2) # 2d varient\n",
    "limit = sp.limit(f, x, -2)\n",
    "limit\n",
    "# f"
   ]
  },
  {
   "cell_type": "markdown",
   "metadata": {},
   "source": [
    "# calculus 05.01 "
   ]
  },
  {
   "cell_type": "code",
   "execution_count": 15,
   "metadata": {},
   "outputs": [
    {
     "data": {
      "text/latex": [
       "$\\displaystyle \\frac{1}{12}$"
      ],
      "text/plain": [
       "1/12"
      ]
     },
     "execution_count": 15,
     "metadata": {},
     "output_type": "execute_result"
    }
   ],
   "source": [
    "# 1\n",
    "\n",
    "x = sp.symbols('x')\n",
    "\n",
    "f = ((4+x)**(1/2) - 2)/(3*sp.atan(x))\n",
    "limit = sp.limit(f, x, 0)\n",
    "limit"
   ]
  },
  {
   "cell_type": "code",
   "execution_count": 19,
   "metadata": {},
   "outputs": [
    {
     "data": {
      "text/latex": [
       "$\\displaystyle \\frac{16 \\log{\\left(2 \\right)}}{\\pi}$"
      ],
      "text/plain": [
       "16*log(2)/pi"
      ]
     },
     "execution_count": 19,
     "metadata": {},
     "output_type": "execute_result"
    }
   ],
   "source": [
    "# 2\n",
    "\n",
    "x = sp.symbols('x')\n",
    "\n",
    "f = (2**x - 16)/(sp.sin(sp.pi*x))\n",
    "limit = sp.limit(f, x, 4)\n",
    "limit"
   ]
  },
  {
   "cell_type": "code",
   "execution_count": 31,
   "metadata": {},
   "outputs": [
    {
     "data": {
      "text/latex": [
       "$\\displaystyle \\frac{1}{10}$"
      ],
      "text/plain": [
       "1/10"
      ]
     },
     "execution_count": 31,
     "metadata": {},
     "output_type": "execute_result"
    }
   ],
   "source": [
    "# 3\n",
    "x = sp.symbols('x')\n",
    "\n",
    "f = (sp.cos(x/2))/(sp.E**(sp.sin(x))- sp.E**(sp.sin(4*x)))\n",
    "limit = sp.limit(f, x, sp.pi)\n",
    "limit"
   ]
  },
  {
   "cell_type": "code",
   "execution_count": 33,
   "metadata": {},
   "outputs": [
    {
     "data": {
      "text/latex": [
       "$\\displaystyle - \\frac{1}{2}$"
      ],
      "text/plain": [
       "-1/2"
      ]
     },
     "execution_count": 33,
     "metadata": {},
     "output_type": "execute_result"
    }
   ],
   "source": [
    "# 4\n",
    "\n",
    "x = sp.symbols('x')\n",
    "\n",
    "f = (sp.E**(2*x) - sp.E**(x))/(sp.sin(3*x)-sp.sin(5*x))\n",
    "limit = sp.limit(f, x, 0)\n",
    "limit"
   ]
  },
  {
   "cell_type": "code",
   "execution_count": 36,
   "metadata": {},
   "outputs": [
    {
     "data": {
      "text/latex": [
       "$\\displaystyle - \\log{\\left(2 \\right)}$"
      ],
      "text/plain": [
       "-log(2)"
      ]
     },
     "execution_count": 36,
     "metadata": {},
     "output_type": "execute_result"
    }
   ],
   "source": [
    "# 5\n",
    "\n",
    "x = sp.symbols('x')\n",
    "\n",
    "f = (1-x)/sp.log(x,2)\n",
    "limit = sp.limit(f, x, 1)\n",
    "limit"
   ]
  },
  {
   "cell_type": "code",
   "execution_count": 14,
   "metadata": {},
   "outputs": [
    {
     "data": {
      "text/latex": [
       "$\\displaystyle e^{- \\frac{1}{2}}$"
      ],
      "text/plain": [
       "exp(-1/2)"
      ]
     },
     "execution_count": 14,
     "metadata": {},
     "output_type": "execute_result"
    }
   ],
   "source": [
    "# 6\n",
    "\n",
    "x = sp.symbols('x')\n",
    "\n",
    "f = sp.cos(x)**(1/(sp.ln(1+sp.sin(x)**2)))\n",
    "limit = sp.limit(f, x, 0)\n",
    "limit"
   ]
  },
  {
   "cell_type": "code",
   "execution_count": 37,
   "metadata": {},
   "outputs": [
    {
     "data": {
      "text/latex": [
       "$\\displaystyle \\sin{\\left(2 \\right)}$"
      ],
      "text/plain": [
       "sin(2)"
      ]
     },
     "execution_count": 37,
     "metadata": {},
     "output_type": "execute_result"
    }
   ],
   "source": [
    "# 7\n",
    "x = sp.symbols('x')\n",
    "\n",
    "f = sp.sin(x+2)**(3/(3+x))\n",
    "limit = sp.limit(f, x, 0)\n",
    "limit"
   ]
  },
  {
   "cell_type": "code",
   "execution_count": 4,
   "metadata": {},
   "outputs": [
    {
     "data": {
      "text/latex": [
       "$\\displaystyle e^{-1}$"
      ],
      "text/plain": [
       "exp(-1)"
      ]
     },
     "execution_count": 4,
     "metadata": {},
     "output_type": "execute_result"
    }
   ],
   "source": [
    "# 8\n",
    "\n",
    "x = sp.symbols('x')\n",
    "\n",
    "f = sp.sin(x)**(6*sp.tan(x)*sp.tan(3*x))\n",
    "limit = sp.limit(f, x, sp.pi/2)\n",
    "limit"
   ]
  },
  {
   "cell_type": "code",
   "execution_count": 38,
   "metadata": {},
   "outputs": [
    {
     "data": {
      "text/latex": [
       "$\\displaystyle \\frac{1}{4}$"
      ],
      "text/plain": [
       "1/4"
      ]
     },
     "execution_count": 38,
     "metadata": {},
     "output_type": "execute_result"
    }
   ],
   "source": [
    "# 9\n",
    "x = sp.symbols('x')\n",
    "\n",
    "f = (((x+2)**(1/2) - 2)/(x**2-4))**(1/x)\n",
    "limit = sp.limit(f, x, 2)\n",
    "limit"
   ]
  },
  {
   "cell_type": "code",
   "execution_count": 1,
   "metadata": {},
   "outputs": [
    {
     "data": {
      "text/latex": [
       "$\\displaystyle \\frac{3}{2 - \\tan{\\left(1 \\right)}}$"
      ],
      "text/plain": [
       "3/(2 - tan(1))"
      ]
     },
     "execution_count": 1,
     "metadata": {},
     "output_type": "execute_result"
    }
   ],
   "source": [
    "# 10\n",
    "\n",
    "x = sp.symbols('x')\n",
    "\n",
    "f = ((sp.tan(x))**(1/3)*sp.atan(1/x)+3)/(2-sp.tan(1+sp.sin(x)))\n",
    "limit = sp.limit(f, x, 0)\n",
    "limit"
   ]
  }
 ],
 "metadata": {
  "kernelspec": {
   "display_name": "base",
   "language": "python",
   "name": "python3"
  },
  "language_info": {
   "codemirror_mode": {
    "name": "ipython",
    "version": 3
   },
   "file_extension": ".py",
   "mimetype": "text/x-python",
   "name": "python",
   "nbconvert_exporter": "python",
   "pygments_lexer": "ipython3",
   "version": "3.11.4"
  },
  "orig_nbformat": 4
 },
 "nbformat": 4,
 "nbformat_minor": 2
}

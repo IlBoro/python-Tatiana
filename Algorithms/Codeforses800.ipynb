{
 "cells": [
  {
   "cell_type": "markdown",
   "metadata": {},
   "source": [
    "# 01_Задача о делимости\n",
    "https://codeforces.com/problemset/problem/1328/A"
   ]
  },
  {
   "cell_type": "code",
   "execution_count": 13,
   "metadata": {},
   "outputs": [
    {
     "name": "stdout",
     "output_type": "stream",
     "text": [
      "0\n"
     ]
    }
   ],
   "source": [
    "t = int(input())\n",
    "\n",
    "for _ in range(t):\n",
    "    a, b = map(int,input().split()) # split возвращает список элементов через запятую, разделяет элементы по пробелу.\n",
    "    if a%b==0:\n",
    "\n",
    "        print(0)\n",
    "    else:\n",
    "        print(b-(a%b))\n"
   ]
  },
  {
   "cell_type": "markdown",
   "metadata": {},
   "source": [
    "# 02_Конфеты и две сестры"
   ]
  },
  {
   "cell_type": "markdown",
   "metadata": {},
   "source": [
    "https://codeforces.com/problemset/problem/1335/A"
   ]
  },
  {
   "cell_type": "code",
   "execution_count": null,
   "metadata": {},
   "outputs": [],
   "source": [
    "t = int(input())\n",
    "for _ in range(t):\n",
    "\n",
    "    num_candies = int(input()) \n",
    "    if num_candies % 2 != 0:\n",
    "        print(num_candies//2)\n",
    "    elif num_candies % 2 == 0:\n",
    "        print(num_candies // 2 - 1)\n",
    "    else:\n",
    "        print(0)"
   ]
  },
  {
   "cell_type": "markdown",
   "metadata": {},
   "source": [
    "# 03_ Необходимый остаток\n",
    "https://codeforces.com/problemset/problem/1374/A"
   ]
  },
  {
   "cell_type": "code",
   "execution_count": null,
   "metadata": {},
   "outputs": [],
   "source": [
    "t = int(input())\n",
    "for I in range(t):\n",
    "    x, y, n = map(int,input().split())\n",
    "    l = (n-y)//x\n",
    "    m = ((n-y)//x)*x+y\n",
    "    print(m)"
   ]
  },
  {
   "cell_type": "markdown",
   "metadata": {},
   "source": [
    "# 04_Плюс один на подмножестве\n",
    "https://codeforces.com/problemset/problem/1624/A"
   ]
  },
  {
   "cell_type": "code",
   "execution_count": null,
   "metadata": {},
   "outputs": [],
   "source": [
    "# excepted by codeforces\n",
    "t = int(input())\n",
    "for _ in range(t):\n",
    "    set_length = int(input())\n",
    "    entered_list = list(map(int, input().split()))\n",
    "    print(max(entered_list)- min(entered_list))"
   ]
  },
  {
   "cell_type": "markdown",
   "metadata": {},
   "source": [
    "# 05_ Подсчет функции\n",
    "https://codeforces.com/problemset/problem/486/A"
   ]
  },
  {
   "cell_type": "code",
   "execution_count": null,
   "metadata": {},
   "outputs": [],
   "source": [
    "n = int(input())\n",
    "\n",
    "if n % 2 == 0:\n",
    "    print(n // 2)\n",
    "else:\n",
    "    print(-(n // 2 + 1))"
   ]
  },
  {
   "cell_type": "code",
   "execution_count": null,
   "metadata": {},
   "outputs": [],
   "source": [
    "n = int(input())\n",
    "num = 0\n",
    "for i in range(1, n+1):\n",
    "    funct = (-1)**i*i\n",
    "    num += funct\n",
    "print(num)"
   ]
  },
  {
   "cell_type": "code",
   "execution_count": null,
   "metadata": {},
   "outputs": [],
   "source": []
  },
  {
   "cell_type": "markdown",
   "metadata": {},
   "source": [
    "# 06_Слишком длинные слова\n",
    "https://codeforces.com/problemset/problem/71/A"
   ]
  },
  {
   "cell_type": "code",
   "execution_count": null,
   "metadata": {},
   "outputs": [],
   "source": [
    "n = int(input()) # задаем количество строк =  слов, кот будут анализироваться\n",
    "\n",
    "for i in range(n):#  проходим по кадой строке по очереди: 1, 2 ...\n",
    "    word = input() # вводим слово\n",
    "    if len(word) > 10: # проверяем длину слова (=к-во символов). Если >10\n",
    "        print(word[0]+str(len(word)-2)+word[-1]) # конкаьенируем(=складываем)1й индекс+длина-2(те 1й и последний символы)+последний символ\n",
    "    else:\n",
    "        print(word)#выводим само слово"
   ]
  },
  {
   "cell_type": "markdown",
   "metadata": {},
   "source": [
    "# 07_Укладка доминошками\n",
    "https://codeforces.com/problemset/problem/50/A"
   ]
  },
  {
   "cell_type": "code",
   "execution_count": null,
   "metadata": {},
   "outputs": [],
   "source": [
    "x, y = map(int, input().split()) # map применяет функцию int  к кажому объекту input. split разделяет подоваемые объектв пробелом.\n",
    "board_size = x*y\n",
    "num_dominoes = board_size // 2\n",
    "num_dominoes"
   ]
  },
  {
   "cell_type": "markdown",
   "metadata": {},
   "source": [
    "# 08_546A Содлат и бананы\n",
    "https://codeforces.com/problemset/problem/546/A"
   ]
  },
  {
   "cell_type": "code",
   "execution_count": null,
   "metadata": {},
   "outputs": [],
   "source": [
    "k, n, w =map(int, input().split())\n",
    "\n",
    "price_all_bananas = 0\n",
    "for i in range(1, w+1):\n",
    "    price_all_bananas = i * k + price_all_bananas\n",
    "if n >= price_all_bananas:\n",
    "    print(0)\n",
    "else:\n",
    "    print(price_all_bananas-n)"
   ]
  },
  {
   "cell_type": "markdown",
   "metadata": {},
   "source": [
    "# 09_Слоник\n",
    "https://codeforces.com/problemset/problem/617/A"
   ]
  },
  {
   "cell_type": "code",
   "execution_count": null,
   "metadata": {},
   "outputs": [],
   "source": [
    "distance = int(input())\n",
    "step_size = 5\n",
    "num_steps = 0\n",
    "\n",
    "while distance != 0:\n",
    "    steps = distance // step_size\n",
    "    if steps >=1:\n",
    "        distance = distance-step_size*steps\n",
    "        num_steps += steps\n",
    "        step_size -=1\n",
    "    if steps <=0:\n",
    "        step_size -=1\n",
    "print(num_steps)"
   ]
  },
  {
   "cell_type": "markdown",
   "metadata": {},
   "source": [
    "# 10_Арбуз\n",
    "https://codeforces.com/problemset/problem/4/A"
   ]
  },
  {
   "cell_type": "code",
   "execution_count": null,
   "metadata": {},
   "outputs": [],
   "source": [
    "\n",
    "w = int(input())\n",
    "if w % 2 == 0 and w > 2:\n",
    "    print(\"yes\")\n",
    "else:\n",
    "    print(\"no\")"
   ]
  },
  {
   "cell_type": "markdown",
   "metadata": {},
   "source": [
    "# Programming on python"
   ]
  },
  {
   "cell_type": "markdown",
   "metadata": {},
   "source": [
    "## 996A Hit the lottery\n",
    "https://codeforces.com/problemset/problem/996/A"
   ]
  },
  {
   "cell_type": "code",
   "execution_count": null,
   "metadata": {},
   "outputs": [],
   "source": [
    "# my decision\n",
    "n = int(input())\n",
    "\n",
    "l = [100, 20, 10, 5, 1]\n",
    "    \n",
    "count = 0\n",
    "\n",
    "for i in l:\n",
    "    num = n//i\n",
    "    count += num\n",
    "    n = n-num*i\n",
    "print(count)\n"
   ]
  },
  {
   "cell_type": "code",
   "execution_count": null,
   "metadata": {},
   "outputs": [],
   "source": [
    "# youtube decision\n",
    "n = int(input())\n",
    "\n",
    "l = [100, 20, 10, 5, 1]\n",
    "    \n",
    "k = 0\n",
    "\n",
    "for i in l:\n",
    "    k = k + n//i\n",
    "    n = n%i\n",
    "print(k+n)"
   ]
  },
  {
   "cell_type": "markdown",
   "metadata": {},
   "source": [
    "## Задача №3468. Электронные часы - 1\n",
    "https://informatics.msk.ru/mod/statements/view3.php?id=3309&chapterid=3468#1"
   ]
  },
  {
   "cell_type": "code",
   "execution_count": 8,
   "metadata": {},
   "outputs": [
    {
     "data": {
      "text/plain": [
       "(19, 42)"
      ]
     },
     "execution_count": 8,
     "metadata": {},
     "output_type": "execute_result"
    }
   ],
   "source": [
    "#608862//60%24, 608862%60\n",
    "n = int(input())\n",
    "print(n//60%24, n%60)"
   ]
  },
  {
   "cell_type": "markdown",
   "metadata": {},
   "source": [
    "## Задача №3465. Следующее четное\n",
    "https://informatics.msk.ru/mod/statements/view3.php?id=3309&chapterid=3465#1"
   ]
  },
  {
   "cell_type": "code",
   "execution_count": 16,
   "metadata": {},
   "outputs": [
    {
     "name": "stdout",
     "output_type": "stream",
     "text": [
      "8\n"
     ]
    }
   ],
   "source": [
    "# Дано целое число n. Выведите следующее за ним четное число.\n",
    "n = 6\n",
    "print(n+2 - n%2)"
   ]
  },
  {
   "cell_type": "markdown",
   "metadata": {},
   "source": [
    "## Задача №3469. Электронные часы - 2\n",
    "https://informatics.msk.ru/mod/statements/view3.php?id=3309&chapterid=3469#1"
   ]
  },
  {
   "cell_type": "markdown",
   "metadata": {},
   "source": [
    "Электронные часы показывают время в формате h:mm:ss, то есть сначала записывается количество часов в диапазоне от 0 до 23, потом обязательно двузначное количество минут, затем обязательно двузначное количество секунд. Количество минут и секунд при необходимости дополняются до двузначного числа нулями.\n",
    "\n",
    "Программа получает на вход число n - количество секунд, которое прошло с начала суток.\n",
    "\n",
    "Выведите показания часов, соблюдая формат."
   ]
  },
  {
   "cell_type": "code",
   "execution_count": 63,
   "metadata": {},
   "outputs": [
    {
     "name": "stdout",
     "output_type": "stream",
     "text": [
      "14 : 2 1 : 0 5\n"
     ]
    }
   ],
   "source": [
    "n = 5465456465\n",
    "\n",
    "h = (n//3600)%24 #devide total sec by 3600->num of hours. To go around the clock => n%24 (for big figures) T\n",
    "n = n%3600 #lower the num of sec for the num of hours. Now 'n' holds only minutes and seconds\n",
    "m = n//60  #let's find total\n",
    "n = n%60   #\n",
    "s = n      #\n",
    "print(h,':', m//10,m%10, ':',s//10,s%10)"
   ]
  },
  {
   "cell_type": "code",
   "execution_count": 39,
   "metadata": {},
   "outputs": [
    {
     "name": "stdout",
     "output_type": "stream",
     "text": [
      "1\n"
     ]
    },
    {
     "data": {
      "text/plain": [
       "1"
      ]
     },
     "execution_count": 39,
     "metadata": {},
     "output_type": "execute_result"
    }
   ],
   "source": [
    "\n",
    "print((3721//3600)%24)\n",
    "3721%60"
   ]
  },
  {
   "cell_type": "code",
   "execution_count": 19,
   "metadata": {},
   "outputs": [
    {
     "data": {
      "text/plain": [
       "86400"
      ]
     },
     "execution_count": 19,
     "metadata": {},
     "output_type": "execute_result"
    }
   ],
   "source": [
    "60*60#  = 3600 # sec in h\n",
    "60*60*24 # 86400 sec in a day\n"
   ]
  },
  {
   "cell_type": "code",
   "execution_count": 7,
   "metadata": {},
   "outputs": [
    {
     "name": "stdout",
     "output_type": "stream",
     "text": [
      "3\n"
     ]
    }
   ],
   "source": [
    "import math\n",
    "# n = int(input())\n",
    "#n, m = map(int,input().split())\n",
    "n =9\n",
    "# m = 14\n",
    "print(math.ceil(n/4)) # ceil - округление вверх"
   ]
  },
  {
   "cell_type": "code",
   "execution_count": 27,
   "metadata": {},
   "outputs": [
    {
     "name": "stdout",
     "output_type": "stream",
     "text": [
      "10\n"
     ]
    }
   ],
   "source": [
    "\n",
    "# l, w, h = map(int,input().split())\n",
    "l = 5\n",
    "w = 6\n",
    "h = 7\n",
    "print(math.ceil(h*(w+l)/8))\n"
   ]
  },
  {
   "cell_type": "code",
   "execution_count": 3,
   "metadata": {},
   "outputs": [
    {
     "name": "stdout",
     "output_type": "stream",
     "text": [
      "Simvol code A is 65.\n",
      "Simvol code , is 44.\n",
      "Simvol code y is 121."
     ]
    }
   ],
   "source": [
    "n = 'A' \n",
    "m = ',' \n",
    "k = 'y'\n",
    "# print(ord(n),ord(m), ord(k) )\n",
    "\n",
    "print('Simvol code',n ,'is', ord(n),end='.\\n')# \\n - перенос на следующую строку\n",
    "print('Simvol code', m, 'is', ord(m),end='.\\n') # .\\n - ставим в конце строки точку, а после перенос на след. стрроку.\n",
    "print('Simvol code', k, 'is', ord(k), end = '.')\n",
    "\n",
    "#print('Simvol code q is', ord(n), '\\n','Simvol code q is', ord(m), '\\n','Simvol code q is', ord(k))"
   ]
  },
  {
   "cell_type": "code",
   "execution_count": 7,
   "metadata": {},
   "outputs": [
    {
     "name": "stdout",
     "output_type": "stream",
     "text": [
      "ПРО\n",
      "граммирова\n",
      "НИЕ\n"
     ]
    }
   ],
   "source": [
    "#n = input()\n",
    "n= 'прогРаммирОВАНИЕ'\n",
    "#b = n[3:len(n)-3]\n",
    "print(n[:3].upper())\n",
    "print(n[3:len(n)-3].lower())\n",
    "print(n[-3:].upper())"
   ]
  },
  {
   "cell_type": "code",
   "execution_count": 30,
   "metadata": {},
   "outputs": [
    {
     "name": "stdout",
     "output_type": "stream",
     "text": [
      ".c.d.f.r.c.s\n"
     ]
    }
   ],
   "source": [
    "s = \"CodeForces\"\n",
    "s = s.lower()\n",
    "s = s.replace('a', '') # replace - замена символов. Те заменяем 'a' на ''.\n",
    "s = s.replace('e', '')\n",
    "s = s.replace('i', '')\n",
    "s = s.replace('o', '')\n",
    "s = s.replace('u', '')\n",
    "s = s.replace('y', '')\n",
    "s = '.'.join(s)\n",
    "s = '.'+ s\n",
    "print(s)"
   ]
  },
  {
   "cell_type": "markdown",
   "metadata": {},
   "source": [
    "# \t200B - Напитки\n",
    "https://codeforces.com/problemset/problem/200/B"
   ]
  },
  {
   "cell_type": "code",
   "execution_count": 1,
   "metadata": {},
   "outputs": [],
   "source": [
    "n = int(input())# number of baverages\n",
    "sum = 0 #  strip() -  убирает пробелы слева и справа от вводимого числа\n",
    "for x in input().strip().split(): # программа запрашивает ввод n чисел, разделенных пробелами, и суммирует их. \n",
    "    sum += int(x)\n",
    "print(sum/n)"
   ]
  },
  {
   "cell_type": "markdown",
   "metadata": {},
   "source": [
    "# # 231 A. Команда\n",
    "https://codeforces.com/problemset/problem/231/A"
   ]
  },
  {
   "cell_type": "code",
   "execution_count": null,
   "metadata": {},
   "outputs": [],
   "source": [
    "# Accepted\n",
    "\n",
    "n = int(input())# number of tasks\n",
    "count =0 #  счетчик количества сумм >2\n",
    "while n>0: # подсчитываем сумму для каждой задачи \n",
    "    if sum(list(map(int,input().split())))>=2: # Записыает построчно задачи и создает список и в списке ситвет сумму.Если сумму >2\n",
    "        count+=1 # то увеличиваем счетчик на 1\n",
    "    n-=1  # отнимаем 1 отработанную задачу от общего количества\n",
    "print(count)"
   ]
  },
  {
   "cell_type": "markdown",
   "metadata": {},
   "source": [
    "# 263A - Красивая матрица\n",
    "https://codeforces.com/problemset/problem/263/A\n"
   ]
  },
  {
   "cell_type": "code",
   "execution_count": null,
   "metadata": {},
   "outputs": [],
   "source": [
    "# вводим данные и создаем матрицу \n",
    "matrix = [] # \n",
    "for i in range(5):# 5 раз вызываются строки со значекниями\n",
    "    matrix.append(list(map(int, input().split()))) # цифры вводятся с клавиатуры, из них формир-ся список и этот список подается в матрицу\n",
    "\n",
    "# Ищем адрес единичного элемента в матрице\n",
    "for i in range(5): # проходимся по каждой строке матрицы\n",
    "    for j in range(5): # проходимся по кажому столбцу матрицы\n",
    "        if matrix[i][j]==1:# если элемент матрицы=1,то сохраняем его адрес\n",
    "            row = i # строка в переменную row\n",
    "            col = j # столбец в переменную col\n",
    "# Середина матрица 5х5 - это 2 строка; 2 столбец\n",
    "# 2 - позиция 1 => на сколько надо сместится по ряду и столбцу\n",
    "print(abs(2-row)+ abs(2-col)) # сумма смещения  = к-во требуемых смещений"
   ]
  },
  {
   "cell_type": "code",
   "execution_count": null,
   "metadata": {},
   "outputs": [],
   "source": [
    "# вывод матрицы\n",
    "for i in matrix:\n",
    "    print(*i)# выводим все строки"
   ]
  },
  {
   "cell_type": "markdown",
   "metadata": {},
   "source": [
    "# \t148A - Средство от бессонницы\n",
    "\n",
    "https://codeforces.com/problemset/problem/148/A"
   ]
  },
  {
   "cell_type": "code",
   "execution_count": 1,
   "metadata": {},
   "outputs": [
    {
     "name": "stdout",
     "output_type": "stream",
     "text": [
      "12\n"
     ]
    }
   ],
   "source": [
    "k = int(input())\n",
    "l = int(input())\n",
    "m = int(input())\n",
    "n = int(input())\n",
    "\n",
    "d =  int(input())\n",
    "\n",
    "dragons = 0 # счетчик покалеченных драконов\n",
    "\n",
    "for i in range(1,d+1): # проходимся по драконам\n",
    "    if any(i%x==0 for x in [k, l, m, n]):# если к-во драконов делится полностью на к-вл поврежденных\n",
    "        dragons+=1\n",
    "print(dragons)\n"
   ]
  },
  {
   "cell_type": "code",
   "execution_count": 2,
   "metadata": {},
   "outputs": [
    {
     "name": "stdout",
     "output_type": "stream",
     "text": [
      "True\n",
      "False\n"
     ]
    }
   ],
   "source": [
    "print(any(14%x==0 for x in [1, 2, 3, 4]))\n",
    "print(all(14%x==0 for x in [1, 2, 3, 4]))"
   ]
  },
  {
   "cell_type": "markdown",
   "metadata": {},
   "source": [
    "# 158A Хипстер Вася\n",
    "\n",
    "https://codeforces.com/problemset/problem/581/A"
   ]
  },
  {
   "cell_type": "code",
   "execution_count": null,
   "metadata": {},
   "outputs": [],
   "source": [
    "\n",
    "a, b = map(int, input().split())# \n",
    "max_socks = max(a, b) # holds max quantity of socks: either type a or b\n",
    "rest_socks = abs(a-b) # number of socks left of one type after pairs of different types of socks have bben mached \n",
    "similar_days = abs(a-b)//2 # number of days when similar socks will be weared\n",
    "dif_days = abs(max_socks -rest_socks) # number of days when different socks will be weared\n",
    "# print(rest_socks, max_socks)\n",
    "print(dif_days, similar_days) #"
   ]
  },
  {
   "cell_type": "markdown",
   "metadata": {},
   "source": [
    "#  1154 A Восстановление трех чисел\n",
    "https://codeforces.com/problemset/problem/1154/A"
   ]
  },
  {
   "cell_type": "code",
   "execution_count": 79,
   "metadata": {},
   "outputs": [
    {
     "name": "stdout",
     "output_type": "stream",
     "text": [
      "201 [101, 101, 200]\n",
      "100 100 1\n"
     ]
    }
   ],
   "source": [
    "# Accepted\n",
    "summs_4 = list(map(int, input().split())) #\n",
    "\n",
    "summs_4.sort() # сортируем значения в списке\n",
    "# print(summs_4)\n",
    "max_sum = summs_4[-1] # выводим максимальную сумму (a+b+c)\n",
    "del summs_4[-1]# удаляем максимальную сумму из списка. Остался список трех сумм из 2-х значений\n",
    "# print(max_sum, summs_4)\n",
    "print(max_sum-summs_4[0], max_sum-summs_4[1], max_sum-summs_4[2])"
   ]
  }
 ],
 "metadata": {
  "kernelspec": {
   "display_name": "base",
   "language": "python",
   "name": "python3"
  },
  "language_info": {
   "codemirror_mode": {
    "name": "ipython",
    "version": 3
   },
   "file_extension": ".py",
   "mimetype": "text/x-python",
   "name": "python",
   "nbconvert_exporter": "python",
   "pygments_lexer": "ipython3",
   "version": "3.11.4"
  },
  "orig_nbformat": 4
 },
 "nbformat": 4,
 "nbformat_minor": 2
}

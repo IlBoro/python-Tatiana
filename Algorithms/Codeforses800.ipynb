{
 "cells": [
  {
   "cell_type": "markdown",
   "metadata": {},
   "source": [
    "# 01_Задача о делимости\n",
    "https://codeforces.com/problemset/problem/1328/A"
   ]
  },
  {
   "cell_type": "code",
   "execution_count": 13,
   "metadata": {},
   "outputs": [
    {
     "name": "stdout",
     "output_type": "stream",
     "text": [
      "0\n"
     ]
    }
   ],
   "source": [
    "t = int(input())\n",
    "\n",
    "for _ in range(t):\n",
    "    a, b = map(int,input().split()) # split возвращает список элементов через запятую, разделяет элементы по пробелу.\n",
    "    if a%b==0:\n",
    "\n",
    "        print(0)\n",
    "    else:\n",
    "        print(b-(a%b))\n"
   ]
  },
  {
   "cell_type": "markdown",
   "metadata": {},
   "source": [
    "# 02_Конфеты и две сестры"
   ]
  },
  {
   "cell_type": "markdown",
   "metadata": {},
   "source": [
    "https://codeforces.com/problemset/problem/1335/A"
   ]
  },
  {
   "cell_type": "code",
   "execution_count": null,
   "metadata": {},
   "outputs": [],
   "source": [
    "t = int(input())\n",
    "for _ in range(t):\n",
    "\n",
    "    num_candies = int(input()) \n",
    "    if num_candies % 2 != 0:\n",
    "        print(num_candies//2)\n",
    "    elif num_candies % 2 == 0:\n",
    "        print(num_candies // 2 - 1)\n",
    "    else:\n",
    "        print(0)"
   ]
  },
  {
   "cell_type": "markdown",
   "metadata": {},
   "source": [
    "# 03_ Необходимый остаток\n",
    "https://codeforces.com/problemset/problem/1374/A"
   ]
  },
  {
   "cell_type": "code",
   "execution_count": null,
   "metadata": {},
   "outputs": [],
   "source": [
    "t = int(input())\n",
    "for I in range(t):\n",
    "    x, y, n = map(int,input().split())\n",
    "    l = (n-y)//x\n",
    "    m = ((n-y)//x)*x+y\n",
    "    print(m)"
   ]
  },
  {
   "cell_type": "markdown",
   "metadata": {},
   "source": [
    "# 04_Плюс один на подмножестве\n",
    "https://codeforces.com/problemset/problem/1624/A"
   ]
  },
  {
   "cell_type": "code",
   "execution_count": null,
   "metadata": {},
   "outputs": [],
   "source": [
    "# excepted by codeforces\n",
    "t = int(input())\n",
    "for _ in range(t):\n",
    "    set_length = int(input())\n",
    "    entered_list = list(map(int, input().split()))\n",
    "    print(max(entered_list)- min(entered_list))"
   ]
  },
  {
   "cell_type": "markdown",
   "metadata": {},
   "source": [
    "# 05_ Подсчет функции\n",
    "https://codeforces.com/problemset/problem/486/A"
   ]
  },
  {
   "cell_type": "code",
   "execution_count": null,
   "metadata": {},
   "outputs": [],
   "source": [
    "n = int(input())\n",
    "\n",
    "if n % 2 == 0:\n",
    "    print(n // 2)\n",
    "else:\n",
    "    print(-(n // 2 + 1))"
   ]
  },
  {
   "cell_type": "code",
   "execution_count": null,
   "metadata": {},
   "outputs": [],
   "source": [
    "n = int(input())\n",
    "num = 0\n",
    "for i in range(1, n+1):\n",
    "    funct = (-1)**i*i\n",
    "    num += funct\n",
    "print(num)"
   ]
  },
  {
   "cell_type": "code",
   "execution_count": null,
   "metadata": {},
   "outputs": [],
   "source": []
  },
  {
   "cell_type": "markdown",
   "metadata": {},
   "source": [
    "# 06_Слишком длинные слова\n",
    "https://codeforces.com/problemset/problem/71/A"
   ]
  },
  {
   "cell_type": "code",
   "execution_count": null,
   "metadata": {},
   "outputs": [],
   "source": [
    "n = int(input()) # задаем количество строк =  слов, кот будут анализироваться\n",
    "\n",
    "for i in range(n):#  проходим по кадой строке по очереди: 1, 2 ...\n",
    "    word = input() # вводим слово\n",
    "    if len(word) > 10: # проверяем длину слова (=к-во символов). Если >10\n",
    "        print(word[0]+str(len(word)-2)+word[-1]) # конкаьенируем(=складываем)1й индекс+длина-2(те 1й и последний символы)+последний символ\n",
    "    else:\n",
    "        print(word)#выводим само слово"
   ]
  },
  {
   "cell_type": "markdown",
   "metadata": {},
   "source": [
    "# 07_Укладка доминошками\n",
    "https://codeforces.com/problemset/problem/50/A"
   ]
  },
  {
   "cell_type": "code",
   "execution_count": null,
   "metadata": {},
   "outputs": [],
   "source": [
    "x, y = map(int, input().split()) # map применяет функцию int  к кажому объекту input. split разделяет подоваемые объектв пробелом.\n",
    "board_size = x*y\n",
    "num_dominoes = board_size // 2\n",
    "num_dominoes"
   ]
  },
  {
   "cell_type": "markdown",
   "metadata": {},
   "source": [
    "# 08_546A Содлат и бананы\n",
    "https://codeforces.com/problemset/problem/546/A"
   ]
  },
  {
   "cell_type": "code",
   "execution_count": null,
   "metadata": {},
   "outputs": [],
   "source": [
    "k, n, w =map(int, input().split())\n",
    "\n",
    "price_all_bananas = 0\n",
    "for i in range(1, w+1):\n",
    "    price_all_bananas = i * k + price_all_bananas\n",
    "if n >= price_all_bananas:\n",
    "    print(0)\n",
    "else:\n",
    "    print(price_all_bananas-n)"
   ]
  },
  {
   "cell_type": "markdown",
   "metadata": {},
   "source": [
    "# 09_Слоник\n",
    "https://codeforces.com/problemset/problem/617/A"
   ]
  },
  {
   "cell_type": "code",
   "execution_count": null,
   "metadata": {},
   "outputs": [],
   "source": [
    "distance = int(input())\n",
    "step_size = 5\n",
    "num_steps = 0\n",
    "\n",
    "while distance != 0:\n",
    "    steps = distance // step_size\n",
    "    if steps >=1:\n",
    "        distance = distance-step_size*steps\n",
    "        num_steps += steps\n",
    "        step_size -=1\n",
    "    if steps <=0:\n",
    "        step_size -=1\n",
    "print(num_steps)"
   ]
  },
  {
   "cell_type": "markdown",
   "metadata": {},
   "source": [
    "# 10_Арбуз\n",
    "https://codeforces.com/problemset/problem/4/A"
   ]
  },
  {
   "cell_type": "code",
   "execution_count": null,
   "metadata": {},
   "outputs": [],
   "source": [
    "\n",
    "w = int(input())\n",
    "if w % 2 == 0 and w > 2:\n",
    "    print(\"yes\")\n",
    "else:\n",
    "    print(\"no\")"
   ]
  },
  {
   "cell_type": "markdown",
   "metadata": {},
   "source": [
    "# Programming on python"
   ]
  },
  {
   "cell_type": "markdown",
   "metadata": {},
   "source": [
    "## 996A Hit the lottery\n",
    "https://codeforces.com/problemset/problem/996/A"
   ]
  },
  {
   "cell_type": "code",
   "execution_count": null,
   "metadata": {},
   "outputs": [],
   "source": [
    "# my decision\n",
    "n = int(input())\n",
    "\n",
    "l = [100, 20, 10, 5, 1]\n",
    "    \n",
    "count = 0\n",
    "\n",
    "for i in l:\n",
    "    num = n//i\n",
    "    count += num\n",
    "    n = n-num*i\n",
    "print(count)\n"
   ]
  },
  {
   "cell_type": "code",
   "execution_count": null,
   "metadata": {},
   "outputs": [],
   "source": [
    "# youtube decision\n",
    "n = int(input())\n",
    "\n",
    "l = [100, 20, 10, 5, 1]\n",
    "    \n",
    "k = 0\n",
    "\n",
    "for i in l:\n",
    "    k = k + n//i\n",
    "    n = n%i\n",
    "print(k+n)"
   ]
  },
  {
   "cell_type": "markdown",
   "metadata": {},
   "source": [
    "## Задача №3468. Электронные часы - 1\n",
    "https://informatics.msk.ru/mod/statements/view3.php?id=3309&chapterid=3468#1"
   ]
  },
  {
   "cell_type": "code",
   "execution_count": 8,
   "metadata": {},
   "outputs": [
    {
     "data": {
      "text/plain": [
       "(19, 42)"
      ]
     },
     "execution_count": 8,
     "metadata": {},
     "output_type": "execute_result"
    }
   ],
   "source": [
    "#608862//60%24, 608862%60\n",
    "n = int(input())\n",
    "print(n//60%24, n%60)"
   ]
  },
  {
   "cell_type": "markdown",
   "metadata": {},
   "source": [
    "## Задача №3465. Следующее четное\n",
    "https://informatics.msk.ru/mod/statements/view3.php?id=3309&chapterid=3465#1"
   ]
  },
  {
   "cell_type": "code",
   "execution_count": 16,
   "metadata": {},
   "outputs": [
    {
     "name": "stdout",
     "output_type": "stream",
     "text": [
      "8\n"
     ]
    }
   ],
   "source": [
    "# Дано целое число n. Выведите следующее за ним четное число.\n",
    "n = 6\n",
    "print(n+2 - n%2)"
   ]
  },
  {
   "cell_type": "markdown",
   "metadata": {},
   "source": [
    "## Задача №3469. Электронные часы - 2\n",
    "https://informatics.msk.ru/mod/statements/view3.php?id=3309&chapterid=3469#1"
   ]
  },
  {
   "cell_type": "markdown",
   "metadata": {},
   "source": [
    "Электронные часы показывают время в формате h:mm:ss, то есть сначала записывается количество часов в диапазоне от 0 до 23, потом обязательно двузначное количество минут, затем обязательно двузначное количество секунд. Количество минут и секунд при необходимости дополняются до двузначного числа нулями.\n",
    "\n",
    "Программа получает на вход число n - количество секунд, которое прошло с начала суток.\n",
    "\n",
    "Выведите показания часов, соблюдая формат."
   ]
  },
  {
   "cell_type": "code",
   "execution_count": 63,
   "metadata": {},
   "outputs": [
    {
     "name": "stdout",
     "output_type": "stream",
     "text": [
      "14 : 2 1 : 0 5\n"
     ]
    }
   ],
   "source": [
    "n = 5465456465\n",
    "\n",
    "h = (n//3600)%24 #devide total sec by 3600->num of hours. To go around the clock => n%24 (for big figures) T\n",
    "n = n%3600 #lower the num of sec for the num of hours. Now 'n' holds only minutes and seconds\n",
    "m = n//60  #let's find total\n",
    "n = n%60   #\n",
    "s = n      #\n",
    "print(h,':', m//10,m%10, ':',s//10,s%10)"
   ]
  },
  {
   "cell_type": "code",
   "execution_count": 39,
   "metadata": {},
   "outputs": [
    {
     "name": "stdout",
     "output_type": "stream",
     "text": [
      "1\n"
     ]
    },
    {
     "data": {
      "text/plain": [
       "1"
      ]
     },
     "execution_count": 39,
     "metadata": {},
     "output_type": "execute_result"
    }
   ],
   "source": [
    "\n",
    "print((3721//3600)%24)\n",
    "3721%60"
   ]
  },
  {
   "cell_type": "code",
   "execution_count": 19,
   "metadata": {},
   "outputs": [
    {
     "data": {
      "text/plain": [
       "86400"
      ]
     },
     "execution_count": 19,
     "metadata": {},
     "output_type": "execute_result"
    }
   ],
   "source": [
    "60*60#  = 3600 # sec in h\n",
    "60*60*24 # 86400 sec in a day\n"
   ]
  },
  {
   "cell_type": "code",
   "execution_count": 7,
   "metadata": {},
   "outputs": [
    {
     "name": "stdout",
     "output_type": "stream",
     "text": [
      "3\n"
     ]
    }
   ],
   "source": [
    "import math\n",
    "# n = int(input())\n",
    "#n, m = map(int,input().split())\n",
    "n =9\n",
    "# m = 14\n",
    "print(math.ceil(n/4)) # ceil - округление вверх"
   ]
  },
  {
   "cell_type": "code",
   "execution_count": 27,
   "metadata": {},
   "outputs": [
    {
     "name": "stdout",
     "output_type": "stream",
     "text": [
      "10\n"
     ]
    }
   ],
   "source": [
    "\n",
    "# l, w, h = map(int,input().split())\n",
    "l = 5\n",
    "w = 6\n",
    "h = 7\n",
    "print(math.ceil(h*(w+l)/8))\n"
   ]
  },
  {
   "cell_type": "code",
   "execution_count": 3,
   "metadata": {},
   "outputs": [
    {
     "name": "stdout",
     "output_type": "stream",
     "text": [
      "Simvol code A is 65.\n",
      "Simvol code , is 44.\n",
      "Simvol code y is 121."
     ]
    }
   ],
   "source": [
    "n = 'A' \n",
    "m = ',' \n",
    "k = 'y'\n",
    "# print(ord(n),ord(m), ord(k) )\n",
    "\n",
    "print('Simvol code',n ,'is', ord(n),end='.\\n')# \\n - перенос на следующую строку\n",
    "print('Simvol code', m, 'is', ord(m),end='.\\n') # .\\n - ставим в конце строки точку, а после перенос на след. стрроку.\n",
    "print('Simvol code', k, 'is', ord(k), end = '.')\n",
    "\n",
    "#print('Simvol code q is', ord(n), '\\n','Simvol code q is', ord(m), '\\n','Simvol code q is', ord(k))"
   ]
  },
  {
   "cell_type": "code",
   "execution_count": 7,
   "metadata": {},
   "outputs": [
    {
     "name": "stdout",
     "output_type": "stream",
     "text": [
      "ПРО\n",
      "граммирова\n",
      "НИЕ\n"
     ]
    }
   ],
   "source": [
    "#n = input()\n",
    "n= 'прогРаммирОВАНИЕ'\n",
    "#b = n[3:len(n)-3]\n",
    "print(n[:3].upper())\n",
    "print(n[3:len(n)-3].lower())\n",
    "print(n[-3:].upper())"
   ]
  },
  {
   "cell_type": "code",
   "execution_count": 30,
   "metadata": {},
   "outputs": [
    {
     "name": "stdout",
     "output_type": "stream",
     "text": [
      ".c.d.f.r.c.s\n"
     ]
    }
   ],
   "source": [
    "s = \"CodeForces\"\n",
    "s = s.lower()\n",
    "s = s.replace('a', '') # replace - замена символов. Те заменяем 'a' на ''.\n",
    "s = s.replace('e', '')\n",
    "s = s.replace('i', '')\n",
    "s = s.replace('o', '')\n",
    "s = s.replace('u', '')\n",
    "s = s.replace('y', '')\n",
    "s = '.'.join(s)\n",
    "s = '.'+ s\n",
    "print(s)"
   ]
  },
  {
   "cell_type": "markdown",
   "metadata": {},
   "source": [
    "# \t200B - Напитки\n",
    "https://codeforces.com/problemset/problem/200/B"
   ]
  },
  {
   "cell_type": "code",
   "execution_count": 1,
   "metadata": {},
   "outputs": [],
   "source": [
    "n = int(input())# number of baverages\n",
    "sum = 0 #  strip() -  убирает пробелы слева и справа от вводимого числа\n",
    "for x in input().strip().split(): # программа запрашивает ввод n чисел, разделенных пробелами, и суммирует их. \n",
    "    sum += int(x)\n",
    "print(sum/n)"
   ]
  },
  {
   "cell_type": "markdown",
   "metadata": {},
   "source": [
    "# # 231 A. Команда\n",
    "https://codeforces.com/problemset/problem/231/A"
   ]
  },
  {
   "cell_type": "code",
   "execution_count": null,
   "metadata": {},
   "outputs": [],
   "source": [
    "# Accepted\n",
    "\n",
    "n = int(input())# number of tasks\n",
    "count =0 #  счетчик количества сумм >2\n",
    "while n>0: # подсчитываем сумму для каждой задачи \n",
    "    if sum(list(map(int,input().split())))>=2: # Записыает построчно задачи и создает список и в списке ситвет сумму.Если сумму >2\n",
    "        count+=1 # то увеличиваем счетчик на 1\n",
    "    n-=1  # отнимаем 1 отработанную задачу от общего количества\n",
    "print(count)"
   ]
  },
  {
   "cell_type": "markdown",
   "metadata": {},
   "source": [
    "# 263A - Красивая матрица\n",
    "https://codeforces.com/problemset/problem/263/A\n"
   ]
  },
  {
   "cell_type": "code",
   "execution_count": null,
   "metadata": {},
   "outputs": [],
   "source": [
    "# вводим данные и создаем матрицу \n",
    "matrix = [] # \n",
    "for i in range(5):# 5 раз вызываются строки со значекниями\n",
    "    matrix.append(list(map(int, input().split()))) # цифры вводятся с клавиатуры, из них формир-ся список и этот список подается в матрицу\n",
    "\n",
    "# Ищем адрес единичного элемента в матрице\n",
    "for i in range(5): # проходимся по каждой строке матрицы\n",
    "    for j in range(5): # проходимся по кажому столбцу матрицы\n",
    "        if matrix[i][j]==1:# если элемент матрицы=1,то сохраняем его адрес\n",
    "            row = i # строка в переменную row\n",
    "            col = j # столбец в переменную col\n",
    "# Середина матрица 5х5 - это 2 строка; 2 столбец\n",
    "# 2 - позиция 1 => на сколько надо сместится по ряду и столбцу\n",
    "print(abs(2-row)+ abs(2-col)) # сумма смещения  = к-во требуемых смещений"
   ]
  },
  {
   "cell_type": "code",
   "execution_count": null,
   "metadata": {},
   "outputs": [],
   "source": [
    "# вывод матрицы\n",
    "for i in matrix:\n",
    "    print(*i)# выводим все строки"
   ]
  },
  {
   "cell_type": "markdown",
   "metadata": {},
   "source": [
    "# \t148A - Средство от бессонницы\n",
    "\n",
    "https://codeforces.com/problemset/problem/148/A"
   ]
  },
  {
   "cell_type": "code",
   "execution_count": 1,
   "metadata": {},
   "outputs": [
    {
     "name": "stdout",
     "output_type": "stream",
     "text": [
      "12\n"
     ]
    }
   ],
   "source": [
    "k = int(input())\n",
    "l = int(input())\n",
    "m = int(input())\n",
    "n = int(input())\n",
    "\n",
    "d =  int(input())\n",
    "\n",
    "dragons = 0 # счетчик покалеченных драконов\n",
    "\n",
    "for i in range(1,d+1): # проходимся по драконам\n",
    "    if any(i%x==0 for x in [k, l, m, n]):# если к-во драконов делится полностью на к-вл поврежденных\n",
    "        dragons+=1\n",
    "print(dragons)\n"
   ]
  },
  {
   "cell_type": "code",
   "execution_count": 2,
   "metadata": {},
   "outputs": [
    {
     "name": "stdout",
     "output_type": "stream",
     "text": [
      "True\n",
      "False\n"
     ]
    }
   ],
   "source": [
    "print(any(14%x==0 for x in [1, 2, 3, 4]))\n",
    "print(all(14%x==0 for x in [1, 2, 3, 4]))"
   ]
  },
  {
   "cell_type": "markdown",
   "metadata": {},
   "source": [
    "# 158A Хипстер Вася\n",
    "\n",
    "https://codeforces.com/problemset/problem/581/A"
   ]
  },
  {
   "cell_type": "code",
   "execution_count": null,
   "metadata": {},
   "outputs": [],
   "source": [
    "\n",
    "a, b = map(int, input().split())# \n",
    "max_socks = max(a, b) # holds max quantity of socks: either type a or b\n",
    "rest_socks = abs(a-b) # number of socks left of one type after pairs of different types of socks have bben mached \n",
    "similar_days = abs(a-b)//2 # number of days when similar socks will be weared\n",
    "dif_days = abs(max_socks -rest_socks) # number of days when different socks will be weared\n",
    "# print(rest_socks, max_socks)\n",
    "print(dif_days, similar_days) #"
   ]
  },
  {
   "cell_type": "markdown",
   "metadata": {},
   "source": [
    "#  1154 A Восстановление трех чисел\n",
    "https://codeforces.com/problemset/problem/1154/A"
   ]
  },
  {
   "cell_type": "code",
   "execution_count": null,
   "metadata": {},
   "outputs": [],
   "source": [
    "# Accepted\n",
    "\n",
    "summs_4 = list(map(int, input().split())) #\n",
    "\n",
    "summs_4.sort() # сортируем значения в списке\n",
    "# print(summs_4)\n",
    "max_sum = summs_4[-1] # выводим максимальную сумму (a+b+c)\n",
    "del summs_4[-1]# удаляем максимальную сумму из списка. Остался список трех сумм из 2-х значений\n",
    "# print(max_sum, summs_4) g  \n",
    "\n",
    "print(max_sum-summs_4[0], max_sum-summs_4[1], max_sum-summs_4[2])"
   ]
  },
  {
   "cell_type": "code",
   "execution_count": 2,
   "metadata": {},
   "outputs": [
    {
     "name": "stdout",
     "output_type": "stream",
     "text": [
      "['Luigi', 'Bowser', 'Mario']\n"
     ]
    }
   ],
   "source": [
    "racers =  [\"Mario\", \"Bowser\", \"Luigi\"]\n",
    "\n",
    "racers[0], racers[-1] = racers[-1], racers[0]\n",
    "\n",
    "print(racers)"
   ]
  },
  {
   "cell_type": "code",
   "execution_count": 24,
   "metadata": {},
   "outputs": [],
   "source": [
    "#arrivals = [['Adela', 'Fleda', 'Owen', 'May', 'Mona', 'Gilbert', 'Ford'], 'Adela']\n",
    "# arrivals=['Adela', 'Fleda', 'Owen', 'May', 'Mona', 'Gilbert', 'Ford']\n",
    "\n",
    "# # name =  arrivals[-1]\n",
    "# name = \"Mona\"\n",
    "\n",
    "# arrivals=['Adela', 'Fleda', 'Owen', 'May', 'Mona', 'Gilbert', 'Ford']\n",
    "# name = 'May'\n",
    "\n",
    "arrivals=['Paul', 'John', 'Ringo', 'George']\n",
    "name='Ringo' # T"
   ]
  },
  {
   "cell_type": "code",
   "execution_count": 25,
   "metadata": {},
   "outputs": [
    {
     "data": {
      "text/plain": [
       "True"
      ]
     },
     "execution_count": 25,
     "metadata": {},
     "output_type": "execute_result"
    }
   ],
   "source": [
    "mid_id = len(arrivals)//2 \n",
    "if len(arrivals)%2 != 0:\n",
    "# middle index \n",
    "    fashionably_late = arrivals[mid_id+1:-1]\n",
    "else:\n",
    "    fashionably_late = arrivals[mid_id:-1]\n",
    "\n",
    "\n",
    "name in fashionably_late"
   ]
  },
  {
   "cell_type": "code",
   "execution_count": 21,
   "metadata": {},
   "outputs": [
    {
     "data": {
      "text/plain": [
       "['Mona', 'Gilbert']"
      ]
     },
     "execution_count": 21,
     "metadata": {},
     "output_type": "execute_result"
    }
   ],
   "source": [
    "fashionably_late"
   ]
  },
  {
   "cell_type": "code",
   "execution_count": 31,
   "metadata": {},
   "outputs": [],
   "source": [
    "num = int(input())\n",
    "d = 0\n",
    "for i in range(2, num//2+1):\n",
    "    if num % i ==0:\n",
    "        d+=1\n",
    "        break\n",
    "    result = 'simple' if d == 0 else 'not simple'"
   ]
  },
  {
   "cell_type": "markdown",
   "metadata": {},
   "source": [
    "# 723 A Новый год встреча друзей\n",
    "https://codeforces.com/problemset/problem/723/A"
   ]
  },
  {
   "cell_type": "code",
   "execution_count": 4,
   "metadata": {},
   "outputs": [
    {
     "data": {
      "text/plain": [
       "[10, 20, 30]"
      ]
     },
     "execution_count": 4,
     "metadata": {},
     "output_type": "execute_result"
    }
   ],
   "source": [
    "friends = list(map(int, input().split(' ')))# вводим последовательно x1,x2,x3: 7 1 4\n",
    "friends.sort()# отсортируем дома по порядку расположения\n",
    "friends"
   ]
  },
  {
   "cell_type": "code",
   "execution_count": 6,
   "metadata": {},
   "outputs": [
    {
     "name": "stdout",
     "output_type": "stream",
     "text": [
      "20\n"
     ]
    }
   ],
   "source": [
    "# distance = (friends[2] - friends[0])# V -1 \n",
    "distance = (friends[2] - friends[1]) + (friends[1] - friends[0]) # V2\n",
    "print(distance)"
   ]
  },
  {
   "cell_type": "markdown",
   "metadata": {},
   "source": [
    "# A. Сумма круглых чисел\n",
    "https://codeforces.com/problemset/problem/1352/A"
   ]
  },
  {
   "cell_type": "code",
   "execution_count": null,
   "metadata": {},
   "outputs": [],
   "source": [
    "for s in[*open(0)][1:]:# enter the number of numbersin the first row\n",
    "    # read every next number and put it in a list\n",
    "    \n",
    "    a=[c+i*'0'for i,c in enumerate(s[-2::-1])if'0'<c]\n",
    "    \n",
    "    print(len(a),*a)"
   ]
  },
  {
   "cell_type": "code",
   "execution_count": 16,
   "metadata": {},
   "outputs": [
    {
     "name": "stdout",
     "output_type": "stream",
     "text": [
      "2 5000 9\n"
     ]
    }
   ],
   "source": [
    "a = [5000, 9]\n",
    "print(len(a),*a) "
   ]
  },
  {
   "cell_type": "code",
   "execution_count": 11,
   "metadata": {},
   "outputs": [
    {
     "name": "stdout",
     "output_type": "stream",
     "text": [
      "[4, 3, 2, 1]\n",
      "0 4\n",
      "1 3\n",
      "2 2\n",
      "3 1\n"
     ]
    }
   ],
   "source": [
    "s = [1 ,2, 3, 4 ,5 ] #\n",
    "print(s[-2::-1]) # choose index 2d index from the end and move backwards.Thus create a new list\n",
    "# print(s[-2::1])\n",
    "\n",
    "for i,c in enumerate(s[-2::-1]):\n",
    "    print(i, c)\n",
    "# 0 4 # i - index of the digit , 4 - the digit itself \n",
    "# 1 3\n",
    "# 2 2\n",
    "# 3 1"
   ]
  },
  {
   "cell_type": "markdown",
   "metadata": {},
   "source": [
    "В данном коде создается список a, который получается на основе переменной s.\n",
    "\n",
    "1. s[-2::-1] - это срез строки s со второго символа c конца до начала, задом наперед. \n",
    "   Например, если s = \"12345\", то s[-2::-1] будет равно \"4321\".\n",
    "   \n",
    "2. enumerate(s[-2::-1]) - перечисляет символы полученной строки s[-2::-1] с их индексами. \n",
    "   То есть для строки \"4321\" получим (0, '4'), (1, '3'), (2, '2'), (3, '1').\n",
    "\n",
    "3. i * '0' - создает строку из i нулей. \n",
    "   Например, если i = 2, то i * '0' будет равно \"00\".\n",
    "\n",
    "4. c + i * '0' - конкатенирует символ c и строку из i нулей. \n",
    "   Например, если c = '3' и i = 2, то c + i * '0' будет равно \"300\".\n",
    "\n",
    "5. if '0' < c - проверяет, является ли символ c строго больше нуля. \n",
    "   То есть фильтрует символы, чтобы в результирующий список a попали только те символы, которые больше нуля.\n",
    "\n",
    "Таким образом, в итоге мы получим список a, содержащий строки вида [c + i * '0'], где c - символ из исходной строки s, а i - индекс этого символа."
   ]
  },
  {
   "cell_type": "code",
   "execution_count": 19,
   "metadata": {},
   "outputs": [],
   "source": [
    "# Var 2 \n",
    "\n",
    "for i in range(int(input())):# number of rows (5)\n",
    "    a=int(input()) # enter the number (5009)\n",
    "    b=(len(str(a))-1)# number of digits in the number -1 (3)\n",
    "    c=str(a) # convert number into a string and save it in c ('5009')\n",
    "    lst=[] # \n",
    "    for j in range(b,-1,-1): # j will move backwards from 3 to 0: 3,2,1. 0 is excluded\n",
    "        d=(c[j]) # the digit of the index j\n",
    "      #  print(d)\n",
    "        e=10**(b-j) # 10 in power(numbber of all digits but one  minus )\n",
    "        f=int(d)*e # take d, convert to int, multiply by powered 10\n",
    "       # print(f)\n",
    "        if f>0: # in case the recieved number more than 0\n",
    "            lst.append(f) # add it to a list\n",
    "    print(len(lst)) # number of elenemts in the list = number of summomds\n",
    "    print(*lst,sep=' ') # disolay each element of the list separated by a space"
   ]
  },
  {
   "cell_type": "code",
   "execution_count": 20,
   "metadata": {},
   "outputs": [
    {
     "name": "stdout",
     "output_type": "stream",
     "text": [
      "3\n",
      "2\n",
      "1\n",
      "0\n"
     ]
    }
   ],
   "source": [
    "for j in range(3,-1,-1):\n",
    "    print(j)"
   ]
  },
  {
   "cell_type": "code",
   "execution_count": null,
   "metadata": {},
   "outputs": [],
   "source": [
    "# Var 3\n",
    "# https://codeforces.com/problemset/submission/1352/79482232\n",
    "\n",
    "def main():\n",
    "    #from collections import defaultdict\n",
    "    #from collections import Counter\n",
    "    #import math\n",
    "    # from fractions import Fraction\n",
    "    # import heapq\n",
    "    #from bisect import bisect_left\n",
    "    import sys\n",
    "    input = sys.stdin.buffer.readline\n",
    "    #mod=998244353\n",
    "    def GCD(x, y):\n",
    "        while (y):\n",
    "            x, y = y, x % y\n",
    "        return x\n",
    "    def lcm(a,b):\n",
    "        return (a*b)//GCD(a,b)\n",
    "    # Modified merge for inversion\n",
    "    def merge(a,start,mid,end,d):\n",
    "        p=start\n",
    "        q=mid+1\n",
    "        arr=[0]*(end-start+1)\n",
    "        k=0\n",
    "        coun=0\n",
    "        for i in range(start,end+1):\n",
    "            if p > mid:\n",
    "                arr[k]=a[q]\n",
    "                q+=1\n",
    "                k+=1\n",
    "            elif q > end:\n",
    "                arr[k]=a[p]\n",
    "                d[a[p]] += coun\n",
    "                k+=1\n",
    "                p+=1\n",
    "            elif a[p] < a[q]:\n",
    "                arr[k]=a[p]\n",
    "                d[a[p]]+=coun\n",
    "                k+=1\n",
    "                p+=1\n",
    "            else:\n",
    "                arr[k]=a[q]\n",
    "                k+=1\n",
    "                q+=1\n",
    "                coun+=1\n",
    " \n",
    "        for i in range(k):\n",
    "            a[start]=arr[i]\n",
    "            start+=1\n",
    "    def mergesort(a, start, end,d):\n",
    "        if start<end:\n",
    "            mid=(start+end)//2\n",
    "            mergesort(a,start,mid,d)\n",
    "            mergesort(a,mid+1,end,d)\n",
    "            merge(a,start,mid,end,d)\n",
    "    # inversion return dic for every index inversion count\n",
    "    def inversion(l):\n",
    "        d={}\n",
    "        for i in l:\n",
    "            d[i]=0\n",
    "        mergesort(l,0,len(l)-1,d)\n",
    "        return d\n",
    "    def binary_search_lower(A,low,high,k):\n",
    "        if high-low!=1:\n",
    "            mid=(low+high)//2\n",
    "            x = A[mid]\n",
    "            if x>=k:\n",
    "                return binary_search_lower(A,low,mid,k)\n",
    "            else:\n",
    "                return binary_search_lower(A,mid,high,k)\n",
    "        if A[low]>=k:\n",
    "            return low\n",
    "        else:\n",
    "            return high\n",
    "    # Function to find power\n",
    "    def binary_expo(x,n):\n",
    "        if n==0:\n",
    "            return 1\n",
    "        elif n%2==0:\n",
    "            return binary_expo(x*x,n//2)\n",
    "        else:\n",
    "            return x*binary_expo(x*x,(n-1)//2)\n",
    "    # Function to find power with given modulus\n",
    "    def modu_expo(x,n,m):\n",
    "        if n==0:\n",
    "            return 1\n",
    "        elif n%2==0:\n",
    "            return modu_expo((x*x)%m,n//2,m)\n",
    "        else:\n",
    "            return (x*modu_expo((x*x)%m,(n-1)//2,m))%m\n",
    "    # Function for modular multiplicative inverse via using extended_GCD_Euclid's\n",
    "    def eEuclid(c, m):\n",
    "        if m == 0:\n",
    "            global d\n",
    "            global x\n",
    "            global y\n",
    "            d = c\n",
    "            x = 1\n",
    "            y = 0\n",
    "        else:\n",
    "            eEuclid(m, c % m)\n",
    "            temp = x\n",
    "            x = y\n",
    "            y = temp - (c // m) * y\n",
    "    def mod_Inv(c, m):\n",
    "        eEuclid(c, m)\n",
    "        return (x % m + m) % m\n",
    "    # Function for nCr%p using fermat (p is prime)\n",
    "    def ncr(n, r, p):\n",
    "        num = den = 1\n",
    "        for i in range(r):\n",
    "            num = (num * (n - i)) % p\n",
    "            den = (den * (i + 1)) % p\n",
    "        return (num * pow(den,\n",
    "                          p - 2, p)) % p\n",
    "    #*************************************************************\n",
    "    for _ in range(int(input())):\n",
    "        n=int(input())\n",
    "        ans=[]\n",
    "        i=1\n",
    "        while n>10:\n",
    "            x=(n%10)\n",
    "            if x!=0:\n",
    "                ans.append(x*i)\n",
    "            i = i * 10\n",
    "            n=n//10\n",
    "        ans.append(n * i)\n",
    "        print(len(ans))\n",
    "        for i in ans:\n",
    "            print(i,end=\" \")\n",
    "        print()\n",
    " \n",
    "if __name__ == \"__main__\":\n",
    "    main()\n"
   ]
  },
  {
   "cell_type": "markdown",
   "metadata": {},
   "source": [
    "# A. Ещё одна задача о двух числах\n",
    "https://codeforces.com/problemset/problem/1409/A"
   ]
  },
  {
   "cell_type": "code",
   "execution_count": 8,
   "metadata": {},
   "outputs": [
    {
     "name": "stdout",
     "output_type": "stream",
     "text": [
      "87654322\n",
      "9150\n"
     ]
    }
   ],
   "source": [
    "# Accepted my decision \n",
    "sets= int(input())\n",
    "for _ in range(sets):\n",
    "    a, b = map(int, input().split())\n",
    "    if a == b:\n",
    "        print(0)\n",
    "    elif abs(a-b)%10 == 0:\n",
    "        print(abs(a-b)//10)\n",
    "    else:\n",
    "        print(abs(a-b)//10 +1)"
   ]
  },
  {
   "cell_type": "markdown",
   "metadata": {},
   "source": [
    "РАЗОБРАТЬ!"
   ]
  },
  {
   "cell_type": "code",
   "execution_count": null,
   "metadata": {},
   "outputs": [],
   "source": [
    "# Var 1 \n",
    "for s in[*open(0)][1:]:print(0-abs(eval(s.replace(' ','-')))//-10)"
   ]
  },
  {
   "cell_type": "code",
   "execution_count": 7,
   "metadata": {},
   "outputs": [
    {
     "data": {
      "text/plain": [
       "9150.0"
      ]
     },
     "execution_count": 7,
     "metadata": {},
     "output_type": "execute_result"
    }
   ],
   "source": [
    "# Var 2\n",
    "\n",
    "num = int(input())\n",
    "for i in range(num):\n",
    "    counter = 0\n",
    "    a,b = map(int,input().split())\n",
    "    s = a - b\n",
    "    s2 = b - a\n",
    "    if a == b:\n",
    "        print(counter)\n",
    "    elif s > 0:\n",
    "        if s<=10:\n",
    "            print(1)\n",
    "        else:\n",
    "            while s != 0:\n",
    "                if s >= 10:\n",
    "                    counter += s//10\n",
    "                    s -= (s//10) * 10\n",
    "                elif s >= 9:\n",
    "                    counter += s//9\n",
    "                    s -= (s//9) * 9\n",
    "                elif s >= 8:\n",
    "                    counter += s//8\n",
    "                    s -= (s//8) * 8\n",
    "                elif s >= 7:\n",
    "                    counter += s//7\n",
    "                    s -= (s//7) * 7                  \n",
    "                elif s >= 6:\n",
    "                    counter += s//6\n",
    "                    s -= (s//6) * 6\n",
    "                elif s >= 5:\n",
    "                    counter += s//5\n",
    "                    s -= (s//5) * 5\n",
    "                elif s >= 4:\n",
    "                    counter += s//4\n",
    "                    s -= (s//4) * 4\n",
    "                elif s >= 3:\n",
    "                    counter += s//3\n",
    "                    s -= (s//3) * 3\n",
    "                elif s >= 2:\n",
    "                    counter += s//2\n",
    "                    s -= (s//2) * 2\n",
    "                elif s >= 1:\n",
    "                    counter += s\n",
    "                    s = 0\n",
    "            print(counter)                     \n",
    "    else:\n",
    "        if s2<=10:\n",
    "            print(1)           \n",
    "        else:\n",
    "            while s2 != 0:\n",
    "                if s2 >= 10:\n",
    "                    counter += s2//10\n",
    "                    s2 -= (s2//10) * 10\n",
    "                elif s2 >= 9:\n",
    "                    counter += s2//9\n",
    "                    s2 -= (s2//9) * 9\n",
    "                elif s2 >= 8:\n",
    "                    counter += s2//8\n",
    "                    s2 -= (s2//8) * 8\n",
    "                elif s2 >= 7:\n",
    "                    counter += s2//7\n",
    "                    s2 -= (s2//7) * 7                  \n",
    "                elif s2 >= 6:\n",
    "                    counter += s2//6\n",
    "                    s2 -= (s2//6) * 6\n",
    "                elif s2 >= 5:\n",
    "                    counter += s2//5\n",
    "                    s2 -= (s2//5) * 5\n",
    "                elif s2 >= 4:\n",
    "                    counter += s2//4\n",
    "                    s2 -= (s2//4) * 4\n",
    "                elif s2 >= 3:\n",
    "                    counter += s2//3\n",
    "                    s2 -= (s2//3) * 3\n",
    "                elif s2 >= 2:\n",
    "                    counter += s2//2\n",
    "                    s2 -= (s2//2) * 2\n",
    "                elif s2 >= 1:\n",
    "                    counter += s2\n",
    "                    s2 = 0\n",
    "            print(counter) "
   ]
  },
  {
   "cell_type": "code",
   "execution_count": null,
   "metadata": {},
   "outputs": [],
   "source": [
    "#Var 3\n",
    "\n",
    "# python\n",
    "import os\n",
    "import sys; import math\n",
    "from io import BytesIO, IOBase\n",
    " \n",
    "def main():\n",
    "    t = [10,9,8,7,6,5,4,3,2,1]\n",
    "    for _ in range(int(input())):\n",
    "        a,b = [int(x) for x in sys.stdin.readline().split()]\n",
    "        d = abs(a-b); i = 0; count = 0\n",
    "        while(d>0):\n",
    "            if d//t[i] != 0:\n",
    "                count += (d//t[i])\n",
    "                d -= ((d//t[i])*t[i])\n",
    "            i += 1\n",
    "        print(count)\n",
    "# region fastio\n",
    " \n",
    "BUFSIZE = 8192\n",
    " \n",
    " \n",
    "class FastIO(IOBase):\n",
    "    newlines = 0\n",
    " \n",
    "    def __init__(self, file):\n",
    "        self._fd = file.fileno()\n",
    "        self.buffer = BytesIO()\n",
    "        self.writable = \"x\" in file.mode or \"r\" not in file.mode\n",
    "        self.write = self.buffer.write if self.writable else None\n",
    " \n",
    "    def read(self):\n",
    "        while True:\n",
    "            b = os.read(self._fd, max(os.fstat(self._fd).st_size, BUFSIZE))\n",
    "            if not b:\n",
    "                break\n",
    "            ptr = self.buffer.tell()\n",
    "            self.buffer.seek(0, 2), self.buffer.write(b), self.buffer.seek(ptr)\n",
    "        self.newlines = 0\n",
    "        return self.buffer.read()\n",
    " \n",
    "    def readline(self):\n",
    "        while self.newlines == 0:\n",
    "            b = os.read(self._fd, max(os.fstat(self._fd).st_size, BUFSIZE))\n",
    "            self.newlines = b.count(b\"\\n\") + (not b)\n",
    "            ptr = self.buffer.tell()\n",
    "            self.buffer.seek(0, 2), self.buffer.write(b), self.buffer.seek(ptr)\n",
    "        self.newlines -= 1\n",
    "        return self.buffer.readline()\n",
    " \n",
    "    def flush(self):\n",
    "        if self.writable:\n",
    "            os.write(self._fd, self.buffer.getvalue())\n",
    "            self.buffer.truncate(0), self.buffer.seek(0)\n",
    " \n",
    " \n",
    "class IOWrapper(IOBase):\n",
    "    def __init__(self, file):\n",
    "        self.buffer = FastIO(file)\n",
    "        self.flush = self.buffer.flush\n",
    "        self.writable = self.buffer.writable\n",
    "        self.write = lambda s: self.buffer.write(s.encode(\"ascii\"))\n",
    "        self.read = lambda: self.buffer.read().decode(\"ascii\")\n",
    "        self.readline = lambda: self.buffer.readline().decode(\"ascii\")\n",
    " \n",
    " \n",
    "sys.stdin, sys.stdout = IOWrapper(sys.stdin), IOWrapper(sys.stdout)\n",
    "input = lambda: sys.stdin.readline().rstrip(\"\\r\\n\")\n",
    " \n",
    "# endregion\n",
    "if(os.path.exists('input.txt')):\n",
    "    sys.stdin = open(\"input.txt\",\"r\")\n",
    "    sys.stdout = open(\"output.txt\",\"w\")\n",
    "if __name__ == \"__main__\":\n",
    "    main()"
   ]
  }
 ],
 "metadata": {
  "kernelspec": {
   "display_name": "base",
   "language": "python",
   "name": "python3"
  },
  "language_info": {
   "codemirror_mode": {
    "name": "ipython",
    "version": 3
   },
   "file_extension": ".py",
   "mimetype": "text/x-python",
   "name": "python",
   "nbconvert_exporter": "python",
   "pygments_lexer": "ipython3",
   "version": "3.11.4"
  },
  "orig_nbformat": 4
 },
 "nbformat": 4,
 "nbformat_minor": 2
}

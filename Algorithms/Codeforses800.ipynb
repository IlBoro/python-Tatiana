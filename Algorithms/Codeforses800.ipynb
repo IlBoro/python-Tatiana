{
 "cells": [
  {
   "cell_type": "markdown",
   "metadata": {},
   "source": [
    "# 01_Задача о делимости\n",
    "https://codeforces.com/problemset/problem/1328/A"
   ]
  },
  {
   "cell_type": "code",
   "execution_count": 1,
   "metadata": {},
   "outputs": [],
   "source": [
    "t = int(input())\n",
    "for I in range(t):\n",
    "    a, b = map(int,input().split()) #что возвращает split\n",
    "    step = 0\n",
    "    while a%b != 0:\n",
    "        a +=1\n",
    "        step +=1\n",
    "    print(step)"
   ]
  },
  {
   "cell_type": "markdown",
   "metadata": {},
   "source": [
    "# 02_Конфеты и две сестры"
   ]
  },
  {
   "cell_type": "markdown",
   "metadata": {},
   "source": [
    "https://codeforces.com/problemset/problem/1335/A"
   ]
  },
  {
   "cell_type": "code",
   "execution_count": null,
   "metadata": {},
   "outputs": [],
   "source": [
    "t = int(input())\n",
    "for _ in range(t):\n",
    "\n",
    "    num_candies = int(input()) \n",
    "    if num_candies % 2 != 0:\n",
    "        print(num_candies//2)\n",
    "    elif num_candies % 2 == 0:\n",
    "        print(num_candies // 2 - 1)\n",
    "    else:\n",
    "        print(0)"
   ]
  },
  {
   "cell_type": "markdown",
   "metadata": {},
   "source": [
    "# 03_ Необходимый остаток\n",
    "https://codeforces.com/problemset/problem/1374/A"
   ]
  },
  {
   "cell_type": "code",
   "execution_count": null,
   "metadata": {},
   "outputs": [],
   "source": [
    "t = int(input())\n",
    "for I in range(t):\n",
    "    x, y, n = map(int,input().split())\n",
    "    l = (n-y)//x\n",
    "    m = ((n-y)//x)*x+y\n",
    "    print(m)"
   ]
  },
  {
   "cell_type": "markdown",
   "metadata": {},
   "source": [
    "# 04_Плюс один на подмножестве\n",
    "https://codeforces.com/problemset/problem/1624/A"
   ]
  },
  {
   "cell_type": "code",
   "execution_count": null,
   "metadata": {},
   "outputs": [],
   "source": [
    "# excepted by codeforces\n",
    "t = int(input())\n",
    "for _ in range(t):\n",
    "    set_length = int(input())\n",
    "    entered_list = list(map(int, input().split()))\n",
    "    print(max(entered_list)- min(entered_list))"
   ]
  },
  {
   "cell_type": "markdown",
   "metadata": {},
   "source": [
    "# 05_ Подсчет функции\n",
    "https://codeforces.com/problemset/problem/486/A"
   ]
  },
  {
   "cell_type": "code",
   "execution_count": null,
   "metadata": {},
   "outputs": [],
   "source": [
    "n = int(input())\n",
    "\n",
    "if n % 2 == 0:\n",
    "    print(n // 2)\n",
    "else:\n",
    "    print(-(n // 2 + 1))"
   ]
  },
  {
   "cell_type": "code",
   "execution_count": null,
   "metadata": {},
   "outputs": [],
   "source": [
    "n = int(input())\n",
    "num = 0\n",
    "for i in range(1, n+1):\n",
    "    funct = (-1)**i*i\n",
    "    num += funct\n",
    "print(num)"
   ]
  },
  {
   "cell_type": "code",
   "execution_count": null,
   "metadata": {},
   "outputs": [],
   "source": []
  },
  {
   "cell_type": "markdown",
   "metadata": {},
   "source": [
    "# 06_Слишком длинные слова\n",
    "https://codeforces.com/problemset/problem/71/A"
   ]
  },
  {
   "cell_type": "code",
   "execution_count": null,
   "metadata": {},
   "outputs": [],
   "source": [
    "n = int(input()) # задаем количество строк =  слов, кот будут анализироваться\n",
    "\n",
    "for i in range(n):#  проходим по кадой строке по очереди: 1, 2 ...\n",
    "    word = input() # вводим слово\n",
    "    if len(word) > 10: # проверяем длину слова (=к-во символов). Если >10\n",
    "        print(word[0]+str(len(word)-2)+word[-1]) # конкаьенируем(=складываем)1й индекс+длина-2(те 1й и последний символы)+последний символ\n",
    "    else:\n",
    "        print(word)#выводим само слово"
   ]
  },
  {
   "cell_type": "markdown",
   "metadata": {},
   "source": [
    "# 07_Укладка доминошками\n",
    "https://codeforces.com/problemset/problem/50/A"
   ]
  },
  {
   "cell_type": "code",
   "execution_count": null,
   "metadata": {},
   "outputs": [],
   "source": [
    "x, y = map(int, input().split())\n",
    "board_size = x*y\n",
    "num_dominoes = board_size // 2\n",
    "num_dominoes"
   ]
  },
  {
   "cell_type": "markdown",
   "metadata": {},
   "source": [
    "# 08_546A Содлат и бананы\n",
    "https://codeforces.com/problemset/problem/546/A"
   ]
  },
  {
   "cell_type": "code",
   "execution_count": null,
   "metadata": {},
   "outputs": [],
   "source": [
    "k, n, w =map(int, input().split())\n",
    "\n",
    "price_all_bananas = 0\n",
    "for i in range(1, w+1):\n",
    "    price_all_bananas = i * k + price_all_bananas\n",
    "if n >= price_all_bananas:\n",
    "    print(0)\n",
    "else:\n",
    "    print(price_all_bananas-n)"
   ]
  },
  {
   "cell_type": "markdown",
   "metadata": {},
   "source": [
    "# 09_Слоник\n",
    "https://codeforces.com/problemset/problem/617/A"
   ]
  },
  {
   "cell_type": "code",
   "execution_count": null,
   "metadata": {},
   "outputs": [],
   "source": [
    "distance = int(input())\n",
    "step_size = 5\n",
    "num_steps = 0\n",
    "\n",
    "while distance != 0:\n",
    "    steps = distance // step_size\n",
    "    if steps >=1:\n",
    "        distance = distance-step_size*steps\n",
    "        num_steps += steps\n",
    "        step_size -=1\n",
    "    if steps <=0:\n",
    "        step_size -=1\n",
    "print(num_steps)"
   ]
  },
  {
   "cell_type": "markdown",
   "metadata": {},
   "source": [
    "# 10_Арбуз\n",
    "https://codeforces.com/problemset/problem/4/A"
   ]
  },
  {
   "cell_type": "code",
   "execution_count": null,
   "metadata": {},
   "outputs": [],
   "source": [
    "\n",
    "w = int(input())\n",
    "if w % 2 == 0 and w > 2:\n",
    "    print(\"yes\")\n",
    "else:\n",
    "    print(\"no\")"
   ]
  },
  {
   "cell_type": "markdown",
   "metadata": {},
   "source": [
    "# Programming on python"
   ]
  },
  {
   "cell_type": "markdown",
   "metadata": {},
   "source": [
    "## 996A Hit the lottery\n",
    "https://codeforces.com/problemset/problem/996/A"
   ]
  },
  {
   "cell_type": "code",
   "execution_count": null,
   "metadata": {},
   "outputs": [],
   "source": [
    "# my decision\n",
    "n = int(input())\n",
    "\n",
    "l = [100, 20, 10, 5, 1]\n",
    "    \n",
    "count = 0\n",
    "\n",
    "for i in l:\n",
    "    num = n//i\n",
    "    count += num\n",
    "    n = n-num*i\n",
    "print(count)\n"
   ]
  },
  {
   "cell_type": "code",
   "execution_count": null,
   "metadata": {},
   "outputs": [],
   "source": [
    "# youtube decision\n",
    "n = int(input())\n",
    "\n",
    "l = [100, 20, 10, 5, 1]\n",
    "    \n",
    "k = 0\n",
    "\n",
    "for i in l:\n",
    "    k = k + n//i\n",
    "    n = n%i\n",
    "print(k+n)"
   ]
  },
  {
   "cell_type": "markdown",
   "metadata": {},
   "source": [
    "## Задача №3468. Электронные часы - 1\n",
    "https://informatics.msk.ru/mod/statements/view3.php?id=3309&chapterid=3468#1"
   ]
  },
  {
   "cell_type": "code",
   "execution_count": 8,
   "metadata": {},
   "outputs": [
    {
     "data": {
      "text/plain": [
       "(19, 42)"
      ]
     },
     "execution_count": 8,
     "metadata": {},
     "output_type": "execute_result"
    }
   ],
   "source": [
    "#608862//60%24, 608862%60\n",
    "n = int(input())\n",
    "print(n//60%24, n%60)"
   ]
  },
  {
   "cell_type": "markdown",
   "metadata": {},
   "source": [
    "## Задача №3465. Следующее четное\n",
    "https://informatics.msk.ru/mod/statements/view3.php?id=3309&chapterid=3465#1"
   ]
  },
  {
   "cell_type": "code",
   "execution_count": 16,
   "metadata": {},
   "outputs": [
    {
     "name": "stdout",
     "output_type": "stream",
     "text": [
      "8\n"
     ]
    }
   ],
   "source": [
    "# Дано целое число n. Выведите следующее за ним четное число.\n",
    "n = 6\n",
    "print(n+2 - n%2)"
   ]
  },
  {
   "cell_type": "markdown",
   "metadata": {},
   "source": [
    "## Задача №3469. Электронные часы - 2\n",
    "https://informatics.msk.ru/mod/statements/view3.php?id=3309&chapterid=3469#1"
   ]
  },
  {
   "cell_type": "markdown",
   "metadata": {},
   "source": [
    "Электронные часы показывают время в формате h:mm:ss, то есть сначала записывается количество часов в диапазоне от 0 до 23, потом обязательно двузначное количество минут, затем обязательно двузначное количество секунд. Количество минут и секунд при необходимости дополняются до двузначного числа нулями.\n",
    "\n",
    "Программа получает на вход число n - количество секунд, которое прошло с начала суток.\n",
    "\n",
    "Выведите показания часов, соблюдая формат."
   ]
  },
  {
   "cell_type": "code",
   "execution_count": 63,
   "metadata": {},
   "outputs": [
    {
     "name": "stdout",
     "output_type": "stream",
     "text": [
      "14 : 2 1 : 0 5\n"
     ]
    }
   ],
   "source": [
    "n = 5465456465\n",
    "\n",
    "h = (n//3600)%24 #devide total sec by 3600->num of hours. To go around the clock => n%24 (for big figures) T\n",
    "n = n%3600 #lower the num of sec for the num of hours. Now 'n' holds only minutes and seconds\n",
    "m = n//60  #let's find total\n",
    "n = n%60   #\n",
    "s = n      #\n",
    "print(h,':', m//10,m%10, ':',s//10,s%10)"
   ]
  },
  {
   "cell_type": "code",
   "execution_count": 39,
   "metadata": {},
   "outputs": [
    {
     "name": "stdout",
     "output_type": "stream",
     "text": [
      "1\n"
     ]
    },
    {
     "data": {
      "text/plain": [
       "1"
      ]
     },
     "execution_count": 39,
     "metadata": {},
     "output_type": "execute_result"
    }
   ],
   "source": [
    "\n",
    "print((3721//3600)%24)\n",
    "3721%60"
   ]
  },
  {
   "cell_type": "code",
   "execution_count": 19,
   "metadata": {},
   "outputs": [
    {
     "data": {
      "text/plain": [
       "86400"
      ]
     },
     "execution_count": 19,
     "metadata": {},
     "output_type": "execute_result"
    }
   ],
   "source": [
    "60*60#  = 3600 # sec in h\n",
    "60*60*24 # 86400 sec in a day\n"
   ]
  },
  {
   "cell_type": "code",
   "execution_count": 7,
   "metadata": {},
   "outputs": [
    {
     "name": "stdout",
     "output_type": "stream",
     "text": [
      "3\n"
     ]
    }
   ],
   "source": [
    "import math\n",
    "# n = int(input())\n",
    "#n, m = map(int,input().split())\n",
    "n =9\n",
    "# m = 14\n",
    "print(math.ceil(n/4))"
   ]
  },
  {
   "cell_type": "code",
   "execution_count": 27,
   "metadata": {},
   "outputs": [
    {
     "name": "stdout",
     "output_type": "stream",
     "text": [
      "10\n"
     ]
    }
   ],
   "source": [
    "\n",
    "# l, w, h = map(int,input().split())\n",
    "l = 5\n",
    "w = 6\n",
    "h = 7\n",
    "print(math.ceil(h*(w+l)/8))\n"
   ]
  },
  {
   "cell_type": "code",
   "execution_count": 3,
   "metadata": {},
   "outputs": [
    {
     "name": "stdout",
     "output_type": "stream",
     "text": [
      "Simvol code A is 65.\n",
      "Simvol code , is 44.\n",
      "Simvol code y is 121."
     ]
    }
   ],
   "source": [
    "n = 'A' \n",
    "m = ',' \n",
    "k = 'y'\n",
    "# print(ord(n),ord(m), ord(k) )\n",
    "\n",
    "print('Simvol code',n ,'is', ord(n),end='.\\n')\n",
    "print('Simvol code', m, 'is', ord(m),end='.\\n')\n",
    "print('Simvol code', k, 'is', ord(k), end = '.')\n",
    "\n",
    "#print('Simvol code q is', ord(n), '\\n','Simvol code q is', ord(m), '\\n','Simvol code q is', ord(k))"
   ]
  },
  {
   "cell_type": "code",
   "execution_count": 7,
   "metadata": {},
   "outputs": [
    {
     "name": "stdout",
     "output_type": "stream",
     "text": [
      "ПРО\n",
      "граммирова\n",
      "НИЕ\n"
     ]
    }
   ],
   "source": [
    "#n = input()\n",
    "n= 'прогРаммирОВАНИЕ'\n",
    "#b = n[3:len(n)-3]\n",
    "print(n[:3].upper())\n",
    "print(n[3:len(n)-3].lower())\n",
    "print(n[-3:].upper())"
   ]
  },
  {
   "cell_type": "code",
   "execution_count": 30,
   "metadata": {},
   "outputs": [
    {
     "name": "stdout",
     "output_type": "stream",
     "text": [
      ".c.d.f.r.c.s\n"
     ]
    }
   ],
   "source": [
    "s = \"CodeForces\"\n",
    "s = s.lower()\n",
    "s = s.replace('a', '')\n",
    "s = s.replace('e', '')\n",
    "s = s.replace('i', '')\n",
    "s = s.replace('o', '')\n",
    "s = s.replace('u', '')\n",
    "s = s.replace('y', '')\n",
    "s = '.'.join(s)\n",
    "s = '.'+ s\n",
    "print(s)"
   ]
  }
 ],
 "metadata": {
  "kernelspec": {
   "display_name": "base",
   "language": "python",
   "name": "python3"
  },
  "language_info": {
   "codemirror_mode": {
    "name": "ipython",
    "version": 3
   },
   "file_extension": ".py",
   "mimetype": "text/x-python",
   "name": "python",
   "nbconvert_exporter": "python",
   "pygments_lexer": "ipython3",
   "version": "3.11.4"
  },
  "orig_nbformat": 4
 },
 "nbformat": 4,
 "nbformat_minor": 2
}

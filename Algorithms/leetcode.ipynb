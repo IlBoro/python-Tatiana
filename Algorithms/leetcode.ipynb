{
 "cells": [
  {
   "cell_type": "markdown",
   "metadata": {},
   "source": [
    "# 9. Palindrome Number\n"
   ]
  },
  {
   "cell_type": "code",
   "execution_count": 1,
   "metadata": {},
   "outputs": [
    {
     "data": {
      "text/plain": [
       "True"
      ]
     },
     "execution_count": 1,
     "metadata": {},
     "output_type": "execute_result"
    }
   ],
   "source": [
    "class Solution:\n",
    "    def isPalindrome(self, x: int) -> bool:\n",
    "        return  str(x) == str(x)[::-1]\n",
    "\n",
    "object1= Solution()# создание объекта или экземпляра класса\n",
    "dir(object1)\n",
    "object1.isPalindrome(101)"
   ]
  },
  {
   "cell_type": "code",
   "execution_count": null,
   "metadata": {},
   "outputs": [],
   "source": [
    "# Конструктор класса\n",
    "class Solution:\n",
    "    def __init__(self,x1) -> None: # Конструтор класса\n",
    "        self.x = x1 # создание свойства класса = переменной класса\n",
    "    \n",
    "    def isPalindrome(self) -> bool:\n",
    "            return  str(self.x) == str(self.x)[::-1]\n",
    "    \n",
    "object1= Solution(101)# создание объекта или экземпляра класса\n",
    "object1.isPalindrome()\n",
    "object1"
   ]
  },
  {
   "cell_type": "code",
   "execution_count": null,
   "metadata": {},
   "outputs": [],
   "source": [
    "class Cate:\n",
    "\n",
    "    data =  2022 # создание свойства класса явно\n",
    "\n",
    "    def isPalindrome(self) -> bool:\n",
    "            return  str(Cate.data) == str(Cate.data)[::-1]\n",
    "    \n"
   ]
  },
  {
   "cell_type": "markdown",
   "metadata": {},
   "source": [
    "Класс - это кониейнер для функций. \n",
    "Переменные в классе называются свойствами класса.\n",
    "Функции  в классе называются  методы класса. "
   ]
  },
  {
   "cell_type": "code",
   "execution_count": null,
   "metadata": {},
   "outputs": [],
   "source": [
    "name =  'hello'\n",
    "name[0]\n",
    "name[::2]\n",
    "name[::-1]"
   ]
  },
  {
   "cell_type": "markdown",
   "metadata": {},
   "source": [
    "# 1512. Number of Good Pairs\n",
    " https://leetcode.com/problems/number-of-good-pairs/"
   ]
  },
  {
   "cell_type": "code",
   "execution_count": null,
   "metadata": {},
   "outputs": [],
   "source": [
    "people = [\"Tom\", \"Bob\", \"Alice\", \"Tom\", \"Bill\", \"Tom\"]\n",
    " \n",
    "people_count = people.count(\"Tom\")\n",
    "print(people_count)      # 3"
   ]
  },
  {
   "cell_type": "code",
   "execution_count": null,
   "metadata": {},
   "outputs": [],
   "source": [
    "nums = [1,2,3,1,1,3]\n",
    "# nums = [1,1,1,1]\n",
    "# nums = [1,2,3]\n",
    "for i in range(len(nums)):\n",
    "    print(nums[i], nums.count(nums[i]))\n"
   ]
  },
  {
   "cell_type": "code",
   "execution_count": 39,
   "metadata": {},
   "outputs": [
    {
     "name": "stdout",
     "output_type": "stream",
     "text": [
      "{1: 1, 2: 1, 3: 1}\n"
     ]
    }
   ],
   "source": [
    "from collections import Counter\n",
    "\n",
    "# nums = [1,2,3,1,1,3]  # сроздаем список чисел\n",
    "# nums = [1,1,1,1]\n",
    "nums = [1, 2, 3]             \n",
    "pairs = dict(Counter(nums))# методом count подсчитываем количество вхождений каждого элемента в список.И превращаем в словарь\n",
    "num_entrants = list(pairs.values()) # обращаемся к значениям словаря и превращаем в список\n",
    "# num_entrants.remove(1) # удаляем занчение 1\n",
    "print(pairs)#, num_entrants) #"
   ]
  },
  {
   "cell_type": "code",
   "execution_count": 42,
   "metadata": {},
   "outputs": [],
   "source": [
    "# Реализация факториала через цикл\n",
    "def factorial(n):\n",
    "  f = 1\n",
    "  for x in range(1, n+1):\n",
    "    f *= x\n",
    "  return f"
   ]
  },
  {
   "cell_type": "code",
   "execution_count": null,
   "metadata": {},
   "outputs": [],
   "source": [
    "factorial(3)"
   ]
  },
  {
   "cell_type": "code",
   "execution_count": null,
   "metadata": {},
   "outputs": [],
   "source": [
    "# Перестановки без повторений - n!\n",
    "def P(n):  \n",
    "  return factorial(n)\n",
    "\n",
    "P(3)"
   ]
  },
  {
   "cell_type": "code",
   "execution_count": 43,
   "metadata": {},
   "outputs": [],
   "source": [
    "# Сочетания без повторений - n! / ((n-m)! * m!) 6!/(3, 2)!*2!\n",
    "def C_n_m(n, m):\n",
    "  return factorial(n) / (factorial(n-m) * factorial(m))"
   ]
  },
  {
   "cell_type": "code",
   "execution_count": 44,
   "metadata": {},
   "outputs": [
    {
     "data": {
      "text/plain": [
       "3.0"
      ]
     },
     "execution_count": 44,
     "metadata": {},
     "output_type": "execute_result"
    }
   ],
   "source": [
    "C_n_m(3, 2)\n"
   ]
  },
  {
   "cell_type": "code",
   "execution_count": 1,
   "metadata": {},
   "outputs": [],
   "source": [
    "from collections import Counter\n",
    "\n",
    "# Реализация факториала через цикл\n",
    "\n",
    "\n",
    "\n",
    "def factorial(n):\n",
    "  f = 1\n",
    "  for x in range(1, n+1):\n",
    "    f *= x\n",
    "  return f\n",
    "\n",
    "def C_n_m(n, m):\n",
    "  return factorial(n) / (factorial(n-m) * factorial(m))"
   ]
  },
  {
   "cell_type": "code",
   "execution_count": 11,
   "metadata": {},
   "outputs": [
    {
     "name": "stdout",
     "output_type": "stream",
     "text": [
      "4\n"
     ]
    }
   ],
   "source": [
    "# РЕШЕНИЕ\n",
    "\n",
    "nums = [1,2,3,1,1,3]  # сроздаем список чисел\n",
    "# nums = [1,1,1,1]\n",
    "#nums = [1,2,3]  # сроздаем список чисел              \n",
    "pairs = dict(Counter(nums))# методом count подсчитываем количество вхождений каждого элемента в список.И превращаем в словарь\n",
    "num_entrants = list(pairs.values()) # обращаемся к значениям словаря и превращаем в список\n",
    "\n",
    "num_pairs = 0\n",
    "for i in num_entrants:\n",
    "  if i > 1:\n",
    "     num_pairs += int(C_n_m(i, 2))\n",
    "  else: \n",
    "    pass\n",
    "print(num_pairs)"
   ]
  },
  {
   "cell_type": "code",
   "execution_count": 5,
   "metadata": {},
   "outputs": [
    {
     "name": "stdout",
     "output_type": "stream",
     "text": [
      "Collecting flake8-variables-names\n",
      "  Obtaining dependency information for flake8-variables-names from https://files.pythonhosted.org/packages/3a/e8/845c33c7ac0f6c495c5cbcfebc6a281b28017570f2edea65b24daaed47f0/flake8_variables_names-0.0.6-py3-none-any.whl.metadata\n",
      "  Downloading flake8_variables_names-0.0.6-py3-none-any.whl.metadata (3.5 kB)\n",
      "Downloading flake8_variables_names-0.0.6-py3-none-any.whl (6.1 kB)\n",
      "Installing collected packages: flake8-variables-names\n",
      "Successfully installed flake8-variables-names-0.0.6\n",
      "Collecting flake8-functions-names\n",
      "  Downloading flake8_functions_names-0.4.0.tar.gz (10 kB)\n",
      "  Preparing metadata (setup.py) ... \u001b[?25ldone\n",
      "\u001b[?25hRequirement already satisfied: setuptools in /home/tatiana/anaconda3/lib/python3.11/site-packages (from flake8-functions-names) (68.0.0)\n",
      "Building wheels for collected packages: flake8-functions-names\n",
      "  Building wheel for flake8-functions-names (setup.py) ... \u001b[?25ldone\n",
      "\u001b[?25h  Created wheel for flake8-functions-names: filename=flake8_functions_names-0.4.0-py3-none-any.whl size=10428 sha256=add1e1b8b1aaeb46ff98fe47d6889a5b583a623f6bdf21b0144e22892b109b7d\n",
      "  Stored in directory: /home/tatiana/.cache/pip/wheels/18/51/2d/448eed45112119bdf0897c526c4065cc87e2b5e009c3913c13\n",
      "Successfully built flake8-functions-names\n",
      "Installing collected packages: flake8-functions-names\n",
      "Successfully installed flake8-functions-names-0.4.0\n",
      "Collecting flake8-builtins\n",
      "  Downloading flake8_builtins-2.1.0-py3-none-any.whl (13 kB)\n",
      "Requirement already satisfied: flake8 in /home/tatiana/anaconda3/lib/python3.11/site-packages (from flake8-builtins) (6.0.0)\n",
      "Requirement already satisfied: mccabe<0.8.0,>=0.7.0 in /home/tatiana/anaconda3/lib/python3.11/site-packages (from flake8->flake8-builtins) (0.7.0)\n",
      "Requirement already satisfied: pycodestyle<2.11.0,>=2.10.0 in /home/tatiana/anaconda3/lib/python3.11/site-packages (from flake8->flake8-builtins) (2.10.0)\n",
      "Requirement already satisfied: pyflakes<3.1.0,>=3.0.0 in /home/tatiana/anaconda3/lib/python3.11/site-packages (from flake8->flake8-builtins) (3.0.1)\n",
      "Installing collected packages: flake8-builtins\n",
      "Successfully installed flake8-builtins-2.1.0\n",
      "Collecting flake8-bugbear\n",
      "  Obtaining dependency information for flake8-bugbear from https://files.pythonhosted.org/packages/0a/44/7087123a8df4cca1dd5f89f2ce3b3f0a71a15360d60aefa18434e6e4fda6/flake8_bugbear-23.9.16-py3-none-any.whl.metadata\n",
      "  Downloading flake8_bugbear-23.9.16-py3-none-any.whl.metadata (28 kB)\n",
      "Requirement already satisfied: flake8>=6.0.0 in /home/tatiana/anaconda3/lib/python3.11/site-packages (from flake8-bugbear) (6.0.0)\n",
      "Requirement already satisfied: attrs>=19.2.0 in /home/tatiana/anaconda3/lib/python3.11/site-packages (from flake8-bugbear) (22.1.0)\n",
      "Requirement already satisfied: mccabe<0.8.0,>=0.7.0 in /home/tatiana/anaconda3/lib/python3.11/site-packages (from flake8>=6.0.0->flake8-bugbear) (0.7.0)\n",
      "Requirement already satisfied: pycodestyle<2.11.0,>=2.10.0 in /home/tatiana/anaconda3/lib/python3.11/site-packages (from flake8>=6.0.0->flake8-bugbear) (2.10.0)\n",
      "Requirement already satisfied: pyflakes<3.1.0,>=3.0.0 in /home/tatiana/anaconda3/lib/python3.11/site-packages (from flake8>=6.0.0->flake8-bugbear) (3.0.1)\n",
      "Downloading flake8_bugbear-23.9.16-py3-none-any.whl (30 kB)\n",
      "Installing collected packages: flake8-bugbear\n",
      "Successfully installed flake8-bugbear-23.9.16\n",
      "Collecting pep8-naming\n",
      "  Downloading pep8_naming-0.13.3-py3-none-any.whl (8.5 kB)\n",
      "Requirement already satisfied: flake8>=5.0.0 in /home/tatiana/anaconda3/lib/python3.11/site-packages (from pep8-naming) (6.0.0)\n",
      "Requirement already satisfied: mccabe<0.8.0,>=0.7.0 in /home/tatiana/anaconda3/lib/python3.11/site-packages (from flake8>=5.0.0->pep8-naming) (0.7.0)\n",
      "Requirement already satisfied: pycodestyle<2.11.0,>=2.10.0 in /home/tatiana/anaconda3/lib/python3.11/site-packages (from flake8>=5.0.0->pep8-naming) (2.10.0)\n",
      "Requirement already satisfied: pyflakes<3.1.0,>=3.0.0 in /home/tatiana/anaconda3/lib/python3.11/site-packages (from flake8>=5.0.0->pep8-naming) (3.0.1)\n",
      "Installing collected packages: pep8-naming\n",
      "Successfully installed pep8-naming-0.13.3\n"
     ]
    }
   ],
   "source": [
    "!pip install flake8-variables-names\n",
    "!pip install flake8-functions-names\n",
    "!pip install flake8-builtins\n",
    "!pip install flake8-bugbear\n",
    "!pip install pep8-naming"
   ]
  },
  {
   "cell_type": "code",
   "execution_count": null,
   "metadata": {},
   "outputs": [
    {
     "data": {
      "text/plain": [
       "[1, 2, 3, 1]"
      ]
     },
     "execution_count": 60,
     "metadata": {},
     "output_type": "execute_result"
    }
   ],
   "source": [
    "nums = [1,2,3,1,1,3]\n",
    "nums[:4:1]"
   ]
  },
  {
   "cell_type": "code",
   "execution_count": null,
   "metadata": {},
   "outputs": [
    {
     "name": "stdout",
     "output_type": "stream",
     "text": [
      "True\n"
     ]
    },
    {
     "ename": "IndexError",
     "evalue": "list index out of range",
     "output_type": "error",
     "traceback": [
      "\u001b[0;31m---------------------------------------------------------------------------\u001b[0m",
      "\u001b[0;31mIndexError\u001b[0m                                Traceback (most recent call last)",
      "Cell \u001b[0;32mIn[57], line 3\u001b[0m\n\u001b[1;32m      1\u001b[0m nums \u001b[39m=\u001b[39m [\u001b[39m1\u001b[39m,\u001b[39m2\u001b[39m,\u001b[39m3\u001b[39m,\u001b[39m1\u001b[39m,\u001b[39m1\u001b[39m,\u001b[39m3\u001b[39m]\n\u001b[1;32m      2\u001b[0m \u001b[39mfor\u001b[39;00m i \u001b[39min\u001b[39;00m \u001b[39mrange\u001b[39m(\u001b[39mlen\u001b[39m(nums)):\n\u001b[0;32m----> 3\u001b[0m     \u001b[39mif\u001b[39;00m nums[i] \u001b[39m==\u001b[39m nums[i\u001b[39m+\u001b[39;49m\u001b[39m1\u001b[39;49m]:\n\u001b[1;32m      4\u001b[0m         \u001b[39mprint\u001b[39m(nums[i] \u001b[39m==\u001b[39m nums[i\u001b[39m+\u001b[39m\u001b[39m1\u001b[39m])\n",
      "\u001b[0;31mIndexError\u001b[0m: list index out of range"
     ]
    }
   ],
   "source": [
    "nums = [1,2,3,1,1,3]\n",
    "for i in range(len(nums)):\n",
    "    if nums[i] == nums[:i:1]:\n",
    "        print(nums[i] == nums[i+1])"
   ]
  },
  {
   "cell_type": "code",
   "execution_count": 6,
   "metadata": {},
   "outputs": [
    {
     "ename": "TypeError",
     "evalue": "cannot convert dictionary update sequence element #0 to a sequence",
     "output_type": "error",
     "traceback": [
      "\u001b[0;31m---------------------------------------------------------------------------\u001b[0m",
      "\u001b[0;31mTypeError\u001b[0m                                 Traceback (most recent call last)",
      "Cell \u001b[0;32mIn[6], line 2\u001b[0m\n\u001b[1;32m      1\u001b[0m nums \u001b[39m=\u001b[39m [\u001b[39m1\u001b[39m,\u001b[39m2\u001b[39m,\u001b[39m3\u001b[39m,\u001b[39m1\u001b[39m,\u001b[39m1\u001b[39m,\u001b[39m3\u001b[39m]\n\u001b[0;32m----> 2\u001b[0m \u001b[39mdict\u001b[39;49m(nums)\n",
      "\u001b[0;31mTypeError\u001b[0m: cannot convert dictionary update sequence element #0 to a sequence"
     ]
    }
   ],
   "source": [
    "nums = [1,2,3,1,1,3]\n",
    "dic = {}\n",
    "num = 0 \n",
    "for j in nums:\n",
    "    for i in dic: \n",
    "        if dic[i]\n",
    "        \n",
    "\n",
    "\n",
    "           if v in repeat:\n",
    "                \n",
    "                # count number of pairs based on duplicate values\n",
    "                if repeat[v] == 1:\n",
    "                    num += 1\n",
    "                else:\n",
    "                    num += repeat[v]\n",
    "                \n",
    "                # increment the number of counts\n",
    "                repeat[v] += 1\n",
    "            # number has not been seen before\n",
    "            else:\n",
    "                repeat[v] = 1\n",
    "        # return\n",
    "        return num"
   ]
  },
  {
   "cell_type": "code",
   "execution_count": null,
   "metadata": {},
   "outputs": [],
   "source": [
    "class Solution:\n",
    "    \n",
    "    # search for duplicate numbers\n",
    "    def numIdenticalPairs(self, nums: List[int]) -> int:\n",
    "        \n",
    "        # number of good pairs\n",
    "        repeat = {} \n",
    "        num = 0\n",
    "        \n",
    "        # for every element in nums\n",
    "        for v in nums:\n",
    "            \n",
    "            # number of repeated digits\n",
    "            if v in repeat:\n",
    "                \n",
    "                # count number of pairs based on duplicate values\n",
    "                if repeat[v] == 1:\n",
    "                    num += 1\n",
    "                else:\n",
    "                    num += repeat[v]\n",
    "                \n",
    "                # increment the number of counts\n",
    "                repeat[v] += 1\n",
    "            # number has not been seen before\n",
    "            else:\n",
    "                repeat[v] = 1\n",
    "        # return\n",
    "        return num"
   ]
  },
  {
   "cell_type": "markdown",
   "metadata": {},
   "source": [
    "# 2469. Convert the Temperature\n",
    "https://leetcode.com/problems/convert-the-temperature/"
   ]
  },
  {
   "cell_type": "markdown",
   "metadata": {},
   "source": [
    "You are given a non-negative floating point number rounded to two decimal places celsius, that denotes the temperature in Celsius.\n",
    "\n",
    "You should convert Celsius into Kelvin and Fahrenheit and return it as an array ans = [kelvin, fahrenheit].\n",
    "\n",
    "Return the array ans. Answers within 10-5 of the actual answer will be accepted.\n",
    "\n",
    "Kelvin = Celsius + 273.15\n",
    "Fahrenheit = Celsius * 1.80 + 32.00"
   ]
  },
  {
   "cell_type": "code",
   "execution_count": null,
   "metadata": {},
   "outputs": [],
   "source": [
    "class Solution:\n",
    "    def convertTemperature(self, celsius: float):\n",
    "        Kelvin = celsius + 273.15\n",
    "        Fahrenheit = celsius * 1.80 + 32.00\n",
    "        return [Kelvin,Fahrenheit]"
   ]
  },
  {
   "cell_type": "code",
   "execution_count": null,
   "metadata": {},
   "outputs": [],
   "source": [
    "class Solution:\n",
    "    def convertTemperature(self, celsius: float\n",
    "        return [celsius + 273.15, celsius * 1.80 + 32]"
   ]
  },
  {
   "cell_type": "code",
   "execution_count": 1,
   "metadata": {},
   "outputs": [],
   "source": [
    "Celsius = float(input())\n",
    "Kelvin = Celsius + 273.15\n",
    "Fahrenheit = Celsius * 1.80 + 32.00\n",
    "print([Kelvin,Fahrenheit])"
   ]
  },
  {
   "cell_type": "markdown",
   "metadata": {},
   "source": [
    "# 2769. Find the Maximum Achievable Number\n",
    " https://leetcode.com/problems/find-the-maximum-achievable-number/"
   ]
  },
  {
   "cell_type": "markdown",
   "metadata": {},
   "source": [
    "You are given two integers, num and t.\n",
    "\n",
    "An integer x is called achievable if it can become equal to num after applying the following operation no more than t times:\n",
    "\n",
    "Increase or decrease x by 1, and simultaneously increase or decrease num by 1.\n",
    "Return the maximum possible achievable number. It can be proven that there exists at least one achievable number."
   ]
  },
  {
   "cell_type": "code",
   "execution_count": null,
   "metadata": {},
   "outputs": [],
   "source": [
    "class Solution:\n",
    "    def theMaximumAchievableX(self, num: int, t: int) -> int:\n",
    "        return num + 2*t"
   ]
  },
  {
   "cell_type": "markdown",
   "metadata": {},
   "source": [
    "# 2413. Smallest Even Multiple\n",
    "https://leetcode.com/problems/smallest-even-multiple/\n"
   ]
  },
  {
   "cell_type": "markdown",
   "metadata": {},
   "source": [
    "Given a positive integer n, return the smallest positive integer that is a multiple of both 2 and n."
   ]
  },
  {
   "cell_type": "code",
   "execution_count": null,
   "metadata": {},
   "outputs": [],
   "source": [
    "class Solution:\n",
    "    def smallestEvenMultiple(self, n: int) -> int:\n",
    "        return n if n%2 == 0 else n*2"
   ]
  },
  {
   "cell_type": "markdown",
   "metadata": {},
   "source": [
    "# 2235. Add Two Integers\n",
    "https://leetcode.com/problems/add-two-integers/"
   ]
  },
  {
   "cell_type": "markdown",
   "metadata": {},
   "source": [
    "Given two integers num1 and num2, return the sum of the two integers."
   ]
  },
  {
   "cell_type": "markdown",
   "metadata": {},
   "source": [
    "# 1281. Subtract the Product and Sum of Digits of an Integer\n",
    "https://leetcode.com/problems/subtract-the-product-and-sum-of-digits-of-an-integer/"
   ]
  },
  {
   "cell_type": "markdown",
   "metadata": {},
   "source": []
  },
  {
   "cell_type": "code",
   "execution_count": 7,
   "metadata": {},
   "outputs": [
    {
     "data": {
      "text/plain": [
       "['123']"
      ]
     },
     "execution_count": 7,
     "metadata": {},
     "output_type": "execute_result"
    }
   ],
   "source": [
    "n = 123\n",
    "k = str(n)\n",
    "k.split(' ')"
   ]
  },
  {
   "cell_type": "code",
   "execution_count": 3,
   "metadata": {},
   "outputs": [
    {
     "data": {
      "text/plain": [
       "'1 234 567'"
      ]
     },
     "execution_count": 3,
     "metadata": {},
     "output_type": "execute_result"
    }
   ],
   "source": [
    "x = 1234567\n",
    "'{0:,}'.format(x).replace(',', ' ')"
   ]
  },
  {
   "cell_type": "code",
   "execution_count": null,
   "metadata": {},
   "outputs": [],
   "source": [
    "num % 10 - получаешь самую правую цифру числа num\n",
    "num = num // 10 - удаляешь самую правую цифру из числа num."
   ]
  },
  {
   "cell_type": "code",
   "execution_count": 56,
   "metadata": {},
   "outputs": [
    {
     "data": {
      "text/plain": [
       "[3]"
      ]
     },
     "execution_count": 56,
     "metadata": {},
     "output_type": "execute_result"
    }
   ],
   "source": [
    "num = 123\n",
    "lst = []\n",
    "\n",
    "fig1 = num % 10 #  first figure from the end\n",
    "num = num//10 # delete last figure from the nymber\n",
    "\n",
    "lst.append(fig1)\n",
    "\n",
    "# fig2 = num % 10 # #  second figure from the end\n",
    "# num = num//10 #  delete lsecond figure from the end of the nymber\n",
    "\n",
    "# num, fig2, fig1\n",
    "lst"
   ]
  },
  {
   "cell_type": "code",
   "execution_count": 59,
   "metadata": {},
   "outputs": [
    {
     "data": {
      "text/plain": [
       "4"
      ]
     },
     "execution_count": 59,
     "metadata": {},
     "output_type": "execute_result"
    }
   ],
   "source": [
    "len(str(1238))"
   ]
  },
  {
   "cell_type": "code",
   "execution_count": 70,
   "metadata": {},
   "outputs": [
    {
     "name": "stdout",
     "output_type": "stream",
     "text": [
      "[7, 3, 2, 1]\n",
      "13\n",
      "42\n"
     ]
    }
   ],
   "source": [
    "import math\n",
    "num = 1237\n",
    "# num_count = len(str(num))\n",
    "ls = []\n",
    "for _ in range(len(str(num))-1):\n",
    "\n",
    "    fig1 = num % 10 #  first figure from the end\n",
    "    num = num//10 # delete last figure from the nymber\n",
    "    ls.append(fig1)\n",
    "ls.append(num)\n",
    "  \n",
    "print(ls)\n",
    "print(sum(ls))\n",
    "print(math.prod(ls))\n",
    "    # print(num, fig1)\n",
    "#fig2 = num % 10 # #  second figure from the end\n",
    "#num = num//10 #  delete lsecond figure from the end of the nymber\n",
    "#\n",
    "#num, fig2, fig1"
   ]
  },
  {
   "cell_type": "code",
   "execution_count": null,
   "metadata": {},
   "outputs": [],
   "source": [
    "def subtractProductAndSum(self, n: int) -> int:\n",
    "import functools\n",
    "from functools import reduce\n",
    "a = list(map(int, iter(str(n))))\n",
    "return reduce(lambda x,y: x*y, a) - reduce(lambda x,y: x+y, a)"
   ]
  },
  {
   "cell_type": "code",
   "execution_count": null,
   "metadata": {},
   "outputs": [],
   "source": [
    "def sumDandprodD(n):\n",
    "    s = 0\n",
    "    p = 1\n",
    "    while n>0:\n",
    "        s += n%10\n",
    "        p = p*(n%10)\n",
    "        n = n//10\n",
    "    return (p-s)\n",
    "return sumDandprodD(n)"
   ]
  },
  {
   "cell_type": "code",
   "execution_count": 73,
   "metadata": {},
   "outputs": [
    {
     "name": "stdout",
     "output_type": "stream",
     "text": [
      "29 42 13 0\n"
     ]
    }
   ],
   "source": [
    "n = 1237\n",
    "s = 0 # sum \n",
    "p = 1 # production\n",
    "while n>0:\n",
    "    s += n%10\n",
    "    p = p*(n%10)\n",
    "    n = n//10 \n",
    "print((p-s), p, s, n)"
   ]
  },
  {
   "cell_type": "code",
   "execution_count": null,
   "metadata": {},
   "outputs": [],
   "source": [
    "import math\n",
    "num = 1237\n",
    "\n",
    "ls = []\n",
    "for _ in range(len(str(num))-1):\n",
    "\n",
    "    fig1 = num % 10 #  first figure from the end\n",
    "    num = num//10 # delete last figure from the nymber\n",
    "    ls.append(fig1)\n",
    "ls.append(num)\n",
    "print(ls)\n",
    "print(sum(ls))\n",
    "print(math.prod(ls))"
   ]
  },
  {
   "cell_type": "code",
   "execution_count": null,
   "metadata": {},
   "outputs": [],
   "source": [
    "# Accepted\n",
    "class Solution:\n",
    "    def subtractProductAndSum(self, n: int) -> int:\n",
    "        import math\n",
    "\n",
    "        ls = []\n",
    "        for _ in range(len(str(n))-1):\n",
    "\n",
    "            fig1 = n % 10 #  first figure from the end\n",
    "            n = n//10 # delete last figure from the nymber\n",
    "            ls.append(fig1)\n",
    "        ls.append(n)\n",
    "        return math.prod(ls)- sum(ls)"
   ]
  },
  {
   "cell_type": "code",
   "execution_count": null,
   "metadata": {},
   "outputs": [],
   "source": [
    "def subtractProductAndSum(n)t:\n",
    "    return eval('*'.join(str(n))) - eval('+'.join(str(n)))"
   ]
  },
  {
   "cell_type": "markdown",
   "metadata": {},
   "source": [
    "# 2160. Minimum Sum of Four Digit Number After Splitting Digits\n",
    "https://leetcode.com/problems/minimum-sum-of-four-digit-number-after-splitting-digits/"
   ]
  },
  {
   "cell_type": "code",
   "execution_count": 83,
   "metadata": {},
   "outputs": [
    {
     "data": {
      "text/plain": [
       "['5', '6', '7', '8', '9']"
      ]
     },
     "execution_count": 83,
     "metadata": {},
     "output_type": "execute_result"
    }
   ],
   "source": [
    "sorted(str(56879))"
   ]
  },
  {
   "cell_type": "code",
   "execution_count": 84,
   "metadata": {},
   "outputs": [
    {
     "name": "stdout",
     "output_type": "stream",
     "text": [
      "['P', 'h', 'n', 'o', 't', 'y']\n"
     ]
    }
   ],
   "source": [
    "py_string = 'Python'\n",
    "print(sorted(py_string))"
   ]
  },
  {
   "cell_type": "code",
   "execution_count": 88,
   "metadata": {},
   "outputs": [
    {
     "name": "stdout",
     "output_type": "stream",
     "text": [
      "['2', '2', '3', '9']\n",
      "52\n"
     ]
    }
   ],
   "source": [
    "num = 2932\n",
    "d = sorted(str(num))\n",
    "print(d)\n",
    "print(int(d[0] + d[2]) + int(d[1] + d[3]))"
   ]
  },
  {
   "cell_type": "code",
   "execution_count": 85,
   "metadata": {},
   "outputs": [
    {
     "data": {
      "text/plain": [
       "52"
      ]
     },
     "execution_count": 85,
     "metadata": {},
     "output_type": "execute_result"
    }
   ],
   "source": [
    "23+29"
   ]
  },
  {
   "cell_type": "markdown",
   "metadata": {},
   "source": [
    "# Divisible and Non-divisible Sums Difference\n",
    "https://leetcode.com/problems/divisible-and-non-divisible-sums-difference/submissions/"
   ]
  },
  {
   "cell_type": "code",
   "execution_count": null,
   "metadata": {},
   "outputs": [],
   "source": [
    "n, m = map(int, input().split())\n",
    "num1 = 0\n",
    "num2 = 0\n",
    "for i in range(1, n+1):\n",
    "    if i%m==0:\n",
    "        num2+=i\n",
    "    else:\n",
    "        num1+=i\n",
    "print(num1-num2)\n"
   ]
  },
  {
   "cell_type": "markdown",
   "metadata": {},
   "source": [
    "#  - 1486. XOR Operation in an Array\n",
    "https://leetcode.com/problems/xor-operation-in-an-array/"
   ]
  },
  {
   "cell_type": "code",
   "execution_count": null,
   "metadata": {},
   "outputs": [],
   "source": []
  },
  {
   "cell_type": "markdown",
   "metadata": {},
   "source": [
    "# - 1342. Number of Steps to Reduce a Number to Zero\n",
    "https://leetcode.com/problems/number-of-steps-to-reduce-a-number-to-zero/"
   ]
  },
  {
   "cell_type": "code",
   "execution_count": null,
   "metadata": {},
   "outputs": [],
   "source": [
    "# decision 1\n",
    "num = int(input())\n",
    "\n",
    "steps = 0\n",
    "\n",
    "while num !=0:\n",
    "if num%2==0:\n",
    "    steps += 1\n",
    "    num = num//2\n",
    "else:\n",
    "    num -= 1\n",
    "    steps += 1\n",
    "print(steps)"
   ]
  },
  {
   "cell_type": "code",
   "execution_count": null,
   "metadata": {},
   "outputs": [],
   "source": [
    "# decision 2\n",
    "def numberOfSteps(self, num: int) -> int:\n",
    "    steps = 0\n",
    "\n",
    "    while num != 0:\n",
    "        steps += 1\n",
    "        if num & 1:\n",
    "            num -= 1\n",
    "        else:\n",
    "            num >>= 1\n",
    "\n",
    "    return steps"
   ]
  },
  {
   "cell_type": "code",
   "execution_count": 1,
   "metadata": {},
   "outputs": [
    {
     "name": "stdout",
     "output_type": "stream",
     "text": [
      "14 0b1110\n",
      "14 0b1110\n",
      "7 0b111\n"
     ]
    }
   ],
   "source": [
    "num = 14\n",
    "print(num, bin(num))\n",
    "\n",
    "num & 1\n",
    "print(num, bin(num))\n",
    "\n",
    "num >>= 1 # сдвигаем num на один бит вправо\n",
    "print(num, bin(num))"
   ]
  },
  {
   "cell_type": "markdown",
   "metadata": {},
   "source": [
    "Данная функция принимает на вход целое число num и возвращает количество шагов, необходимых для приведения num к нулю. \n",
    "\n",
    "Функция использует цикл while для выполнения следующих действий: пока num не равно нулю, увеличиваем переменную steps на 1 и проверяем, является ли последний бит числа num единицей (с помощью побитовой операции & с числом 1). Если это так, то мы вычитаем из num единицу, иначе мы сдвигаем num на один бит вправо (с помощью побитовой операции >>).\n",
    "\n",
    "Таким образом, если последний бит числа num равен единице, мы вычитаем единицу и переходим к следующей итерации цикла. Если последний бит равен нулю, мы сдвигаем число на один бит вправо, что эквивалентно делению на два.\n",
    "\n",
    "Цикл продолжается до тех пор, пока num не станет равным нулю. Затем функция возвращает количество шагов, которые были выполнены в цикле while."
   ]
  },
  {
   "cell_type": "code",
   "execution_count": null,
   "metadata": {},
   "outputs": [],
   "source": [
    "class Solution:\n",
    "    \"\"\"\n",
    "    Time:   O(1)\n",
    "    Memory: O(1)\n",
    "    \"\"\"\n",
    "\n",
    "    def numberOfSteps(self, num: int) -> int:\n",
    "        if num == 0:\n",
    "            return 0\n",
    "        return num.bit_length() - 1 + num.bit_count()\n"
   ]
  },
  {
   "cell_type": "markdown",
   "metadata": {},
   "source": [
    "Данная функция принимает на вход целое число num и возвращает количество шагов, необходимых для приведения num к нулю.\n",
    "\n",
    "Сначала проверяется, равно ли число num нулю. Если да, то функция возвращает 0, так как число уже равно нулю.\n",
    "\n",
    "Далее используются методы bit_length() и bit_count() для подсчета количества битов числа num и количества единиц в его бинарном представлении соответственно. \n",
    "\n",
    "Чтобы понять, почему эти методы используются для подсчета количества шагов, нужно понимать, что каждый шаг в цикле while эквивалентен сдвигу числа на один бит вправо. Таким образом, количество шагов, необходимых для приведения числа к нулю, равно количеству битов числа минус 1 (так как последний шаг не требует сдвига) плюс количество единиц в бинарном представлении числа (так как каждая единица требует дополнительного вычитания единицы перед сдвигом).\n",
    "\n",
    "Например, для числа 14 (бинарное представление 1110) количество шагов будет равно 3 (4 бита - 1 + 3 единицы).\n",
    "\n",
    "Затем функция возвращает полученное количество шагов."
   ]
  },
  {
   "cell_type": "code",
   "execution_count": null,
   "metadata": {},
   "outputs": [],
   "source": [
    "class Solution:\n",
    "    def numberOfSteps(self, num: int) -> int:\n",
    "        # count the number of 1s and 0s in binary representation of num\n",
    "        return bin(num).count('1') - 1 + len(bin(num)) - 2"
   ]
  },
  {
   "cell_type": "markdown",
   "metadata": {},
   "source": [
    "bin(num) returns a string of the binary representation of num\n",
    "bin(123) = '0b1111011'\n",
    "bin(123).count('1') = 6\n",
    "len(bin(123)) = 9\n",
    "6 - 1 + 9 - 2 = 12"
   ]
  },
  {
   "cell_type": "code",
   "execution_count": null,
   "metadata": {},
   "outputs": [],
   "source": [
    "class Solution:\n",
    "    def numberOfSteps(self, num: int) -> int:\n",
    "        action = {0: lambda x: x // 2, 1: lambda x: x - 1}\n",
    "        \n",
    "        step = 0\n",
    "        while num:\n",
    "            num = action[num % 2](num)\n",
    "            step += 1\n",
    "            \n",
    "        return step"
   ]
  },
  {
   "cell_type": "markdown",
   "metadata": {},
   "source": [
    "Данная функция принимает на вход целое число num и возвращает количество шагов, необходимых для приведения num к нулю.\n",
    "\n",
    "Сначала создается словарь action, который содержит две функции: деление на 2 и вычитание 1. Ключи словаря соответствуют остатку от деления числа на 2 (0 или 1).\n",
    "\n",
    "Далее создается переменная step, которая будет хранить количество шагов.\n",
    "\n",
    "Затем запускается цикл while, который продолжается до тех пор, пока num не станет равным 0. Внутри цикла происходит вызов функции из словаря action, соответствующей остатку от деления num на 2. Результат этой функции присваивается переменной num. Таким образом, каждый шаг цикла эквивалентен применению одной из двух функций из словаря action к числу num.\n",
    "\n",
    "После каждого шага в цикле переменная step увеличивается на 1.\n",
    "\n",
    "Когда num становится равным 0, цикл завершается и функция возвращает количество шагов (переменную step)."
   ]
  },
  {
   "cell_type": "markdown",
   "metadata": {},
   "source": [
    "# 2535\n",
    "https://leetcode.com/problems/difference-between-element-sum-and-digit-sum-of-an-array/"
   ]
  },
  {
   "cell_type": "code",
   "execution_count": 9,
   "metadata": {},
   "outputs": [
    {
     "name": "stdout",
     "output_type": "stream",
     "text": [
      "0\n"
     ]
    }
   ],
   "source": [
    "#nums  = [1, 15, 6, 3]\n",
    "nums = [1,2,3,4]\n",
    "summa = sum(nums)\n",
    "dig_sum= 0\n",
    "for i in nums:\n",
    "    dig_sum += i //10\n",
    "    dig_sum += i % 10\n",
    "print(abs(summa-dig_sum))\n"
   ]
  },
  {
   "cell_type": "code",
   "execution_count": 24,
   "metadata": {},
   "outputs": [
    {
     "name": "stdout",
     "output_type": "stream",
     "text": [
      "16\n",
      "9\n"
     ]
    }
   ],
   "source": [
    "nums  = [1, 15, 6, 3]\n",
    "#nums = [1,2,3,4]\n",
    "\n",
    "dig_sum= 0\n",
    "\n",
    "for i in nums:\n",
    "    if i >= 10:\n",
    "\n",
    "        dig_sum += i % 10\n",
    "        dig_sum += i //10\n",
    "    else:\n",
    "        dig_sum+=i\n",
    "print(dig_sum)\n",
    "print(abs(sum(nums)-dig_sum))"
   ]
  },
  {
   "cell_type": "code",
   "execution_count": 10,
   "metadata": {},
   "outputs": [
    {
     "data": {
      "text/plain": [
       "0"
      ]
     },
     "execution_count": 10,
     "metadata": {},
     "output_type": "execute_result"
    }
   ],
   "source": [
    "# Accepted\n",
    "class Solution(object):\n",
    "    def differenceOfSum(self, nums):\n",
    "        \"\"\"\n",
    "        :type nums: List[int]\n",
    "        :rtype: int\n",
    "        \"\"\"\n",
    "        dig_sum= 0#\n",
    "        for i in nums: \n",
    "            while i != 0: # пока i не равно 0\n",
    "                dig_sum += i%10 # получаем последнюю цифру числа и записываем ее в сумму\n",
    "                i //=10 # меняем число отчекая посленюю цифру\n",
    "        return(abs(sum(nums)-dig_sum))"
   ]
  },
  {
   "cell_type": "code",
   "execution_count": null,
   "metadata": {},
   "outputs": [],
   "source": [
    "# 2652. Sum Multiples\n",
    "https://leetcode.com/problems/sum-multiples/"
   ]
  },
  {
   "cell_type": "code",
   "execution_count": 46,
   "metadata": {},
   "outputs": [
    {
     "name": "stdout",
     "output_type": "stream",
     "text": [
      "30\n"
     ]
    }
   ],
   "source": [
    "n = 9\n",
    "summa = 0\n",
    "for i in range(1,n+1):\n",
    "    if (i%3==0) or (i%5==0) or (i%7==0):\n",
    "        summa +=i\n",
    "print(summa)"
   ]
  },
  {
   "cell_type": "markdown",
   "metadata": {},
   "source": [
    "# 2520. Count the Digits That Divide a Number\n",
    "https://leetcode.com/problems/count-the-digits-that-divide-a-number/\n"
   ]
  },
  {
   "cell_type": "code",
   "execution_count": 94,
   "metadata": {},
   "outputs": [
    {
     "name": "stdout",
     "output_type": "stream",
     "text": [
      "4\n"
     ]
    }
   ],
   "source": [
    "#  # Accepted\n",
    "n = 1248\n",
    "m = n\n",
    "count = 0\n",
    "while m > 0:\n",
    "    if n % (m%10) == 0:\n",
    "        count+=1\n",
    "    m//=10 # m должно уменшаться внутри цикла while!\n",
    "print(count)"
   ]
  },
  {
   "cell_type": "code",
   "execution_count": 88,
   "metadata": {},
   "outputs": [
    {
     "name": "stdout",
     "output_type": "stream",
     "text": [
      "4\n"
     ]
    }
   ],
   "source": [
    "\n",
    "n = 121\n",
    "m = str(n)\n",
    "count=0\n",
    "for i in m:\n",
    "    x= int(i)\n",
    "    if n%x ==0:\n",
    "        count+=1\n",
    "print(count)"
   ]
  },
  {
   "cell_type": "code",
   "execution_count": null,
   "metadata": {},
   "outputs": [],
   "source": [
    "# Accepted\n",
    "class Solution(object):\n",
    "    def countDigits(self, num):\n",
    "        \"\"\"\n",
    "        :type num: int\n",
    "        :rtype: int\n",
    "        \"\"\"\n",
    "\n",
    "        m = str(num)\n",
    "        count=0\n",
    "        for i in m:\n",
    "            x= int(i)\n",
    "            if num%x ==0:\n",
    "                count+=1\n",
    "        return count"
   ]
  },
  {
   "cell_type": "markdown",
   "metadata": {},
   "source": [
    "# 1588\n",
    "https://leetcode.com/problems/sum-of-all-odd-length-subarrays/\n",
    "\n",
    "https://leetcode.com/problems/sum-of-all-odd-length-subarrays/solutions/919521/python-3-99-78-faster-and-100-less-space/"
   ]
  },
  {
   "cell_type": "markdown",
   "metadata": {},
   "source": [
    "Given an array of positive integers arr, return the sum of all possible odd-length subarrays of arr.\n",
    "\n",
    "A subarray is a contiguous subsequence of the array.\n",
    "\n",
    " \n",
    "\n",
    "Example 1:\n",
    "\n",
    "Input: arr = [1,4,2,5,3]\n",
    "Output: 58\n",
    "Explanation: The odd-length subarrays of arr and their sums are:\n",
    "[1] = 1\n",
    "[4] = 4\n",
    "[2] = 2\n",
    "[5] = 5\n",
    "[3] = 3\n",
    "[1,4,2] = 7\n",
    "[4,2,5] = 11\n",
    "[2,5,3] = 10\n",
    "[1,4,2,5,3] = 15\n",
    "If we add all these together we get 1 + 4 + 2 + 5 + 3 + 7 + 11 + 10 + 15 = 58\n",
    "Example 2:\n",
    "\n",
    "Input: arr = [1,2]\n",
    "Output: 3\n",
    "Explanation: There are only 2 subarrays of odd length, [1] and [2]. Their sum is 3.\n",
    "Example 3:\n",
    "\n",
    "Input: arr = [10,11,12]\n",
    "Output: 66\n"
   ]
  },
  {
   "cell_type": "code",
   "execution_count": 18,
   "metadata": {},
   "outputs": [
    {
     "name": "stdout",
     "output_type": "stream",
     "text": [
      "15\n"
     ]
    }
   ],
   "source": [
    "lst = [1,4,2,5,3]\n",
    "#lst = [1,2]\n",
    "qnt = len(lst)\n",
    "qnt%2, qnt//2, qnt/2, qnt-1\n",
    "if qnt%2!=0:\n",
    "    print(sum(lst)) #  print(lst[qnt-1]), print(lst[:-1:2]),\n",
    "if qnt%2==0:\n",
    "    print(sum(lst[:-1])) # \n",
    "\n",
    "12345\n",
    "j=1\n",
    "\n",
    "k = j+2"
   ]
  },
  {
   "cell_type": "markdown",
   "metadata": {},
   "source": [
    "for example arr = [1,4,2,5,3], element arr[0] = 1. The appearing freq of head element arr[0] should be how many odd-length sub arrays it can generate. The answer is (len(arr)+1)//2. Therefore, the freq of element arr[0] = 1 is (5+1)//2=3."
   ]
  },
  {
   "cell_type": "code",
   "execution_count": 38,
   "metadata": {},
   "outputs": [
    {
     "data": {
      "text/plain": [
       "3"
      ]
     },
     "execution_count": 38,
     "metadata": {},
     "output_type": "execute_result"
    }
   ],
   "source": [
    "arr = [1,4,2,5,3]\n",
    "arr[0]\n",
    "(len(arr)+1)//2"
   ]
  },
  {
   "cell_type": "code",
   "execution_count": 39,
   "metadata": {},
   "outputs": [
    {
     "data": {
      "text/plain": [
       "3"
      ]
     },
     "execution_count": 39,
     "metadata": {},
     "output_type": "execute_result"
    }
   ],
   "source": [
    "#freq-(i+1)//2+(n-i+1)//2\n",
    "0-(0+1)//2+(5-0+1)//2"
   ]
  },
  {
   "cell_type": "code",
   "execution_count": 34,
   "metadata": {},
   "outputs": [
    {
     "name": "stdout",
     "output_type": "stream",
     "text": [
      "6\n",
      "3\n"
     ]
    }
   ],
   "source": [
    "lst = [1,2,3,4,5,6,7,8,9]\n",
    "qnt = len(lst)\n",
    "\n",
    "# if qnt%2!=0:\n",
    "#     print(sum(lst)) #  print(lst[qnt-1]), print(lst[:-1:2]),\n",
    "# if qnt%2==0:\n",
    "#     print(sum(lst[:-1]))\n",
    "\n",
    "indx  = 0\n",
    "step = 2\n",
    "s=0\n",
    "sq = True\n",
    "while True\n",
    "for i in lst[indx:step+1]:\n",
    "    s += i\n",
    "    indx+=1\n",
    "print(s)\n",
    "print(i)\n",
    "\n",
    "# for j in range(0,qnt,3):\n",
    "    # print(lst[::2])\n"
   ]
  },
  {
   "cell_type": "code",
   "execution_count": 7,
   "metadata": {},
   "outputs": [
    {
     "data": {
      "text/plain": [
       "True"
      ]
     },
     "execution_count": 7,
     "metadata": {},
     "output_type": "execute_result"
    }
   ],
   "source": [
    "6%2!=0"
   ]
  },
  {
   "cell_type": "markdown",
   "metadata": {},
   "source": [
    "# 1688. Count of Matches in Tournament\n",
    "https://leetcode.com/problems/count-of-matches-in-tournament/\n"
   ]
  },
  {
   "cell_type": "markdown",
   "metadata": {},
   "source": [
    "You are given an integer n, the number of teams in a tournament that has strange rules:\n",
    "\n",
    "If the current number of teams is even, each team gets paired with another team. A total of n / 2 matches are played, and n / 2 teams advance to the next round.\n",
    "If the current number of teams is odd, one team randomly advances in the tournament, and the rest gets paired. A total of (n - 1) / 2 matches are played, and (n - 1) / 2 + 1 teams advance to the next round.\n",
    "Return the number of matches played in the tournament until a winner is decided."
   ]
  },
  {
   "cell_type": "markdown",
   "metadata": {},
   "source": [
    "Explanation: Details of the tournament: \n",
    "- 1st Round: Teams = 7, Matches = 3, and 4 teams advance.\n",
    "- 2nd Round: Teams = 4, Matches = 2, and 2 teams advance.\n",
    "- 3rd Round: Teams = 2, Matches = 1, and 1 team is declared the winner.\n",
    "Total number of matches = 3 + 2 + 1 = 6."
   ]
  },
  {
   "cell_type": "code",
   "execution_count": 42,
   "metadata": {},
   "outputs": [
    {
     "name": "stdout",
     "output_type": "stream",
     "text": [
      "6\n"
     ]
    }
   ],
   "source": [
    "num_teams = 7 # int(input())\n",
    "matches = 0\n",
    "while num_teams!=1:\n",
    "    if num_teams%2==0: # если количество команд четно\n",
    "        \n",
    "        matches += num_teams/2 # к-во матчей = к-во команд: 2\n",
    "        num_teams = num_teams/2 # изменяем к-во команд: к-во команд/2\n",
    "    else:\n",
    "        matches += (num_teams-1)/2 # к-во матчей = к-во команд: 2\n",
    "        num_teams = (num_teams-1)/2+1 # изменяем к-во команд: к-во команд/2\n",
    "print(int(matches)) \n",
    "\n",
    "\n",
    "\n"
   ]
  },
  {
   "cell_type": "code",
   "execution_count": null,
   "metadata": {},
   "outputs": [],
   "source": [
    "# Accepted\n",
    "class Solution:\n",
    "    def numberOfMatches(self, n: int) -> int:\n",
    "\n",
    "        matches = 0\n",
    "        while n!=1:\n",
    "            if n%2==0: # если количество команд четно\n",
    "                \n",
    "                matches += n/2 # к-во матчей = к-во команд: 2\n",
    "                n = n/2 # изменяем к-во команд: к-во команд/2\n",
    "            else:\n",
    "                matches += (n-1)/2 # к-во матчей = к-во команд: 2\n",
    "                n = (n-1)/2+1 # изменяем к-во команд: к-во команд/2\n",
    "        return int(matches)\n",
    "\n",
    "\n",
    "\n"
   ]
  },
  {
   "cell_type": "markdown",
   "metadata": {},
   "source": [
    "# 1323. Maximum 69 Number\n",
    "https://leetcode.com/problems/maximum-69-number/\n"
   ]
  },
  {
   "cell_type": "markdown",
   "metadata": {},
   "source": [
    "You are given a positive integer num consisting only of digits 6 and 9.\n",
    "\n",
    "Return the maximum number you can get by changing at most one digit (6 becomes 9, and 9 becomes 6).\n",
    "\n"
   ]
  },
  {
   "cell_type": "markdown",
   "metadata": {},
   "source": [
    "Example 1:\n",
    "\n",
    "Input: num = 9669\n",
    "Output: 9969\n",
    "Explanation: \n",
    "Changing the first digit results in 6669.\n",
    "Changing the second digit results in 9969.\n",
    "Changing the third digit results in 9699.\n",
    "Changing the fourth digit results in 9666.\n",
    "The maximum number is 9969.\n"
   ]
  },
  {
   "cell_type": "code",
   "execution_count": 62,
   "metadata": {},
   "outputs": [
    {
     "name": "stdout",
     "output_type": "stream",
     "text": [
      "9\n",
      "6\n",
      "6\n",
      "9\n"
     ]
    }
   ],
   "source": [
    "f =  \"9669\"\n",
    "# int(\"9669\")\n",
    "f[0] + '9'+f[2:]\n",
    "for i, dig in enumerate(f):\n",
    "    print(dig)"
   ]
  },
  {
   "cell_type": "code",
   "execution_count": 56,
   "metadata": {},
   "outputs": [
    {
     "name": "stdout",
     "output_type": "stream",
     "text": [
      "9969\n"
     ]
    }
   ],
   "source": [
    "num = 9669\n",
    "num_s = str(num)\n",
    "for i in range(len(num_s)):\n",
    "    if num_s[i]==\"9\":\n",
    "        pass\n",
    "    else:\n",
    "        num_s = num_s[:i] + '9'+num_s[i+1:]\n",
    "        break \n",
    "print(int(num_s))\n",
    "    "
   ]
  },
  {
   "cell_type": "code",
   "execution_count": null,
   "metadata": {},
   "outputs": [],
   "source": [
    "class Solution:\n",
    "    def maximum69Number (self, num: int) -> int:\n",
    "        num_s = str(num) #переводим число в строку\n",
    "        for i in range(len(num_s)): #проходимся по последовательно по индексу числа\n",
    "            if num_s[i]==\"9\": # если число по индексу i == '9', то \n",
    "                pass # идем дальше. Ничего не делаем\n",
    "            else: # ели не равно \"9\"\n",
    "                num_s = num_s[:i] + '9'+num_s[i+1:] # заменяем число по данному индексу на 9. И складываем с числами до и после индекса\n",
    "                break  # прерываем выполнение программы\n",
    "        return int(num_s) # прерводим число-строку обратно в целое число"
   ]
  },
  {
   "cell_type": "code",
   "execution_count": null,
   "metadata": {},
   "outputs": [],
   "source": [
    "# Decision 1\n",
    "class Solution:\n",
    "    def maximum69Number (self, num: int) -> int:\n",
    "        return int(str(num).replace(\"6\",\"9\",1))\n",
    "    \n",
    "# Decision 2:\n",
    "class Solution:\n",
    "    def maximum69Number (self, num: int) -> int:\n",
    "        num_str = str(num)\n",
    "    \n",
    "        for i, digit in enumerate(num_str):\n",
    "            if digit == \"6\":\n",
    "                return int(num_str[:i] + \"9\" + num_str[i+1:]) \n",
    "        return num\n",
    "    \n",
    "# Decision 3:\n",
    "class Solution:\n",
    "    def maximum69Number (self, num: int) -> int:\n",
    "\n",
    "        # find the first 6 and change into 9\n",
    "        '''\n",
    "        ### USE STRING METHOD\n",
    "        num_string = str(num)\n",
    "\n",
    "        if \"6\" in num_string:\n",
    "            num_string = num_string.replace('6','9', 1)\n",
    "            #print('found')\n",
    "\n",
    "        #print(num_string)\n",
    "        \n",
    "        return int(num_string)\n",
    "        '''\n",
    "\n",
    "        # USE MATH APPROACH\n",
    "\n",
    "        change_idx = 0\n",
    "\n",
    "        counter = 1\n",
    "        tmp = num\n",
    "\n",
    "        while tmp > 0:\n",
    "\n",
    "            cur_num = tmp%10\n",
    "\n",
    "            if cur_num == 6:\n",
    "                change_idx = counter\n",
    "\n",
    "            tmp = int(tmp/10)\n",
    "\n",
    "            counter += 1\n",
    "\n",
    "        if change_idx:\n",
    "            front = int(num/(10**change_idx)) * (10**change_idx) # 9900\n",
    "            mid = 9*(10**(change_idx-1)) # 90\n",
    "            back = num%(10**(change_idx-1)) #9\n",
    "            print(front, mid, back)\n",
    "            num = front + mid + back\n",
    "\n",
    "        return num\n",
    "    \n",
    "# Decision 4\n",
    "\n",
    "class Solution:\n",
    "    def maximum69Number (self, num: int) -> int:\n",
    "        m=num\n",
    "        s=(str(num))\n",
    "        for i in range(len(s)):\n",
    "            if s[i]==\"6\":\n",
    "                temp=(int(s[:i]+\"9\"+s[i+1:]))\n",
    "            else:\n",
    "                temp=(int(s[:i]+\"6\"+s[i+1:]))\n",
    "            m=max(m,temp)\n",
    "        return m"
   ]
  },
  {
   "cell_type": "markdown",
   "metadata": {},
   "source": [
    "# 2485. Find the Pivot Integer\n",
    "https://leetcode.com/problems/find-the-pivot-integer/"
   ]
  },
  {
   "cell_type": "markdown",
   "metadata": {},
   "source": [
    "Given a positive integer n, find the pivot integer x such that:\n",
    "\n",
    "The sum of all elements between 1 and x inclusively equals the sum of all elements between x and n inclusively.\n",
    "Return the pivot integer x. If no such integer exists, return -1. It is guaranteed that there will be at most one pivot index for the given input."
   ]
  },
  {
   "cell_type": "markdown",
   "metadata": {},
   "source": [
    "Example 1:\n",
    "\n",
    "Input: n = 8\n",
    "Output: 6\n",
    "Explanation: 6 is the pivot integer since: 1 + 2 + 3 + 4 + 5 + 6 = 6 + 7 + 8 = 21.\n",
    "Example 2:\n",
    "\n",
    "Input: n = 1\n",
    "Output: 1\n",
    "Explanation: 1 is the pivot integer since: 1 = 1.\n",
    "Example 3:\n",
    "\n",
    "Input: n = 4\n",
    "Output: -1\n",
    "Explanation: It can be proved that no such integer exist."
   ]
  },
  {
   "cell_type": "markdown",
   "metadata": {},
   "source": [
    "The sum of the members of a finite arithmetic progression is called an arithmetic series.\n",
    "This sum can be found quickly by taking the number n of terms being added, multiplying by the sum of the first and last number in the progressio and dividing by 2\n",
    "In this problem we have two algebraic progressions:\n",
    "from 1 to pivot --> (1+pivot)∗pivot/2(1 + pivot) * pivot / 2(1+pivot)∗pivot/2\n",
    "from pivot to n --> (pivot+n)∗(n−pivot+1)/2(pivot + n) * (n - pivot + 1) / 2(pivot+n)∗(n−pivot+1)/2\n",
    "If they are equal to each other: return pivot\n",
    "Else: return -1"
   ]
  },
  {
   "cell_type": "markdown",
   "metadata": {},
   "source": [
    "Этот код представляет собой функцию, которая принимает один аргумент n. Она выполняет цикл for, в котором переменная pivot принимает значения от 1 до n. Внутри цикла проверяется условие: если произведение (1+pivot)*pivot равно произведению (pivot+n)*(n-pivot+1), то функция возвращает значение pivot. Если ни одно из значений pivot не удовлетворяет этому условию, то функция возвращает -1.\n",
    "\n",
    "Таким образом, код ищет значение pivot, которое удовлетворяет указанному условию, и возвращает его. Если такого значения нет, то возвращается -1."
   ]
  },
  {
   "cell_type": "code",
   "execution_count": null,
   "metadata": {},
   "outputs": [],
   "source": [
    "class Solution:\n",
    "    def pivotInteger(self, n: int) -> int:\n",
    "        for pivot in range(1, n + 1):\n",
    "            if (1 + pivot) * pivot == (pivot + n) * (n - pivot + 1):\n",
    "                return pivot\n",
    "        return -1\n"
   ]
  },
  {
   "cell_type": "markdown",
   "metadata": {},
   "source": [
    "# 2427. Number of Common Factors\n",
    "https://leetcode.com/problems/number-of-common-factors/"
   ]
  },
  {
   "cell_type": "markdown",
   "metadata": {},
   "source": [
    "Given two positive integers a and b, return the number of common factors of a and b.\n",
    "\n",
    "An integer x is a common factor of a and b if x divides both a and b."
   ]
  },
  {
   "cell_type": "markdown",
   "metadata": {},
   "source": [
    "Example 1:\n",
    "\n",
    "Input: a = 12, b = 6\n",
    "Output: 4\n",
    "Explanation: The common factors of 12 and 6 are 1, 2, 3, 6.\n",
    "Example 2:\n",
    "\n",
    "Input: a = 25, b = 30\n",
    "Output: 2\n",
    "Explanation: The common factors of 25 and 30 are 1, 5."
   ]
  },
  {
   "cell_type": "code",
   "execution_count": 9,
   "metadata": {},
   "outputs": [
    {
     "name": "stdout",
     "output_type": "stream",
     "text": [
      "4\n"
     ]
    }
   ],
   "source": [
    "a=12\n",
    "b=6\n",
    "\n",
    "lst_a= [] # инициализация списка для а\n",
    "lst_b= [] # инициализация списка для в\n",
    "for num in range(1, a+1): #  проходимся по ряду от 1 до числа a\n",
    "    if a%num==0: # если остаток при делении числа на num = 0\n",
    "        lst_a.append(num) # то добавляем в список\n",
    "for num in range(1, b+1): #\n",
    "    if b%num==0: #\n",
    "        lst_b.append(num) #\n",
    "common = set(lst_a) & set(lst_b) # находим общие числа в списках а и в и сохраняем в новый список\n",
    "print(len(common)) # выводим количество общих элементов \n",
    "# print(lst_a, lst_b, common)"
   ]
  },
  {
   "cell_type": "code",
   "execution_count": null,
   "metadata": {},
   "outputs": [],
   "source": [
    "class Solution:\n",
    "    def commonFactors(self, a: int, b: int) -> int:\n",
    "        min_ele=min(a,b)\n",
    "        count=0\n",
    "        while min_ele>0:\n",
    "            if ( a%min_ele==0 and b%min_ele==0):\n",
    "                count+=1\n",
    "            min_ele-=1\n",
    "        return count"
   ]
  },
  {
   "cell_type": "code",
   "execution_count": null,
   "metadata": {},
   "outputs": [],
   "source": [
    "class Solution:\n",
    "    def commonFactors(self, a: int, b: int) -> int: # // a = 12, b = 6\n",
    "        count = 0\n",
    "        minn = min(a,b) # minn = 6\n",
    "        if max(a,b) % minn == 0: # // 12 % 6 is 0, so count = 1 now\n",
    "            count +=1\n",
    "        for i in range(1,(minn//2)+1): # range is 1 to (6//2+1) \n",
    "            if a % i == 0 and b % i ==0: # // the condition will be true when i = 1,2,3\n",
    "                count +=1\n",
    "        return count # count = 4"
   ]
  },
  {
   "cell_type": "code",
   "execution_count": null,
   "metadata": {},
   "outputs": [],
   "source": [
    "class Solution:\n",
    "    def commonFactors(self, a: int, b: int) -> int:\n",
    "        if a > b:\n",
    "            n = a\n",
    "        else:\n",
    "            n = b\n",
    "\n",
    "        count = 0\n",
    "        for i in range(1,n+1):\n",
    "            if a % i == 0 and b % i == 0:\n",
    "                count += 1\n",
    "            else:\n",
    "                continue\n",
    "\n",
    "        return count"
   ]
  },
  {
   "cell_type": "code",
   "execution_count": null,
   "metadata": {},
   "outputs": [],
   "source": [
    "class Solution:\n",
    "    def commonFactors(self, a: int, b: int) -> int:\n",
    "        if a<b:\n",
    "            n=a\n",
    "        else:\n",
    "            n=b\n",
    "        count=0\n",
    "        for i in range(1,int(pow(n,0.5)+1)):\n",
    "            if a%i==0 and b%i==0:\n",
    "                 count+=1\n",
    "            j=n//i\n",
    "            if i!=j:\n",
    "                if a%j==0 and b%j==0:\n",
    "                  count+=1\n",
    "                  print (i,j)\n",
    "        return count\n"
   ]
  },
  {
   "cell_type": "markdown",
   "metadata": {},
   "source": [
    "# 2651. Calculate Delayed Arrival Time\n",
    "https://leetcode.com/problems/calculate-delayed-arrival-time/"
   ]
  },
  {
   "cell_type": "markdown",
   "metadata": {},
   "source": [
    "Example 1:\n",
    "\n",
    "Input: arrivalTime = 15, delayedTime = 5 \n",
    "Output: 20 \n",
    "Explanation: Arrival time of the train was 15:00 hours. It is delayed by 5 hours. Now it will reach at 15+5 = 20 (20:00 hours).\n",
    "Example 2:\n",
    "\n",
    "Input: arrivalTime = 13, delayedTime = 11\n",
    "Output: 0\n",
    "Explanation: Arrival time of the train was 13:00 hours. It is delayed by 11 hours. Now it will reach at 13+11=24 (Which is denoted by 00:00 in 24 hours format so return 0).\n"
   ]
  },
  {
   "cell_type": "code",
   "execution_count": 82,
   "metadata": {},
   "outputs": [
    {
     "name": "stdout",
     "output_type": "stream",
     "text": [
      "16\n"
     ]
    }
   ],
   "source": [
    "arrivalTime = 15\n",
    "delayedTime = 49\n",
    "\n",
    "print((arrivalTime + delayedTime) % 24)"
   ]
  },
  {
   "cell_type": "markdown",
   "metadata": {},
   "source": [
    "# 2119. A Number After a Double Reversal\n",
    "https://leetcode.com/problems/a-number-after-a-double-reversal/"
   ]
  },
  {
   "cell_type": "markdown",
   "metadata": {},
   "source": [
    "Reversing an integer means to reverse all its digits.\n",
    "\n",
    "For example, reversing 2021 gives 1202. Reversing 12300 gives 321 as the leading zeros are not retained.\n",
    "Given an integer num, reverse num to get reversed1, then reverse reversed1 to get reversed2. Return true if reversed2 equals num. Otherwise return fals"
   ]
  },
  {
   "cell_type": "markdown",
   "metadata": {},
   "source": [
    "Example 1:\n",
    "\n",
    "Input: num = 526\n",
    "Output: true\n",
    "Explanation: Reverse num to get 625, then reverse 625 to get 526, which equals num.\n",
    "Example 2:\n",
    "\n",
    "Input: num = 1800\n",
    "Output: false\n",
    "Explanation: Reverse num to get 81, then reverse 81 to get 18, which does not equal num.\n",
    "Example 3:\n",
    "\n",
    "Input: num = 0\n",
    "Output: true\n",
    "Explanation: Reverse num to get 0, then reverse 0 to get 0, which equals num."
   ]
  },
  {
   "cell_type": "code",
   "execution_count": 90,
   "metadata": {},
   "outputs": [
    {
     "data": {
      "text/plain": [
       "54321"
      ]
     },
     "execution_count": 90,
     "metadata": {},
     "output_type": "execute_result"
    }
   ],
   "source": [
    "# РЕВЕРС ЧИСЛА\n",
    "number = 12345\n",
    "reversed_number = 0\n",
    "\n",
    "while number != 0:\n",
    "    digit = number % 10\n",
    "    reversed_number = reversed_number * 10 + digit\n",
    "    number //= 10\n",
    "reversed_number\n"
   ]
  },
  {
   "cell_type": "code",
   "execution_count": 107,
   "metadata": {},
   "outputs": [
    {
     "name": "stdout",
     "output_type": "stream",
     "text": [
      "True 0 -> 0 -> 0\n"
     ]
    }
   ],
   "source": [
    "\n",
    "num = 0 # inintial number\n",
    "num_c = num # inintial number to devide\n",
    "reversed_number = 0 # revesion of the in initial number\n",
    "reversed_reversion = 0 #\n",
    "reversed_number_c = 0 #  revesion to devide\n",
    "\n",
    "while num_c != 0:\n",
    "    digit = num_c % 10\n",
    "    reversed_number = reversed_number * 10 + digit\n",
    "    num_c //= 10\n",
    "    reversed_number_c = reversed_number \n",
    "# print(reversed_number, reversed_number_c )\n",
    "\n",
    "while reversed_number_c != 0:\n",
    "    digit = reversed_number_c % 10\n",
    "    reversed_reversion = reversed_reversion * 10 + digit\n",
    "    reversed_number_c //= 10\n",
    "\n",
    "print(reversed_reversion == num, num, '->', reversed_number, '->', reversed_reversion )\n",
    "# print(reversed_number_c, num_c )"
   ]
  },
  {
   "cell_type": "code",
   "execution_count": null,
   "metadata": {},
   "outputs": [],
   "source": [
    "class Solution:\n",
    "    def isSameAfterReversals(self, num: int) -> bool:\n",
    "\n",
    "\n",
    "        # num = 0 # inintial number\n",
    "        num_c = num # inintial number to devide\n",
    "        reversed_number = 0 # revesion of the in initial number\n",
    "        reversed_reversion = 0 #\n",
    "        reversed_number_c = 0 #  revesion to devide\n",
    "\n",
    "        while num_c != 0:# идем по цифрам num_c пока !=0\n",
    "            digit = num_c % 10# находим последнюю цифру\n",
    "            reversed_number = reversed_number * 10 + digit# * на 10 задумманое число + найденная цифра\n",
    "            num_c //= 10# отрезаем последнюю цифру\n",
    "            reversed_number_c = reversed_number #\n",
    "        # print(reversed_number, reversed_number_c )\n",
    "\n",
    "        while reversed_number_c != 0:\n",
    "            digit = reversed_number_c % 10\n",
    "            reversed_reversion = reversed_reversion * 10 + digit\n",
    "            reversed_number_c //= 10\n",
    "        return reversed_reversion == num \n",
    "\n",
    "        # print(reversed_reversion == num, num, '->', reversed_number, '->', reversed_reversion )\n",
    "        # # print(reversed_number_c, num_c )"
   ]
  },
  {
   "cell_type": "markdown",
   "metadata": {},
   "source": [
    "There are two options:\n",
    "\n",
    "If the last digit is 0 --> False\n",
    "In another situatiion --> True\n"
   ]
  },
  {
   "cell_type": "code",
   "execution_count": null,
   "metadata": {},
   "outputs": [],
   "source": [
    "class Solution:\n",
    "    def isSameAfterReversals(self, num: int) -> bool:\n",
    "            return num == 0 or num % 10 != 0"
   ]
  },
  {
   "cell_type": "code",
   "execution_count": null,
   "metadata": {},
   "outputs": [],
   "source": [
    "class Solution:\n",
    "    def isSameAfterReversals(self, num: int) -> bool:\n",
    "        if len(str(num)) > 1 and str(num)[-1] == \"0\":\n",
    "            return False\n",
    "        else:\n",
    "            return True"
   ]
  },
  {
   "cell_type": "code",
   "execution_count": 115,
   "metadata": {},
   "outputs": [
    {
     "name": "stdout",
     "output_type": "stream",
     "text": [
      "True\n"
     ]
    }
   ],
   "source": [
    "num = 456 # 12300,0\n",
    "print(num%10 !=0 or num == 0) # если остаток от деления на 10(посл цифра) это 0, то вывод FALSE, \n",
    "# num%10 ==0 выведет ТРУ при n=1200, а нам надо false => исполльзуем отрицание !=0"
   ]
  },
  {
   "cell_type": "markdown",
   "metadata": {},
   "source": [
    "# Sum of All Odd Length Subarrays\n",
    "\n",
    "https://leetcode.com/problems/sum-of-all-odd-length-subarrays/"
   ]
  },
  {
   "cell_type": "markdown",
   "metadata": {},
   "source": [
    "The idea is to count the frequency of each element in arr appearing in the sub array, then sum up arr[i]*freq[i]. The key is how to count the freq[i] of each element arr[i]. Actually, freq[i] = freq[i-1]-(i+1)//2+(n-i+1)//2. n is the arr length.\n",
    "\n",
    "for example arr = [1,4,2,5,3], element arr[0] = 1. The appearing freq of head element arr[0] should be how many odd-length sub arrays it can generate. The answer is (len(arr)+1)//2. Therefore, the freq of element arr[0] = 1 is (5+1)//2=3.\n",
    "\n",
    "Now let's take element arr[1] = 4 for example, if we take element arr[0] = 1 out, then arr[1] = 4 becomes the new head element, thus the freq of arr[1] = 4 in the new subarray could be calculated as the same way of arr[0] = 1. It seems that all we need to do is add the freq of previous element arr[0] up then we get the freq of arr[1].\n",
    "\n",
    "No, we also need to minus the subarrays of previous element arr[0] = 1 when they do not include arr[1]=4. In this case, it is [1]. This is why freq[i] = freq[i-1]-(i+1)//2+(n-i+1)//2.\n",
    "\n",
    "To sum up, the core idea is to find the relationship between freq_current_element and freq_previous_element."
   ]
  },
  {
   "cell_type": "code",
   "execution_count": null,
   "metadata": {},
   "outputs": [],
   "source": [
    "lass Solution:\n",
    "    def sumOddLengthSubarrays(self, arr: List[int]) -> int:\n",
    "        # corner case\n",
    "        \n",
    "        res = 0; freq = 0; n = len(arr) # res = 0; freq = 0; n = length of the arr\n",
    "        for i in range(n): #i = index of each digit in an array \n",
    "            freq = freq-(i+1)//2+(n-i+1)//2\n",
    "            res += freq*arr[i]\n",
    "        return res"
   ]
  },
  {
   "cell_type": "code",
   "execution_count": 6,
   "metadata": {},
   "outputs": [
    {
     "name": "stdout",
     "output_type": "stream",
     "text": [
      "[1, 4, 2]\n",
      "[4, 2, 5]\n",
      "[2, 5, 3]\n",
      "[5, 3]\n",
      "[3]\n"
     ]
    }
   ],
   "source": [
    "arr = [1,4,2,5,3]\n",
    "for i in range(len(arr)):\n",
    "    m=arr[i:i+3]\n",
    "    print(m)"
   ]
  },
  {
   "cell_type": "code",
   "execution_count": 7,
   "metadata": {},
   "outputs": [
    {
     "data": {
      "text/plain": [
       "5"
      ]
     },
     "execution_count": 7,
     "metadata": {},
     "output_type": "execute_result"
    }
   ],
   "source": [
    "arr = [1,4,2,5,3]\n",
    "l = len(arr)\n",
    "l"
   ]
  },
  {
   "cell_type": "markdown",
   "metadata": {},
   "source": [
    "# 1290. Convert Binary Number in a Linked List to Integer\n",
    "\n",
    "https://leetcode.com/problems/convert-binary-number-in-a-linked-list-to-integer/description/\n"
   ]
  },
  {
   "cell_type": "markdown",
   "metadata": {},
   "source": [
    "Given head which is a reference node to a singly-linked list. The value of each node in the linked list is either 0 or 1. The linked list holds the binary representation of a number.\n",
    "\n",
    "Return the decimal value of the number in the linked list.\n",
    "\n",
    "The most significant bit is at the head of the linked list."
   ]
  },
  {
   "cell_type": "code",
   "execution_count": null,
   "metadata": {},
   "outputs": [],
   "source": [
    "class Solution:\n",
    "    def getDecimalValue(self, head: ListNode) -> int:\n",
    "        ans = 0\n",
    "        while head: \n",
    "            ans = 2*ans + head.val \n",
    "            head = head.next \n",
    "        return ans "
   ]
  },
  {
   "cell_type": "code",
   "execution_count": null,
   "metadata": {},
   "outputs": [],
   "source": [
    "# Definition for singly-linked list.\n",
    "# class ListNode:\n",
    "#     def __init__(self, val=0, next=None):\n",
    "#         self.val = val\n",
    "#         self.next = next\n",
    "class Solution:\n",
    "    def getDecimalValue(self, head: ListNode) -> int:\n",
    "        \n",
    "        val = 0\n",
    "        curr = head\n",
    "        while curr:\n",
    "            val <<= 1\n",
    "            val |= curr.val\n",
    "            curr = curr.next\n",
    "    \n",
    "\n",
    "        return val"
   ]
  },
  {
   "cell_type": "code",
   "execution_count": null,
   "metadata": {},
   "outputs": [],
   "source": [
    "# Definition for singly-linked list.\n",
    "# class ListNode:\n",
    "#     def __init__(self, val=0, next=None):\n",
    "#         self.val = val\n",
    "#         self.next = next\n",
    "class Solution:\n",
    "    def getDecimalValue(self, head: ListNode) -> int:\n",
    "        if not head:\n",
    "            return 0\n",
    "        result = head.val\n",
    "        while head.next:\n",
    "            result = result * 2 + head.next.val\n",
    "            head = head.next\n",
    "        return result"
   ]
  },
  {
   "cell_type": "code",
   "execution_count": null,
   "metadata": {},
   "outputs": [],
   "source": [
    "class Solution:\n",
    "    def getDecimalValue(self, head: ListNode) -> int:\n",
    "        res = 0\n",
    "        while head:\n",
    "            res = res * 2 + head.val\n",
    "            head = head.next\n",
    "        return res"
   ]
  }
 ],
 "metadata": {
  "kernelspec": {
   "display_name": "base",
   "language": "python",
   "name": "python3"
  },
  "language_info": {
   "codemirror_mode": {
    "name": "ipython",
    "version": 3
   },
   "file_extension": ".py",
   "mimetype": "text/x-python",
   "name": "python",
   "nbconvert_exporter": "python",
   "pygments_lexer": "ipython3",
   "version": "3.11.4"
  },
  "orig_nbformat": 4
 },
 "nbformat": 4,
 "nbformat_minor": 2
}

{
 "cells": [
  {
   "cell_type": "markdown",
   "metadata": {},
   "source": [
    "Fork это операция клонирования чужого репозитория в сво  личный аакаунт гитхаба, для дальнейшего пул реквеста. \n",
    "Pull requests - это процедура переноса изменетй из личного репозитория в форкнутый репозиторий, возможен только при наличии изменений."
   ]
  },
  {
   "cell_type": "markdown",
   "metadata": {},
   "source": [
    "Октивация виртуального окружения \n",
    "python -m venv venv"
   ]
  },
  {
   "cell_type": "markdown",
   "metadata": {},
   "source": [
    "Linter - это инструмент анализа и потска ошиюок, согласно PEP 8.\n",
    "Flake8 - это linter .\n",
    "Black - это тнструмент автоформатирования кода согласна linter/\n"
   ]
  },
  {
   "cell_type": "code",
   "execution_count": null,
   "metadata": {},
   "outputs": [
    {
     "ename": "",
     "evalue": "",
     "output_type": "error",
     "traceback": [
      "\u001b[1;31mДля выполнения ячеек с \"Python 3.8.0 ('venv': venv)\" требуется пакет ipykernel.\n",
      "\u001b[1;31mВыполните следующую команду, чтобы установить \"ipykernel\" в среде Python. \n",
      "\u001b[1;31mКоманда: \"c:/Users/Tanya/Documents/Github/python-Tatiana/venv/Scripts/python.exe -m pip install ipykernel -U --force-reinstall\""
     ]
    }
   ],
   "source": [
    "w = int(input())\n",
    "\n",
    "if w % 2 == 0 and w > 2:\n",
    "    print('yes')\n",
    "else:\n",
    "    print('no')"
   ]
  }
 ],
 "metadata": {
  "kernelspec": {
   "display_name": "Python 3.8.0 ('venv': venv)",
   "language": "python",
   "name": "python3"
  },
  "language_info": {
   "name": "python",
   "version": "3.8.0"
  },
  "orig_nbformat": 4,
  "vscode": {
   "interpreter": {
    "hash": "7debfb7ff2a65a67fe4c33e05f6711e03aa7e44d9c4bd9c2a5f14dff9cc136af"
   }
  }
 },
 "nbformat": 4,
 "nbformat_minor": 2
}

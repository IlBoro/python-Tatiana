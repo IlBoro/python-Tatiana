{
 "cells": [
  {
   "cell_type": "markdown",
   "metadata": {},
   "source": [
    "ООП - методология програмирования основанная на представоении программы в виде сосокупности объектов, каждый из который является экземпляром определнного класса. Классы образуют иерархию"
   ]
  },
  {
   "cell_type": "markdown",
   "metadata": {},
   "source": [
    "Термины:\n",
    "1. класс - описывает семейство каких-то объектов\n",
    "2. Объект (=экземпляр класса) - конкретный объект из класса\n",
    "3. Свойство класса - характеристики класса\n",
    "4. Метод класса - действие, которое может выполнять объект класса\n",
    "5. Родительский класс - напаример класс кошка\n",
    "6. Дочерний класс - парода мейкун класс кошка"
   ]
  },
  {
   "cell_type": "markdown",
   "metadata": {},
   "source": [
    "Принципы ООП:\n",
    "\n",
    "7. Инкакпсуляция - выделение в классе только нужной нам информации. Те возможность сгруппировать только те данные и методы класса, которые нам необходимы в данный момент. Также понимают скрытие данных от пользователя.\n",
    "8. Наследование - возможность описать новый класс на основе уже существующего. При этом все свойства и методы базового(родительского)класса сохраняются пока мы их не переопределим. => Нам не надо заново писать одно и то же.\n",
    "9. Полиморфизм - в питоне он не используется в классическом понимании тк в питоне есть динамическая типизация.\n",
    "Есть 2 вида полиморфизма:\n",
    "Полиморфизм подтипов  - свойство системы,  позволябщее использовать объекты с одинаковым интерфейсом без информаци о типе и внутренней структуре объекта.\n",
    "Параметрисческий полиморфизм =  обобщенное програамирование, т.е когда мы можем работать с объектами заранее не указывая их тип \n",
    "10. Абстракция - выделение значимой инфо и исключение незначимой инф."
   ]
  },
  {
   "cell_type": "markdown",
   "metadata": {},
   "source": [
    "ПОЧТИ ВСЕ В ПИТОН ЯВЯЛЕТСЯ ОБЪЕКТОМ => питон - объектоно оринетированный язык программирования"
   ]
  },
  {
   "cell_type": "code",
   "execution_count": null,
   "metadata": {},
   "outputs": [],
   "source": [
    "class Bill:\n",
    "    # with __init__ we create a class abiblity\n",
    "    def __init__(self): # method init\n",
    "        self.money = 0 # class abiblity\n",
    "\n",
    "    # with def we create class methods\n",
    "    def add(self, count):\n",
    "        self.money += count\n",
    "\n",
    "    def withdraw(self, count):\n",
    "        if self.money > count:\n",
    "            self.money -= count\n"
   ]
  },
  {
   "cell_type": "code",
   "execution_count": null,
   "metadata": {},
   "outputs": [],
   "source": [
    "bill = Bill() # Создаем объект класса Bill=объявляем переменную = операция инстанцирования объекта\n",
    "bill.add(100)\n",
    "bill.withdraw(25)\n",
    "print(bill.money)"
   ]
  },
  {
   "cell_type": "code",
   "execution_count": 2,
   "metadata": {},
   "outputs": [],
   "source": [
    "# list_numbers: list = [] # \n",
    "num_list: list = list() # создаем объект кла snake-caseа \n",
    "num_list.append(2) #"
   ]
  },
  {
   "cell_type": "code",
   "execution_count": null,
   "metadata": {},
   "outputs": [],
   "source": [
    "dir() # выводит имена атрибутов и методов класса или объекта"
   ]
  },
  {
   "cell_type": "code",
   "execution_count": 4,
   "metadata": {},
   "outputs": [
    {
     "data": {
      "text/plain": [
       "list"
      ]
     },
     "execution_count": 4,
     "metadata": {},
     "output_type": "execute_result"
    }
   ],
   "source": [
    "type(num_list) # экзкмпляр=чайлд класса лист показвает типа даных или имя класса"
   ]
  },
  {
   "cell_type": "code",
   "execution_count": null,
   "metadata": {},
   "outputs": [],
   "source": [
    "list"
   ]
  },
  {
   "cell_type": "code",
   "execution_count": 26,
   "metadata": {},
   "outputs": [
    {
     "ename": "TypeError",
     "evalue": "List_.get_name() takes 0 positional arguments but 1 was given",
     "output_type": "error",
     "traceback": [
      "\u001b[0;31m---------------------------------------------------------------------------\u001b[0m",
      "\u001b[0;31mTypeError\u001b[0m                                 Traceback (most recent call last)",
      "Cell \u001b[0;32mIn[26], line 14\u001b[0m\n\u001b[1;32m     12\u001b[0m object_list \u001b[39m=\u001b[39m List_()\n\u001b[1;32m     13\u001b[0m object_list\u001b[39m.\u001b[39mname\n\u001b[0;32m---> 14\u001b[0m object_list\u001b[39m.\u001b[39;49mget_name()\n",
      "\u001b[0;31mTypeError\u001b[0m: List_.get_name() takes 0 positional arguments but 1 was given"
     ]
    }
   ],
   "source": [
    "class List_(object): # pascal-case(ListNumbers) наследуемся явно от класса. Указать класс в ()\n",
    "    \"\"\" Все классы наследуются от класса object, неявно. Визуально не видно\"\"\"\n",
    "    \n",
    "    name =  'kypena'# создаем атрибут класса\n",
    "    def get_name():\n",
    "        return List_.name\n",
    "    \n",
    "# print(List_.__name) #\n",
    "List_.get_name() #\n",
    "\n",
    "\n",
    "object_list = List_()\n",
    "object_list.name\n",
    "object_list.get_name()"
   ]
  },
  {
   "cell_type": "code",
   "execution_count": null,
   "metadata": {},
   "outputs": [],
   "source": [
    "object"
   ]
  },
  {
   "cell_type": "code",
   "execution_count": 9,
   "metadata": {},
   "outputs": [
    {
     "data": {
      "text/plain": [
       "['__class__',\n",
       " '__delattr__',\n",
       " '__dict__',\n",
       " '__dir__',\n",
       " '__doc__',\n",
       " '__eq__',\n",
       " '__format__',\n",
       " '__ge__',\n",
       " '__getattribute__',\n",
       " '__getstate__',\n",
       " '__gt__',\n",
       " '__hash__',\n",
       " '__init__',\n",
       " '__init_subclass__',\n",
       " '__le__',\n",
       " '__lt__',\n",
       " '__module__',\n",
       " '__ne__',\n",
       " '__new__',\n",
       " '__reduce__',\n",
       " '__reduce_ex__',\n",
       " '__repr__',\n",
       " '__setattr__',\n",
       " '__sizeof__',\n",
       " '__str__',\n",
       " '__subclasshook__',\n",
       " '__weakref__']"
      ]
     },
     "execution_count": 9,
     "metadata": {},
     "output_type": "execute_result"
    }
   ],
   "source": [
    "dir(List_) # выводим атрибуты и метгоды класса"
   ]
  },
  {
   "cell_type": "markdown",
   "metadata": {},
   "source": [
    "Дандер методы =  магические методы(см выше)."
   ]
  },
  {
   "cell_type": "code",
   "execution_count": null,
   "metadata": {},
   "outputs": [],
   "source": [
    "def append(self, __object: _T) -> None: ..."
   ]
  }
 ],
 "metadata": {
  "kernelspec": {
   "display_name": "base",
   "language": "python",
   "name": "python3"
  },
  "language_info": {
   "codemirror_mode": {
    "name": "ipython",
    "version": 3
   },
   "file_extension": ".py",
   "mimetype": "text/x-python",
   "name": "python",
   "nbconvert_exporter": "python",
   "pygments_lexer": "ipython3",
   "version": "3.11.4"
  },
  "orig_nbformat": 4
 },
 "nbformat": 4,
 "nbformat_minor": 2
}

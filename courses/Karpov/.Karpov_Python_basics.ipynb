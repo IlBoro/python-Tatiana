{
 "cells": [
  {
   "cell_type": "code",
   "execution_count": 1,
   "metadata": {},
   "outputs": [
    {
     "name": "stdout",
     "output_type": "stream",
     "text": [
      "[2, 4]\n",
      "    \n"
     ]
    }
   ],
   "source": [
    "import numpy as np"
   ]
  },
  {
   "cell_type": "code",
   "execution_count": null,
   "metadata": {},
   "outputs": [],
   "source": [
    "city_map = [\n",
    "    [1, 1, 1, 0, 1, 1, 1],\n",
    "    [1, 0, 1, 0, 0, 0, 1],\n",
    "    [1, 0, 1, 1, 1, 0, 1],\n",
    "    [1, 0, 0, 0, 1, 0, 1],\n",
    "    [1, 1, 1, 1, 1, 1, 1],\n",
    "]\n",
    "\n",
    "start_point = (4, 2)  # start (format(x,y))\n",
    "target_point = [(6, 0), (1, 4), (2, 2)]  # target  (format(x,y))\n",
    "\n",
    "start_point = [\n",
    "    start_point[1],\n",
    "    start_point[0],\n",
    "]  # (reverse start point (to get format(y-rows,x-columns)))\n",
    "print(start_point, \" \" * 4, sep=\"\\n\")"
   ]
  },
  {
   "cell_type": "code",
   "execution_count": null,
   "metadata": {},
   "outputs": [],
   "source": []
  },
  {
   "cell_type": "code",
   "execution_count": 21,
   "metadata": {},
   "outputs": [
    {
     "name": "stdout",
     "output_type": "stream",
     "text": [
      "(4, 2)\n",
      "[(4, 2)]\n"
     ]
    }
   ],
   "source": [
    "start_point = (4, 2)  # start (format(x,y))\n",
    "print(start_point)\n",
    "route = [start_point]  # изменение\n",
    "print(route)"
   ]
  },
  {
   "cell_type": "code",
   "execution_count": 15,
   "metadata": {},
   "outputs": [
    {
     "data": {
      "text/plain": [
       "(array([[1, 1, 0, 0, 1],\n",
       "        [1, 1, 0, 0, 1],\n",
       "        [1, 1, 1, 1, 1],\n",
       "        [0, 0, 0, 0, 1],\n",
       "        [0, 0, 0, 0, 1]]),\n",
       " '\\n',\n",
       " array([[1, 1, 1, 0, 0],\n",
       "        [1, 1, 1, 0, 0],\n",
       "        [0, 0, 1, 0, 0],\n",
       "        [0, 0, 1, 0, 0],\n",
       "        [1, 1, 1, 1, 1]]))"
      ]
     },
     "execution_count": 15,
     "metadata": {},
     "output_type": "execute_result"
    }
   ],
   "source": [
    "# Транспонирование сработало\n",
    "\n",
    "\n",
    "city_map_list = np.array(\n",
    "    [\n",
    "        [1, 1, 0, 0, 1],\n",
    "        [1, 1, 0, 0, 1],\n",
    "        [1, 1, 1, 1, 1],\n",
    "        [0, 0, 0, 0, 1],\n",
    "        [0, 0, 0, 0, 1],\n",
    "    ]\n",
    ")\n",
    "city_map_list2 = city_map_list.transpose()\n",
    "\n",
    "city_map_list, \"\\n\", city_map_list2"
   ]
  },
  {
   "cell_type": "code",
   "execution_count": null,
   "metadata": {},
   "outputs": [],
   "source": []
  },
  {
   "cell_type": "code",
   "execution_count": 3,
   "metadata": {},
   "outputs": [
    {
     "name": "stdout",
     "output_type": "stream",
     "text": [
      "[1, 1, 1, 0, 0]\n",
      "[1, 1, 1, 0, 0]\n",
      "[0, 0, 1, 0, 0]\n",
      "[0, 0, 1, 0, 0]\n",
      "[1, 1, 1, 1, 1]\n"
     ]
    }
   ],
   "source": [
    "# Транспонирование сработало!!!\n",
    "\n",
    "\n",
    "city_map_list = [\n",
    "    [1, 1, 0, 0, 1],\n",
    "    [1, 1, 0, 0, 1],\n",
    "    [1, 1, 1, 1, 1],\n",
    "    [0, 0, 0, 0, 1],\n",
    "    [0, 0, 0, 0, 1],\n",
    "]\n",
    "\n",
    "courier_location = (2, 2)  # стартовая позиция курьера\n",
    "orders_location = [(4, 0), (0, 2), (4, 3)]  # координаты для доставки трех товаров\n",
    "\n",
    "# route = [\n",
    "# (3, 2),\n",
    "# (4, 2),\n",
    "# (4, 1),\n",
    "# (4, 0), # адрес доставки\n",
    "# (4, 1),\n",
    "# (4, 2),\n",
    "# (3, 2),\n",
    "# (2, 2),\n",
    "# (1, 2),\n",
    "# (0, 2), # адрес доставки\n",
    "# (1, 2),\n",
    "# (2, 2),\n",
    "# (3, 2),\n",
    "# (4, 2),\n",
    "# (4, 3) # адрес доставки\n",
    "# ]\n",
    "\n",
    "\n",
    "rows_cnt = len(city_map_list)  # number of rows\n",
    "cols_cnt = len(city_map_list[0])  # number of columns\n",
    "\n",
    "new_city_map_list = [\n",
    "    [0] * rows_cnt for _ in range(cols_cnt)\n",
    "]  # create matrix with all 0 size:rows_cntx cols_cnt\n",
    "#\n",
    "for i in range(rows_cnt):  # i - ,\n",
    "    for j in range(cols_cnt):  #\n",
    "        new_city_map_list[j][i] = city_map_list[i][j]  #\n",
    "\n",
    "for row in new_city_map_list:  #\n",
    "    print(row)  #"
   ]
  },
  {
   "cell_type": "code",
   "execution_count": 5,
   "metadata": {},
   "outputs": [
    {
     "data": {
      "text/plain": [
       "(True, True)"
      ]
     },
     "execution_count": 5,
     "metadata": {},
     "output_type": "execute_result"
    }
   ],
   "source": [
    "a = (2, 2)\n",
    "b = [(4, 0), (0, 2), (4, 3)]\n",
    "a[0] < b[0][0], a[1] > b[0][1]"
   ]
  },
  {
   "cell_type": "code",
   "execution_count": 88,
   "metadata": {},
   "outputs": [],
   "source": [
    "start_point = list((2, 2))\n",
    "# start_point, start_point[0]+1"
   ]
  },
  {
   "cell_type": "code",
   "execution_count": 105,
   "metadata": {},
   "outputs": [
    {
     "name": "stdout",
     "output_type": "stream",
     "text": [
      "[[2, 2], [4, 3]]\n"
     ]
    }
   ],
   "source": [
    "# start_point = list((2,2))\n",
    "orders_location = [(4, 2), (0, 2), (4, 3)]\n",
    "cur_point = start_point.copy()\n",
    "route = [start_point]\n",
    "\n",
    "for order in orders_location:\n",
    "    if order not in route:\n",
    "\n",
    "        for order in range(len(orders_location)):  # order 0...2\n",
    "            # сравниваем х по тек точке и назначению и смотрим шаг вниз по х == 1\n",
    "            if (cur_point[0] < orders_location[order][0]) and (\n",
    "                new_city_map_list[cur_point[0] + 1][cur_point[1]] == 1\n",
    "            ):  #\n",
    "                cur_point[0] = cur_point[0] + 1  #\n",
    "            # сравниваем х по тек точке и целевой и смотрим шаг вверх по х == 1\n",
    "            if (cur_point[0] > orders_location[order][0]) and (\n",
    "                new_city_map_list[cur_point[0] - 1][cur_point[1]] == 1\n",
    "            ):  #\n",
    "                cur_point[0] = cur_point[0] - 1  #\n",
    "            # сравниваем х по тек точке и назначению и смотрим шаг вправол по у == 1\n",
    "            if (\n",
    "                (cur_point[0] == orders_location[order][0])\n",
    "                and (cur_point[1] > orders_location[order][1])\n",
    "                and (new_city_map_list[cur_point[0]][cur_point[1] - 1] == 1)\n",
    "            ):\n",
    "                cur_point[1] = cur_point[1] - 1\n",
    "            # сравниваем х по тек точке и назначению и смотрим шаг влево по у == 1\n",
    "            if (\n",
    "                (cur_point[0] == orders_location[order][0])\n",
    "                and (cur_point[1] < orders_location[order][1])\n",
    "                and (new_city_map_list[cur_point[0]][cur_point[1] + 1] == 1)\n",
    "            ):\n",
    "                cur_point[1] = cur_point[1] + 1\n",
    "\n",
    "route.append(cur_point)\n",
    "\n",
    "\n",
    "print(route)  # \"True down\", cur_point,"
   ]
  },
  {
   "cell_type": "code",
   "execution_count": 90,
   "metadata": {},
   "outputs": [
    {
     "data": {
      "text/plain": [
       "0"
      ]
     },
     "execution_count": 90,
     "metadata": {},
     "output_type": "execute_result"
    }
   ],
   "source": [
    "# orders_location[order][0]\n",
    "new_city_map_list[cur_point[0]][cur_point[1] - 1]"
   ]
  },
  {
   "cell_type": "code",
   "execution_count": 103,
   "metadata": {},
   "outputs": [
    {
     "name": "stdout",
     "output_type": "stream",
     "text": [
      "+\n",
      "+\n"
     ]
    }
   ],
   "source": [
    "s = [(1, 2), (3, 4)]\n",
    "l = [(4, 5), (6, 7), (8, 9)]\n",
    "for i in s:\n",
    "    if i not in l:\n",
    "        print(\"+\")\n",
    "else:\n",
    "    None"
   ]
  },
  {
   "cell_type": "code",
   "execution_count": null,
   "metadata": {},
   "outputs": [],
   "source": []
  },
  {
   "cell_type": "code",
   "execution_count": 73,
   "metadata": {},
   "outputs": [
    {
     "ename": "KeyboardInterrupt",
     "evalue": "Interrupted by user",
     "output_type": "error",
     "traceback": [
      "\u001b[0;31m---------------------------------------------------------------------------\u001b[0m",
      "\u001b[0;31mKeyboardInterrupt\u001b[0m                         Traceback (most recent call last)",
      "Cell \u001b[0;32mIn[73], line 7\u001b[0m\n\u001b[1;32m      4\u001b[0m \u001b[39mfor\u001b[39;00m i \u001b[39min\u001b[39;00m orders_location: \u001b[39m# пока тек точка == целевой мы ищем путь как только == то переходим к след\u001b[39;00m\n\u001b[1;32m      5\u001b[0m     \u001b[39mwhile\u001b[39;00m cur_point \u001b[39m!=\u001b[39m i: \u001b[39m#\u001b[39;00m\n\u001b[1;32m      6\u001b[0m         \u001b[39m# route.append(cur_point)\u001b[39;00m\n\u001b[0;32m----> 7\u001b[0m         route \u001b[39m+\u001b[39m\u001b[39m=\u001b[39m \u001b[39mlist\u001b[39m(\u001b[39mmap\u001b[39m(\u001b[39mint\u001b[39m, \u001b[39minput\u001b[39;49m()\u001b[39m.\u001b[39msplit()))\n\u001b[1;32m      8\u001b[0m     \u001b[39mcontinue\u001b[39;00m\n",
      "File \u001b[0;32m~/.local/lib/python3.11/site-packages/ipykernel/kernelbase.py:1202\u001b[0m, in \u001b[0;36mKernel.raw_input\u001b[0;34m(self, prompt)\u001b[0m\n\u001b[1;32m   1200\u001b[0m     msg \u001b[39m=\u001b[39m \u001b[39m\"\u001b[39m\u001b[39mraw_input was called, but this frontend does not support input requests.\u001b[39m\u001b[39m\"\u001b[39m\n\u001b[1;32m   1201\u001b[0m     \u001b[39mraise\u001b[39;00m StdinNotImplementedError(msg)\n\u001b[0;32m-> 1202\u001b[0m \u001b[39mreturn\u001b[39;00m \u001b[39mself\u001b[39;49m\u001b[39m.\u001b[39;49m_input_request(\n\u001b[1;32m   1203\u001b[0m     \u001b[39mstr\u001b[39;49m(prompt),\n\u001b[1;32m   1204\u001b[0m     \u001b[39mself\u001b[39;49m\u001b[39m.\u001b[39;49m_parent_ident[\u001b[39m\"\u001b[39;49m\u001b[39mshell\u001b[39;49m\u001b[39m\"\u001b[39;49m],\n\u001b[1;32m   1205\u001b[0m     \u001b[39mself\u001b[39;49m\u001b[39m.\u001b[39;49mget_parent(\u001b[39m\"\u001b[39;49m\u001b[39mshell\u001b[39;49m\u001b[39m\"\u001b[39;49m),\n\u001b[1;32m   1206\u001b[0m     password\u001b[39m=\u001b[39;49m\u001b[39mFalse\u001b[39;49;00m,\n\u001b[1;32m   1207\u001b[0m )\n",
      "File \u001b[0;32m~/.local/lib/python3.11/site-packages/ipykernel/kernelbase.py:1245\u001b[0m, in \u001b[0;36mKernel._input_request\u001b[0;34m(self, prompt, ident, parent, password)\u001b[0m\n\u001b[1;32m   1242\u001b[0m \u001b[39mexcept\u001b[39;00m \u001b[39mKeyboardInterrupt\u001b[39;00m:\n\u001b[1;32m   1243\u001b[0m     \u001b[39m# re-raise KeyboardInterrupt, to truncate traceback\u001b[39;00m\n\u001b[1;32m   1244\u001b[0m     msg \u001b[39m=\u001b[39m \u001b[39m\"\u001b[39m\u001b[39mInterrupted by user\u001b[39m\u001b[39m\"\u001b[39m\n\u001b[0;32m-> 1245\u001b[0m     \u001b[39mraise\u001b[39;00m \u001b[39mKeyboardInterrupt\u001b[39;00m(msg) \u001b[39mfrom\u001b[39;00m \u001b[39mNone\u001b[39;00m\n\u001b[1;32m   1246\u001b[0m \u001b[39mexcept\u001b[39;00m \u001b[39mException\u001b[39;00m:\n\u001b[1;32m   1247\u001b[0m     \u001b[39mself\u001b[39m\u001b[39m.\u001b[39mlog\u001b[39m.\u001b[39mwarning(\u001b[39m\"\u001b[39m\u001b[39mInvalid Message:\u001b[39m\u001b[39m\"\u001b[39m, exc_info\u001b[39m=\u001b[39m\u001b[39mTrue\u001b[39;00m)\n",
      "\u001b[0;31mKeyboardInterrupt\u001b[0m: Interrupted by user"
     ]
    }
   ],
   "source": [
    "cur_point = list(map(int, input().split()))\n",
    "route = []\n",
    "orders_location = [(4, 0), (0, 2), (4, 3)]\n",
    "for (\n",
    "    i\n",
    ") in (\n",
    "    orders_location\n",
    "):  # пока тек точка == целевой мы ищем путь как только == то переходим к след\n",
    "    while cur_point != i:  #\n",
    "        # route.append(cur_point)\n",
    "        route += list(map(int, input().split()))\n",
    "    continue"
   ]
  },
  {
   "cell_type": "code",
   "execution_count": 46,
   "metadata": {},
   "outputs": [
    {
     "data": {
      "text/plain": [
       "[2, 2]"
      ]
     },
     "execution_count": 46,
     "metadata": {},
     "output_type": "execute_result"
    }
   ],
   "source": [
    "start_point"
   ]
  },
  {
   "cell_type": "code",
   "execution_count": 30,
   "metadata": {},
   "outputs": [
    {
     "data": {
      "text/plain": [
       "3"
      ]
     },
     "execution_count": 30,
     "metadata": {},
     "output_type": "execute_result"
    }
   ],
   "source": [
    "new_city_map_list[cur_point[0] + 1][\n",
    "    cur_point[1]\n",
    "]  # проверяем значение ниже по столбцу == 1\n",
    "# new_city_map_list[3][2]\n",
    "cur_point[0] + 1\n",
    "# cur_point[1]"
   ]
  },
  {
   "cell_type": "code",
   "execution_count": 31,
   "metadata": {},
   "outputs": [
    {
     "name": "stdout",
     "output_type": "stream",
     "text": [
      "[3, 2]\n"
     ]
    }
   ],
   "source": [
    "# делаем шаг =  перезаписываем cur_point и добавляем его в route\n",
    "cur_point[0] = cur_point[0] + 1\n",
    "print(cur_point)"
   ]
  },
  {
   "cell_type": "code",
   "execution_count": 19,
   "metadata": {},
   "outputs": [
    {
     "name": "stdout",
     "output_type": "stream",
     "text": [
      "Targets are: [[0, 6], [4, 1], [2, 2]]\n"
     ]
    }
   ],
   "source": [
    "target_point = [(6, 0), (1, 4), (2, 2)]  # target  (format(x,y))\n",
    "\n",
    "target_point_to_list = []  # reverse target point to get format(y-rows,x-columns)))\n",
    "for coordinate in target_point:\n",
    "    target_point_to_list.append([coordinate[1], coordinate[0]])\n",
    "\n",
    "print(f\"Targets are: {target_point_to_list}\")  #  , \" \" * 4, sep=\"\\n\" изменение"
   ]
  }
 ],
 "metadata": {
  "kernelspec": {
   "display_name": "base",
   "language": "python",
   "name": "python3"
  },
  "language_info": {
   "codemirror_mode": {
    "name": "ipython",
    "version": 3
   },
   "file_extension": ".py",
   "mimetype": "text/x-python",
   "name": "python",
   "nbconvert_exporter": "python",
   "pygments_lexer": "ipython3",
   "version": "3.11.4"
  },
  "orig_nbformat": 4
 },
 "nbformat": 4,
 "nbformat_minor": 2
}

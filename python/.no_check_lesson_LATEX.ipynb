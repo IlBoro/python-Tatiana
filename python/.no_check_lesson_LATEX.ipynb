{
 "cells": [
  {
   "cell_type": "code",
   "execution_count": 3,
   "metadata": {},
   "outputs": [],
   "source": [
    "import numpy as np\n",
    "import torch"
   ]
  },
  {
   "cell_type": "code",
   "execution_count": 3,
   "metadata": {},
   "outputs": [
    {
     "data": {
      "text/latex": [
       "$\n",
       "\\vec{v}\n",
       "$\n"
      ],
      "text/plain": [
       "<IPython.core.display.Latex object>"
      ]
     },
     "metadata": {},
     "output_type": "display_data"
    }
   ],
   "source": [
    "%%latex\n",
    "$\n",
    "\\vec{v}\n",
    "$\n"
   ]
  },
  {
   "cell_type": "markdown",
   "metadata": {},
   "source": [
    "оалолро rkghjthg\n",
    "$$\\Omega = \\sum_{k-1}^{n}\\omega_k$$"
   ]
  },
  {
   "cell_type": "code",
   "execution_count": 19,
   "metadata": {},
   "outputs": [
    {
     "data": {
      "text/latex": [
       "$$\n",
       "\\alpha \\beta \\Gamma\n",
       "$$\n"
      ],
      "text/plain": [
       "<IPython.core.display.Latex object>"
      ]
     },
     "metadata": {},
     "output_type": "display_data"
    }
   ],
   "source": [
    "%%latex\n",
    "$$\n",
    "\\alpha \\beta \\Gamma\n",
    "$$"
   ]
  },
  {
   "cell_type": "code",
   "execution_count": 15,
   "metadata": {},
   "outputs": [
    {
     "data": {
      "text/latex": [
       "$$\n",
       "\\lim_{x\\to0} \\frac{\\sin{x}}{x} = 1\n",
       "$$\n"
      ],
      "text/plain": [
       "<IPython.core.display.Latex object>"
      ]
     },
     "metadata": {},
     "output_type": "display_data"
    }
   ],
   "source": [
    "%%latex\n",
    "$$\n",
    "\\lim_{x\\to0} \\frac{\\sin{x}}{x} = 1\n",
    "$$"
   ]
  },
  {
   "cell_type": "code",
   "execution_count": 22,
   "metadata": {},
   "outputs": [
    {
     "data": {
      "text/latex": [
       "$\n",
       "\\begin{align}\n",
       "\\lim_{x\\to0} \\frac{\\sin{x}}{x} = 1\n",
       "\\end{align}\n",
       "$\n"
      ],
      "text/plain": [
       "<IPython.core.display.Latex object>"
      ]
     },
     "metadata": {},
     "output_type": "display_data"
    }
   ],
   "source": [
    "%%latex\n",
    "$\n",
    "\\begin{align}\n",
    "\\lim_{x\\to0} \\frac{\\sin{x}}{x} = 1\n",
    "\\end{align}\n",
    "$"
   ]
  },
  {
   "cell_type": "code",
   "execution_count": 49,
   "metadata": {},
   "outputs": [
    {
     "data": {
      "text/latex": [
       "$\n",
       "\\documentclass{article}\n",
       "\\begin{document}\n",
       "$\n",
       "The well known Pythagorean theorem \\(x^2 + y^2 = z^2\\) was \n",
       "proved to be invalid for other exponents. \n",
       "Meaning the next equation has no integer solutions:\n",
       "$\n",
       "\\[ x^n + y^n = z^n \\]\n",
       "\n",
       "\\end{document}\n",
       "$\n"
      ],
      "text/plain": [
       "<IPython.core.display.Latex object>"
      ]
     },
     "metadata": {},
     "output_type": "display_data"
    }
   ],
   "source": [
    "%%latex\n",
    "$\n",
    "\\documentclass{article}\n",
    "\\begin{document}\n",
    "$\n",
    "The well known Pythagorean theorem \\(x^2 + y^2 = z^2\\) was \n",
    "proved to be invalid for other exponents. \n",
    "Meaning the next equation has no integer solutions:\n",
    "$\n",
    "\\[ x^n + y^n = z^n \\]\n",
    "\n",
    "\\end{document}\n",
    "$"
   ]
  },
  {
   "cell_type": "code",
   "execution_count": null,
   "metadata": {
    "vscode": {
     "languageId": "latex"
    }
   },
   "outputs": [],
   "source": [
    "latex"
   ]
  },
  {
   "cell_type": "markdown",
   "metadata": {},
   "source": []
  },
  {
   "cell_type": "code",
   "execution_count": 26,
   "metadata": {},
   "outputs": [
    {
     "data": {
      "text/latex": [
       "# Create the function and the solution in SageMath\n",
       "f(x) = x^2 -5*x + 6\n",
       "solution = solve(f, x)\n",
       "\n",
       "# Display them both using MathJax\n",
       "show(f)\n",
       "show(solution)\n"
      ],
      "text/plain": [
       "<IPython.core.display.Latex object>"
      ]
     },
     "metadata": {},
     "output_type": "display_data"
    }
   ],
   "source": [
    "%%latex\n",
    "# Create the function and the solution in SageMath\n",
    "f(x) = x^2 -5*x + 6\n",
    "solution = solve(f, x)\n",
    "\n",
    "# Display them both using MathJax\n",
    "show(f)\n",
    "show(solution)"
   ]
  },
  {
   "cell_type": "code",
   "execution_count": null,
   "metadata": {},
   "outputs": [],
   "source": []
  },
  {
   "cell_type": "code",
   "execution_count": null,
   "metadata": {},
   "outputs": [],
   "source": [
    "%%latex\n",
    "$\\document[a4paper, 12pt]{article}\n",
    "$\\begin{document}\n",
    "Hello, World!\n",
    "$\\end{document}"
   ]
  }
 ],
 "metadata": {
  "kernelspec": {
   "display_name": "base",
   "language": "python",
   "name": "python3"
  },
  "language_info": {
   "codemirror_mode": {
    "name": "ipython",
    "version": 3
   },
   "file_extension": ".py",
   "mimetype": "text/x-python",
   "name": "python",
   "nbconvert_exporter": "python",
   "pygments_lexer": "ipython3",
   "version": "3.11.4"
  },
  "orig_nbformat": 4
 },
 "nbformat": 4,
 "nbformat_minor": 2
}

{
 "cells": [
  {
   "cell_type": "markdown",
   "metadata": {},
   "source": [
    "ООП - методология програмирования основанная на представоении программы в виде сосокупности объектов, каждый из который является экземпляром определнного класса. Классы образуют иерархию"
   ]
  },
  {
   "cell_type": "markdown",
   "metadata": {},
   "source": [
    "Термины:\n",
    "1. класс - описывает семейство каких-то объектов\n",
    "2. Объект (=экземпляр класса) - конкретный объект из класса\n",
    "3. Свойство класса - характеристики класса\n",
    "4. Метод класса - действие, которое может выполнять объект класса\n",
    "5. Родительский класс - напаример класс кошка\n",
    "6. Дочерний класс - парода мейкун класс кошка"
   ]
  },
  {
   "cell_type": "markdown",
   "metadata": {},
   "source": [
    "Принципы ООП:\n",
    "\n",
    "7. Инкакпсуляция - выделение в классе только нужной нам информации. Те возможность сгруппировать только те данные и методы класса, которые нам необходимы в данный момент. Также понимают скрытие данных от пользователя.\n",
    "8. Наследование - возможность описать новый класс на основе уже существующего. При этом все свойства и методы базового(родительского)класса сохраняются пока мы их не переопределим. => Нам не надо заново писать одно и то же.\n",
    "9. Полиморфизм - в питоне он не используется в классическом понимании тк в питоне есть динамическая типизация.\n",
    "Есть 2 вида полиморфизма:\n",
    "Полиморфизм подтипов  - свойство системы,  позволябщее использовать объекты с одинаковым интерфейсом без информаци о типе и внутренней структуре объекта.\n",
    "Параметрисческий полиморфизм =  обобщенное програамирование, т.е когда мы можем работать с объектами заранее не указывая их тип \n",
    "10. Абстракция - выделение значимой инфо и исключение незначимой инф."
   ]
  },
  {
   "cell_type": "markdown",
   "metadata": {},
   "source": [
    "ПОЧТИ ВСЕ В ПИТОН ЯВЯЛЕТСЯ ОБЪЕКТОМ => питон - объектоно оринетированный язык программирования"
   ]
  },
  {
   "cell_type": "code",
   "execution_count": null,
   "metadata": {},
   "outputs": [],
   "source": [
    "class Bill:\n",
    "    # with __init__ we create a class abiblity\n",
    "    def __init__(self): # method init\n",
    "        self.money = 0 # class abiblity\n",
    "\n",
    "    # with def we create class methods\n",
    "    def add(self, count):\n",
    "        self.money += count\n",
    "\n",
    "    def withdraw(self, count):\n",
    "        if self.money > count:\n",
    "            self.money -= count\n"
   ]
  },
  {
   "cell_type": "code",
   "execution_count": null,
   "metadata": {},
   "outputs": [],
   "source": [
    "bill = Bill() # Создаем объект класса Bill=объявляем переменную = операция инстанцирования объекта\n",
    "bill.add(100)\n",
    "bill.withdraw(25)\n",
    "print(bill.money)"
   ]
  },
  {
   "cell_type": "code",
   "execution_count": 2,
   "metadata": {},
   "outputs": [],
   "source": [
    "# list_numbers: list = [] # \n",
    "num_list: list = list() # создаем объект кла snake-caseа \n",
    "num_list.append(2) #"
   ]
  },
  {
   "cell_type": "code",
   "execution_count": 1,
   "metadata": {},
   "outputs": [
    {
     "data": {
      "text/plain": [
       "['__add__',\n",
       " '__class__',\n",
       " '__class_getitem__',\n",
       " '__contains__',\n",
       " '__delattr__',\n",
       " '__delitem__',\n",
       " '__dir__',\n",
       " '__doc__',\n",
       " '__eq__',\n",
       " '__format__',\n",
       " '__ge__',\n",
       " '__getattribute__',\n",
       " '__getitem__',\n",
       " '__getstate__',\n",
       " '__gt__',\n",
       " '__hash__',\n",
       " '__iadd__',\n",
       " '__imul__',\n",
       " '__init__',\n",
       " '__init_subclass__',\n",
       " '__iter__',\n",
       " '__le__',\n",
       " '__len__',\n",
       " '__lt__',\n",
       " '__mul__',\n",
       " '__ne__',\n",
       " '__new__',\n",
       " '__reduce__',\n",
       " '__reduce_ex__',\n",
       " '__repr__',\n",
       " '__reversed__',\n",
       " '__rmul__',\n",
       " '__setattr__',\n",
       " '__setitem__',\n",
       " '__sizeof__',\n",
       " '__str__',\n",
       " '__subclasshook__',\n",
       " 'append',\n",
       " 'clear',\n",
       " 'copy',\n",
       " 'count',\n",
       " 'extend',\n",
       " 'index',\n",
       " 'insert',\n",
       " 'pop',\n",
       " 'remove',\n",
       " 'reverse',\n",
       " 'sort']"
      ]
     },
     "execution_count": 1,
     "metadata": {},
     "output_type": "execute_result"
    }
   ],
   "source": [
    "dir(list) # выводит имена атрибутов и методов класса или объекта"
   ]
  },
  {
   "cell_type": "code",
   "execution_count": 4,
   "metadata": {},
   "outputs": [
    {
     "data": {
      "text/plain": [
       "list"
      ]
     },
     "execution_count": 4,
     "metadata": {},
     "output_type": "execute_result"
    }
   ],
   "source": [
    "type(num_list) # экзкмпляр=чайлд класса лист показвает типа даных или имя класса"
   ]
  },
  {
   "cell_type": "code",
   "execution_count": 16,
   "metadata": {},
   "outputs": [
    {
     "name": "stdout",
     "output_type": "stream",
     "text": [
      "IVANOVA\n"
     ]
    }
   ],
   "source": [
    "class List_(object): # pascal-case(ListNumbers) наследуемся явно от класса. Указать класс в ()\n",
    "    \"\"\" Все классы наследуются от класса object, неявно. Визуально не видно\"\"\"\n",
    "\n",
    "    NAME = \"IRINA\"\n",
    "    __FAMILY_NAME = 'IVANOVA' # incapsulated method\n",
    "\n",
    "    def __init__(self):\n",
    "\n",
    "        self.name =  'kypena'# создаем атрибут класса\n",
    "\n",
    "    def get_name(self):\n",
    "        return List_.NAME\n",
    "\n",
    "    def get_family_name(self):\n",
    "        return List_.__FAMILY_NAME\n",
    "\n",
    "\n",
    "# print(List_.__name) #\n",
    "# print(List_.get_name()) #\n",
    "\n",
    "object_list = List_()\n",
    "# print(object_list.name)\n",
    "\n",
    "# print(object_list.get_name())\n",
    "# print(object_list.get_family_name()) # we reached incapsulayed attribute via method\n",
    "# print(object_list.__FAMILY_NAME) # did not work as this attribute as incapsulated\n",
    "print(object_list._List___FAMILY_NAME)# we reached incapsulayed attribute via method"
   ]
  },
  {
   "cell_type": "code",
   "execution_count": null,
   "metadata": {},
   "outputs": [],
   "source": [
    "object"
   ]
  },
  {
   "cell_type": "code",
   "execution_count": 9,
   "metadata": {},
   "outputs": [
    {
     "data": {
      "text/plain": [
       "['__class__',\n",
       " '__delattr__',\n",
       " '__dict__',\n",
       " '__dir__',\n",
       " '__doc__',\n",
       " '__eq__',\n",
       " '__format__',\n",
       " '__ge__',\n",
       " '__getattribute__',\n",
       " '__getstate__',\n",
       " '__gt__',\n",
       " '__hash__',\n",
       " '__init__',\n",
       " '__init_subclass__',\n",
       " '__le__',\n",
       " '__lt__',\n",
       " '__module__',\n",
       " '__ne__',\n",
       " '__new__',\n",
       " '__reduce__',\n",
       " '__reduce_ex__',\n",
       " '__repr__',\n",
       " '__setattr__',\n",
       " '__sizeof__',\n",
       " '__str__',\n",
       " '__subclasshook__',\n",
       " '__weakref__']"
      ]
     },
     "execution_count": 9,
     "metadata": {},
     "output_type": "execute_result"
    }
   ],
   "source": [
    "dir(List_) # выводим атрибуты и метгоды класса"
   ]
  },
  {
   "cell_type": "markdown",
   "metadata": {},
   "source": [
    "Дандер методы =  магические методы(см выше)."
   ]
  },
  {
   "cell_type": "code",
   "execution_count": null,
   "metadata": {},
   "outputs": [],
   "source": [
    "def append(self, __object: _T) -> None: ..."
   ]
  }
 ],
 "metadata": {
  "kernelspec": {
   "display_name": "base",
   "language": "python",
   "name": "python3"
  },
  "language_info": {
   "codemirror_mode": {
    "name": "ipython",
    "version": 3
   },
   "file_extension": ".py",
   "mimetype": "text/x-python",
   "name": "python",
   "nbconvert_exporter": "python",
   "pygments_lexer": "ipython3",
   "version": "3.11.4"
  },
  "orig_nbformat": 4
 },
 "nbformat": 4,
 "nbformat_minor": 2
}

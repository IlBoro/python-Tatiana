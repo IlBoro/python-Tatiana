{
 "cells": [
  {
   "cell_type": "code",
   "execution_count": 62,
   "metadata": {},
   "outputs": [],
   "source": [
    "class CatClass():\n",
    "\n",
    "    type_ = 'cat'\n",
    "\n",
    "    def __init__(self, color):\n",
    "\n",
    "        self.color = color\n",
    "        self.type_ = 'cat'\n",
    "        self.__type_ = 'my cat'\n",
    "\n",
    "    def meow(self):\n",
    "        for i in range(3):\n",
    "            print('Meow')\n",
    "\n",
    "    def info(self):\n",
    "        print(self.color, self.type_)"
   ]
  },
  {
   "cell_type": "code",
   "execution_count": 56,
   "metadata": {},
   "outputs": [],
   "source": [
    "Matroskin = CatClass('gray')"
   ]
  },
  {
   "cell_type": "code",
   "execution_count": 51,
   "metadata": {},
   "outputs": [
    {
     "data": {
      "text/plain": [
       "'gray'"
      ]
     },
     "execution_count": 51,
     "metadata": {},
     "output_type": "execute_result"
    }
   ],
   "source": [
    "Matroskin.color"
   ]
  },
  {
   "cell_type": "code",
   "execution_count": 52,
   "metadata": {},
   "outputs": [
    {
     "name": "stdout",
     "output_type": "stream",
     "text": [
      "Meow\n",
      "Meow\n",
      "Meow\n"
     ]
    }
   ],
   "source": [
    "Matroskin.meow()"
   ]
  },
  {
   "cell_type": "code",
   "execution_count": 53,
   "metadata": {},
   "outputs": [
    {
     "name": "stdout",
     "output_type": "stream",
     "text": [
      "gray cat\n"
     ]
    }
   ],
   "source": [
    "Matroskin.info()"
   ]
  },
  {
   "cell_type": "code",
   "execution_count": 57,
   "metadata": {},
   "outputs": [
    {
     "data": {
      "text/plain": [
       "'my cat'"
      ]
     },
     "execution_count": 57,
     "metadata": {},
     "output_type": "execute_result"
    }
   ],
   "source": [
    "# Matroskin.__type_ = 'tiger'\n",
    "Matroskin._CatClass__type_ \n",
    "# читерство! Обращение к инкапсулированному атрибуту через\n",
    "#класс с нижним подчеркиванием пред ним"
   ]
  },
  {
   "cell_type": "code",
   "execution_count": 58,
   "metadata": {},
   "outputs": [
    {
     "ename": "AttributeError",
     "evalue": "'CatClass' object has no attribute '__type_'",
     "output_type": "error",
     "traceback": [
      "\u001b[0;31m---------------------------------------------------------------------------\u001b[0m",
      "\u001b[0;31mAttributeError\u001b[0m                            Traceback (most recent call last)",
      "Cell \u001b[0;32mIn[58], line 3\u001b[0m\n\u001b[1;32m      1\u001b[0m Matroskin \u001b[39m=\u001b[39m CatClass(\u001b[39m'\u001b[39m\u001b[39mgray\u001b[39m\u001b[39m'\u001b[39m)\n\u001b[1;32m      2\u001b[0m  \u001b[39m# теперь при вызове этого атрибута Питон выдаст ошибку\u001b[39;00m\n\u001b[0;32m----> 3\u001b[0m Matroskin\u001b[39m.\u001b[39;49m__type_\n",
      "\u001b[0;31mAttributeError\u001b[0m: 'CatClass' object has no attribute '__type_'"
     ]
    }
   ],
   "source": [
    "Matroskin = CatClass('gray')\n",
    " # теперь при вызове этого атрибута Питон выдаст ошибку\n",
    "Matroskin.__type_"
   ]
  },
  {
   "cell_type": "code",
   "execution_count": 64,
   "metadata": {},
   "outputs": [
    {
     "name": "stdout",
     "output_type": "stream",
     "text": [
      "gray dog\n"
     ]
    },
    {
     "data": {
      "text/plain": [
       "'cat'"
      ]
     },
     "execution_count": 64,
     "metadata": {},
     "output_type": "execute_result"
    }
   ],
   "source": [
    "Matroskin.type_ = 'dog'\n",
    "Matroskin.info()\n",
    "# изменен атрибут чрез экземпляр класса\n",
    "CatClass.type_ # вывод атрибута класса"
   ]
  },
  {
   "cell_type": "code",
   "execution_count": 68,
   "metadata": {},
   "outputs": [
    {
     "data": {
      "text/plain": [
       "'cat'"
      ]
     },
     "execution_count": 68,
     "metadata": {},
     "output_type": "execute_result"
    }
   ],
   "source": [
    "kitty = CatClass('white')\n",
    "kitty.type_"
   ]
  },
  {
   "cell_type": "markdown",
   "metadata": {},
   "source": [
    "Как видим выше экземпляр класса изменил значение _type с cat на dog только для данного экземпляра. Но в самом классе _type = 'cat'. "
   ]
  },
  {
   "cell_type": "markdown",
   "metadata": {},
   "source": [
    "# Наследование"
   ]
  },
  {
   "cell_type": "code",
   "execution_count": 72,
   "metadata": {},
   "outputs": [],
   "source": [
    "# создадим класс Animal\n",
    "class Animal:\n",
    "\n",
    "  # пропишем метод .__init__() с двумя параметрами: вес (кг) и длина (см)\n",
    "  def __init__(self, weight, length):\n",
    "\n",
    "    # поместим аргументы этих параметров в соответствующие переменные\n",
    "    self.weight = weight\n",
    "    self.length = length\n",
    "\n",
    "  # объявим методы .eat()\n",
    "  def eat(self):\n",
    "    print('Eating')\n",
    "\n",
    "  # и .sleep()\n",
    "  def sleep(self):\n",
    "    print('Sleeping')"
   ]
  },
  {
   "cell_type": "code",
   "execution_count": 73,
   "metadata": {},
   "outputs": [],
   "source": [
    "# создадим класс Bird\n",
    "# родительский класс Animal пропишем в скобках\n",
    "class Bird(Animal):\n",
    "\n",
    "  # внутри класса Bird объявим новый метод .move()\n",
    "  def move(self):\n",
    "\n",
    "    # для птиц .move() будет означать \"летать\"\n",
    "    print('Flying')"
   ]
  },
  {
   "cell_type": "code",
   "execution_count": 76,
   "metadata": {},
   "outputs": [
    {
     "name": "stdout",
     "output_type": "stream",
     "text": [
      "Eating\n",
      "Flying\n"
     ]
    },
    {
     "data": {
      "text/plain": [
       "(0.3, 30, None, None)"
      ]
     },
     "execution_count": 76,
     "metadata": {},
     "output_type": "execute_result"
    }
   ],
   "source": [
    "# создадим объект pigeon и передадим ему значения веса и длины\n",
    "pigeon = Bird(0.3, 30)# вес и длина из класса Animal\n",
    "pigeon.weight, pigeon.length, pigeon.eat(), pigeon.move()"
   ]
  },
  {
   "cell_type": "markdown",
   "metadata": {},
   "source": [
    "## Функция super() для дочернего класса"
   ]
  },
  {
   "cell_type": "code",
   "execution_count": 77,
   "metadata": {},
   "outputs": [],
   "source": [
    "# снова создадим класс Bird - дочерний от Animal\n",
    "class Bird(Animal):\n",
    "\n",
    "  # в метод .__init__() добавим параметр скорости полета (км/ч)\n",
    "  def __init__(self, weight, length, flying_speed):\n",
    "\n",
    "    # с помощью функции super() вызовем метод .__init__() родительского класса Animal\n",
    "    super().__init__(weight, length)\n",
    "    self.flying_speed = flying_speed\n",
    "\n",
    "  # вновь пропишем метод .move()\n",
    "  def move(self):\n",
    "    print('Flying')"
   ]
  },
  {
   "cell_type": "code",
   "execution_count": 78,
   "metadata": {},
   "outputs": [],
   "source": [
    "# вновь создадим объект pigeon класса Bird, но уже с тремя параметрами\n",
    "pigeon = Bird(0.3, 30, 100)"
   ]
  },
  {
   "cell_type": "code",
   "execution_count": 80,
   "metadata": {},
   "outputs": [
    {
     "data": {
      "text/plain": [
       "(0.3, 30)"
      ]
     },
     "execution_count": 80,
     "metadata": {},
     "output_type": "execute_result"
    }
   ],
   "source": [
    "# вызовем как унаследованные, так и собственные атрибуты класса Bird\n",
    "pigeon.weight, pigeon.length # атрибуты родительского класса\n",
    "# pigeon.flying_speed # атрибуты дочеренего класса"
   ]
  },
  {
   "cell_type": "code",
   "execution_count": 83,
   "metadata": {},
   "outputs": [
    {
     "name": "stdout",
     "output_type": "stream",
     "text": [
      "Sleeping\n",
      "Flying\n"
     ]
    }
   ],
   "source": [
    "# вызов метода род класса\n",
    "pigeon.sleep()\n",
    "# вызов метода дочерн класса\n",
    "pigeon.move()"
   ]
  },
  {
   "cell_type": "markdown",
   "metadata": {},
   "source": [
    "## Переопределение класса"
   ]
  },
  {
   "cell_type": "markdown",
   "metadata": {},
   "source": [
    "Те изменение в родительском классе методов и атрибутов с помощью метода super()"
   ]
  },
  {
   "cell_type": "code",
   "execution_count": 84,
   "metadata": {},
   "outputs": [],
   "source": [
    "# создадим подкласс Flightless класса Bird\n",
    "class Flightless(Bird):\n",
    "\n",
    "  # метод .__init__() этого подкласса \"стирает\" .__init__() родительского класса\n",
    "  def __init__(self, running_speed):# принимает 1 параметр\n",
    "    \n",
    "    # таким образом, у нас остается только один атрибут\n",
    "    self.running_speed = running_speed\n",
    "\n",
    "  # кроме того, результатом метода .move() будет 'Running'\n",
    "  def move(self):\n",
    "    print('Running')"
   ]
  },
  {
   "cell_type": "code",
   "execution_count": 86,
   "metadata": {},
   "outputs": [
    {
     "data": {
      "text/plain": [
       "60"
      ]
     },
     "execution_count": 86,
     "metadata": {},
     "output_type": "execute_result"
    }
   ],
   "source": [
    "# создадим объект ostrich класса Flightless\n",
    "ostrich = Flightless(60) # 60 - running_speed\n",
    "# посмотрим на значение атрбута скорости\n",
    "ostrich.running_speed"
   ]
  },
  {
   "cell_type": "code",
   "execution_count": 88,
   "metadata": {},
   "outputs": [
    {
     "name": "stdout",
     "output_type": "stream",
     "text": [
      "Running\n",
      "Переопределенный метод move:  None\n",
      "Eating\n",
      "Родительский метод eat:  None\n"
     ]
    }
   ],
   "source": [
    "print('Переопределенный метод move: ', ostrich.move())\n",
    "print('Родительский метод eat: ', ostrich.eat())"
   ]
  },
  {
   "cell_type": "markdown",
   "metadata": {},
   "source": [
    "# Множественное наследование"
   ]
  },
  {
   "cell_type": "markdown",
   "metadata": {},
   "source": [
    "те есть два класса(родительских) мы их соединяем в третьем классе. Создаем экземпляр третьего класса, который будет обладать иетодами и атрибутами двух классов(родительских)."
   ]
  },
  {
   "cell_type": "code",
   "execution_count": 89,
   "metadata": {},
   "outputs": [],
   "source": [
    "class Fish():\n",
    "    def swim(self):\n",
    "        print('Swim')"
   ]
  },
  {
   "cell_type": "code",
   "execution_count": 90,
   "metadata": {},
   "outputs": [],
   "source": [
    "class Bird():\n",
    "    def fly(self):\n",
    "        print('Fly')"
   ]
  },
  {
   "cell_type": "code",
   "execution_count": 91,
   "metadata": {},
   "outputs": [],
   "source": [
    "# теперь создадим класс-потомок и передаем в него 2 род класса\n",
    "class SwimmingBird(Bird, Fish):\n",
    "  pass"
   ]
  },
  {
   "cell_type": "code",
   "execution_count": 92,
   "metadata": {},
   "outputs": [
    {
     "name": "stdout",
     "output_type": "stream",
     "text": [
      "Fly\n",
      "Swim\n"
     ]
    },
    {
     "data": {
      "text/plain": [
       "(None, None)"
      ]
     },
     "execution_count": 92,
     "metadata": {},
     "output_type": "execute_result"
    }
   ],
   "source": [
    "duck = SwimmingBird()\n",
    "duck.fly(),duck.swim()"
   ]
  },
  {
   "cell_type": "markdown",
   "metadata": {},
   "source": [
    "# Полиморфизм классов"
   ]
  },
  {
   "cell_type": "code",
   "execution_count": 93,
   "metadata": {},
   "outputs": [],
   "source": [
    "# создадим класс котов\n",
    "class DogClass:\n",
    "\n",
    "  # определим атрибуты клички, типа и цвета шерсти\n",
    "  def __init__(self, name, color):\n",
    "    self.name = name\n",
    "    self._type_ = 'собака'\n",
    "    self.color = color\n",
    "\n",
    "  # создадим метод .info() для вывода этих атрибутов\n",
    "  def info(self):\n",
    "    print(f'Меня зовут {self.name}, я {self._type_}, цвет моей шерсти {self.color}')\n",
    "\n",
    "  # и метод .sound(), показывающий, что коты умеют мяукать\n",
    "  def sound(self):\n",
    "    print('Я умею лаять')"
   ]
  },
  {
   "cell_type": "code",
   "execution_count": 94,
   "metadata": {},
   "outputs": [],
   "source": [
    "# создадим класс котов\n",
    "class CatClass:\n",
    "\n",
    "  # определим атрибуты клички, типа и цвета шерсти\n",
    "  def __init__(self, name, color):\n",
    "    self.name = name\n",
    "    self._type_ = 'кот'\n",
    "    self.color = color\n",
    "\n",
    "  # создадим метод .info() для вывода этих атрибутов\n",
    "  def info(self):\n",
    "    print(f'Меня зовут {self.name}, я {self._type_}, цвет моей шерсти {self.color}')\n",
    "\n",
    "  # и метод .sound(), показывающий, что коты умеют мяукать\n",
    "  def sound(self):\n",
    "    print('Я умею мяукать')"
   ]
  },
  {
   "cell_type": "code",
   "execution_count": 97,
   "metadata": {},
   "outputs": [],
   "source": [
    "cat = CatClass('Черныш', 'черный')\n",
    "dog = DogClass('Пушок', 'рыжий')"
   ]
  },
  {
   "cell_type": "code",
   "execution_count": 98,
   "metadata": {},
   "outputs": [
    {
     "name": "stdout",
     "output_type": "stream",
     "text": [
      "Меня зовут Черныш, я кот, цвет моей шерсти черный\n",
      "Я умею мяукать\n",
      "\n",
      "Меня зовут Пушок, я собака, цвет моей шерсти рыжий\n",
      "Я умею лаять\n",
      "\n"
     ]
    }
   ],
   "source": [
    "for animal in (cat, dog):\n",
    "    animal.info() # обращение к методу экземпляра\n",
    "    animal.sound()\n",
    "    print()"
   ]
  },
  {
   "cell_type": "markdown",
   "metadata": {},
   "source": [
    "# Пример ООП: собственный класс линейной регрессии"
   ]
  },
  {
   "cell_type": "code",
   "execution_count": 100,
   "metadata": {},
   "outputs": [],
   "source": [
    "# нашему классу понадобится Numpy\n",
    "import numpy as np\n",
    "\n",
    "# создадим класс SimpleLinearRegression\n",
    "class SimpleLinearRegression:\n",
    "\n",
    "  # в методе .__init__() объявим переменные наклона и сдвига\n",
    "  def __init__(self):\n",
    "    self.slope_ = None\n",
    "    self.intercept_ = None\n",
    "\n",
    "  # создадим метод .fit()\n",
    "  def fit(self, X, y):\n",
    "\n",
    "    # найдем среднее значение X и y\n",
    "    X_mean = self.find_mean(X)\n",
    "    y_mean = self.find_mean(y)\n",
    "\n",
    "    # объявим переменные для числителя и знаменателя\n",
    "    numerator, denominator = 0, 0\n",
    "\n",
    "    # в цикле пройдемся по данным\n",
    "    for i in range(len(X)):\n",
    "\n",
    "      # вычислим значения числителя и знаменателя по формуле выше\n",
    "      numerator += (X[i] - X_mean) * (y[i] - y_mean)\n",
    "      denominator += (X[i] - X_mean) ** 2\n",
    "\n",
    "    # найдем наклон и сдвиг\n",
    "    slope_ = numerator / denominator\n",
    "    intercept_ = y_mean - slope_ * X_mean\n",
    "\n",
    "    # сохраним получившиеся коэффициенты в виде атрибутов\n",
    "    self.slope_ = slope_\n",
    "    self.intercept_ = intercept_\n",
    "\n",
    "  # метод .predict() просто умножит через скалярное произведение\n",
    "  # вектор данных на наклон и прибавит сдвиг\n",
    "  def predict(self, X):\n",
    "    # на выходе мы получим вектор прогнозных значений\n",
    "    return np.dot(self.slope_, X) + self.intercept_\n",
    "\n",
    "  # служебный метод: расчет среднего\n",
    "  def find_mean(self, nums):\n",
    "    return sum(nums) / len(nums)"
   ]
  },
  {
   "cell_type": "code",
   "execution_count": 103,
   "metadata": {},
   "outputs": [],
   "source": [
    "# возьмем данные роста и обхвата шеи\n",
    "X = np.array([1.48, 1.49, 1.49, 1.50, 1.51, 1.52, 1.52, 1.53, 1.53, 1.54, 1.55, 1.56, 1.57, 1.57, 1.58, 1.58, 1.59, 1.60, 1.61, 1.62, 1.63, 1.64, 1.65, 1.65, 1.66, 1.67, 1.67, 1.68, 1.68,  1.69, 1.70, 1.70, 1.71, 1.71, 1.71, 1.74, 1.75, 1.76, 1.77, 1.77, 1.78])\n",
    "y = np.array([29.1, 30.0, 30.1, 30.2, 30.4, 30.6, 30.8, 30.9, 31.0, 30.6, 30.7, 30.9, 31.0, 31.2, 31.3, 32.0, 31.4, 31.9, 32.4, 32.8, 32.8, 33.3, 33.6, 33.0, 33.9, 33.8, 35.0, 34.5, 34.7, 34.6, 34.2, 34.8, 35.5, 36.0, 36.2, 36.3, 36.6, 36.8, 36.8, 37.0, 38.5])"
   ]
  },
  {
   "cell_type": "code",
   "execution_count": 104,
   "metadata": {},
   "outputs": [],
   "source": [
    "# создадим объект класса SimpleLinearRegression\n",
    "model = SimpleLinearRegression()"
   ]
  },
  {
   "cell_type": "code",
   "execution_count": 105,
   "metadata": {},
   "outputs": [
    {
     "data": {
      "text/plain": [
       "(26.861812005569757, -10.570936299787334)"
      ]
     },
     "execution_count": 105,
     "metadata": {},
     "output_type": "execute_result"
    }
   ],
   "source": [
    "# применим метод .fit()\n",
    "model.fit(X, y)\n",
    "\n",
    "# посмотрим на коэффициенты\n",
    "model.slope_, model.intercept_"
   ]
  },
  {
   "cell_type": "code",
   "execution_count": 106,
   "metadata": {},
   "outputs": [
    {
     "data": {
      "text/plain": [
       "array([29.18454547, 29.45316359, 29.45316359, 29.72178171, 29.99039983])"
      ]
     },
     "execution_count": 106,
     "metadata": {},
     "output_type": "execute_result"
    }
   ],
   "source": [
    "# сделаем прогноз через .predict()\n",
    "y_pred = model.predict(X)\n",
    "\n",
    "# и выведем первые пять коэффициентов\n",
    "y_pred[:5]"
   ]
  }
 ],
 "metadata": {
  "kernelspec": {
   "display_name": "base",
   "language": "python",
   "name": "python3"
  },
  "language_info": {
   "codemirror_mode": {
    "name": "ipython",
    "version": 3
   },
   "file_extension": ".py",
   "mimetype": "text/x-python",
   "name": "python",
   "nbconvert_exporter": "python",
   "pygments_lexer": "ipython3",
   "version": "3.11.4"
  },
  "orig_nbformat": 4
 },
 "nbformat": 4,
 "nbformat_minor": 2
}

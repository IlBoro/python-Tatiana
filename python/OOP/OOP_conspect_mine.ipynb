{
 "cells": [
  {
   "cell_type": "code",
   "execution_count": 8,
   "metadata": {},
   "outputs": [],
   "source": [
    "\"Module on oop.\""
   ]
  },
  {
   "cell_type": "code",
   "execution_count": null,
   "metadata": {},
   "outputs": [],
   "source": [
    "class CatClass:\n",
    "\n",
    "    type_ = \"cat\"\n",
    "\n",
    "    def __init__(self, color):\n",
    "\n",
    "        self.color = color\n",
    "        self.type_ = \"cat\"\n",
    "        self.__type_ = \"my cat\"\n",
    "\n",
    "    def meow(self):\n",
    "        for i in range(3):\n",
    "            print(\"Meow\")\n",
    "\n",
    "    def info(self):\n",
    "        print(self.color, self.type_)"
   ]
  },
  {
   "cell_type": "code",
   "execution_count": 9,
   "metadata": {},
   "outputs": [],
   "source": [
    "Matroskin = CatClass(\"gray\")"
   ]
  },
  {
   "cell_type": "code",
   "execution_count": 10,
   "metadata": {},
   "outputs": [
    {
     "data": {
      "text/plain": [
       "'gray'"
      ]
     },
     "execution_count": 10,
     "metadata": {},
     "output_type": "execute_result"
    }
   ],
   "source": [
    "Matroskin.color"
   ]
  },
  {
   "cell_type": "code",
   "execution_count": 11,
   "metadata": {},
   "outputs": [
    {
     "name": "stdout",
     "output_type": "stream",
     "text": [
      "Meow\n",
      "Meow\n",
      "Meow\n"
     ]
    }
   ],
   "source": [
    "Matroskin.meow()"
   ]
  },
  {
   "cell_type": "code",
   "execution_count": 12,
   "metadata": {},
   "outputs": [
    {
     "name": "stdout",
     "output_type": "stream",
     "text": [
      "gray cat\n"
     ]
    }
   ],
   "source": [
    "Matroskin.info()"
   ]
  },
  {
   "cell_type": "code",
   "execution_count": 13,
   "metadata": {},
   "outputs": [
    {
     "data": {
      "text/plain": [
       "'my cat'"
      ]
     },
     "execution_count": 13,
     "metadata": {},
     "output_type": "execute_result"
    }
   ],
   "source": [
    "# Matroskin.__type_ = 'tiger'\n",
    "Matroskin._CatClass__type_\n",
    "# читерство! Обращение к инкапсулированному атрибуту через\n",
    "# класс с нижним подчеркиванием пред ним"
   ]
  },
  {
   "cell_type": "code",
   "execution_count": 14,
   "metadata": {},
   "outputs": [],
   "source": [
    "Matroskin = CatClass(\"gray\")\n",
    "# теперь при вызове этого атрибута Питон выдаст ошибку\n",
    "# Matroskin.__type_"
   ]
  },
  {
   "cell_type": "code",
   "execution_count": 15,
   "metadata": {},
   "outputs": [
    {
     "name": "stdout",
     "output_type": "stream",
     "text": [
      "gray dog\n"
     ]
    },
    {
     "data": {
      "text/plain": [
       "'cat'"
      ]
     },
     "execution_count": 15,
     "metadata": {},
     "output_type": "execute_result"
    }
   ],
   "source": [
    "Matroskin.type_ = \"dog\"\n",
    "Matroskin.info()\n",
    "# изменен атрибут чрез экземпляр класса\n",
    "CatClass.type_  # вывод атрибута класса"
   ]
  },
  {
   "cell_type": "code",
   "execution_count": 16,
   "metadata": {},
   "outputs": [
    {
     "data": {
      "text/plain": [
       "'cat'"
      ]
     },
     "execution_count": 16,
     "metadata": {},
     "output_type": "execute_result"
    }
   ],
   "source": [
    "kitty = CatClass(\"white\")\n",
    "kitty.type_"
   ]
  },
  {
   "cell_type": "markdown",
   "metadata": {},
   "source": [
    "Как видим выше экземпляр класса изменил значение _type с cat на dog только для данного экземпляра. Но в самом классе _type = 'cat'. "
   ]
  },
  {
   "cell_type": "markdown",
   "metadata": {},
   "source": [
    "# Наследование"
   ]
  },
  {
   "cell_type": "code",
   "execution_count": 17,
   "metadata": {},
   "outputs": [],
   "source": [
    "# создадим класс Animal\n",
    "\n",
    "\n",
    "class Animal:\n",
    "\n",
    "    # пропишем метод .__init__() с двумя параметрами: вес (кг) и длина (см)\n",
    "    def __init__(self, weight, length):\n",
    "\n",
    "        # поместим аргументы этих параметров в соответствующие переменные\n",
    "        self.weight = weight\n",
    "        self.length = length\n",
    "\n",
    "    # объявим методы .eat()\n",
    "    def eat(self):\n",
    "        print(\"Eating\")\n",
    "\n",
    "    # и .sleep()\n",
    "    def sleep(self):\n",
    "        print(\"Sleeping\")"
   ]
  },
  {
   "cell_type": "code",
   "execution_count": 18,
   "metadata": {},
   "outputs": [],
   "source": [
    "# создадим класс Bird\n",
    "# родительский класс Animal пропишем в скобках\n",
    "\n",
    "\n",
    "class Bird(Animal):\n",
    "\n",
    "    # внутри класса Bird объявим новый метод .move()\n",
    "    def move(self):\n",
    "\n",
    "        # для птиц .move() будет означать \"летать\"\n",
    "        print(\"Flying\")"
   ]
  },
  {
   "cell_type": "code",
   "execution_count": 19,
   "metadata": {},
   "outputs": [
    {
     "name": "stdout",
     "output_type": "stream",
     "text": [
      "Eating\n",
      "Flying\n"
     ]
    },
    {
     "data": {
      "text/plain": [
       "(0.3, 30, None, None)"
      ]
     },
     "execution_count": 19,
     "metadata": {},
     "output_type": "execute_result"
    }
   ],
   "source": [
    "# создадим объект pigeon и передадим ему значения веса и длины\n",
    "pigeon = Bird(0.3, 30)  # вес и длина из класса Animal\n",
    "pigeon.weight, pigeon.length, pigeon.eat(), pigeon.move()"
   ]
  },
  {
   "cell_type": "markdown",
   "metadata": {},
   "source": [
    "## Функция super() для дочернего класса"
   ]
  },
  {
   "cell_type": "code",
   "execution_count": 20,
   "metadata": {},
   "outputs": [],
   "source": [
    "# снова создадим класс Bird - дочерний от Animal\n",
    "\n",
    "\n",
    "class Bird(Animal):\n",
    "\n",
    "    # в метод .__init__() добавим параметр скорости полета (км/ч)\n",
    "    def __init__(self, weight, length, flying_speed):\n",
    "\n",
    "        # с помощью функции super() вызовем метод .__init__() родительского класса Animal\n",
    "        super().__init__(weight, length)\n",
    "        self.flying_speed = flying_speed\n",
    "\n",
    "    # вновь пропишем метод .move()\n",
    "    def move(self):\n",
    "        print(\"Flying\")"
   ]
  },
  {
   "cell_type": "code",
   "execution_count": 21,
   "metadata": {},
   "outputs": [],
   "source": [
    "# вновь создадим объект pigeon класса Bird, но уже с тремя параметрами\n",
    "pigeon = Bird(0.3, 30, 100)"
   ]
  },
  {
   "cell_type": "code",
   "execution_count": 22,
   "metadata": {},
   "outputs": [
    {
     "data": {
      "text/plain": [
       "(0.3, 30)"
      ]
     },
     "execution_count": 22,
     "metadata": {},
     "output_type": "execute_result"
    }
   ],
   "source": [
    "# вызовем как унаследованные, так и собственные атрибуты класса Bird\n",
    "pigeon.weight, pigeon.length  # атрибуты родительского класса\n",
    "# pigeon.flying_speed # атрибуты дочеренего класса"
   ]
  },
  {
   "cell_type": "code",
   "execution_count": 23,
   "metadata": {},
   "outputs": [
    {
     "name": "stdout",
     "output_type": "stream",
     "text": [
      "Sleeping\n",
      "Flying\n"
     ]
    }
   ],
   "source": [
    "# вызов метода род класса\n",
    "pigeon.sleep()\n",
    "# вызов метода дочерн класса\n",
    "pigeon.move()"
   ]
  }
 ],
 "metadata": {
  "kernelspec": {
   "display_name": "base",
   "language": "python",
   "name": "python3"
  },
  "language_info": {
   "codemirror_mode": {
    "name": "ipython",
    "version": 3
   },
   "file_extension": ".py",
   "mimetype": "text/x-python",
   "name": "python",
   "nbconvert_exporter": "python",
   "pygments_lexer": "ipython3",
   "version": "3.11.4"
  },
  "orig_nbformat": 4
 },
 "nbformat": 4,
 "nbformat_minor": 2
}

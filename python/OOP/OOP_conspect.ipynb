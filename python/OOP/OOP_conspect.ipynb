{
  "cells": [
    {
      "cell_type": "markdown",
      "metadata": {
        "id": "0AoPSXyUTTLc"
      },
      "source": [
        "## Классы и объекты в Питоне"
      ]
    },
    {
      "cell_type": "markdown",
      "metadata": {
        "id": "lIM5gFo4TbUg"
      },
      "source": [
        "### Создание класса"
      ]
    },
    {
      "cell_type": "markdown",
      "metadata": {
        "id": "RROZUPzwm4rK"
      },
      "source": [
        "#### Создание класса и метод `.__init__()`"
      ]
    },
    {
      "cell_type": "code",
      "execution_count": null,
      "metadata": {
        "id": "QGswhMFMno7-"
      },
      "outputs": [],
      "source": [
        "# создадим класс CatClass\n",
        "class CatClass:\n",
        "\n",
        "  # и пропишем метод .__init__()\n",
        "  def __init__(self):\n",
        "    pass"
      ]
    },
    {
      "cell_type": "markdown",
      "metadata": {
        "id": "qIIzZD65n1Mh"
      },
      "source": [
        "#### Создание объекта"
      ]
    },
    {
      "cell_type": "code",
      "execution_count": null,
      "metadata": {
        "colab": {
          "base_uri": "https://localhost:8080/",
          "height": 104
        },
        "id": "pERZ4ZQonsJB",
        "outputId": "98ba6678-a996-48ad-9d13-78deffb6a88a"
      },
      "outputs": [
        {
          "data": {
            "text/html": [
              "<div style=\"max-width:800px; border: 1px solid var(--colab-border-color);\"><style>\n",
              "      pre.function-repr-contents {\n",
              "        overflow-x: auto;\n",
              "        padding: 8px 12px;\n",
              "        max-height: 500px;\n",
              "      }\n",
              "\n",
              "      pre.function-repr-contents.function-repr-contents-collapsed {\n",
              "        cursor: pointer;\n",
              "        max-height: 100px;\n",
              "      }\n",
              "    </style>\n",
              "    <pre style=\"white-space: initial; background:\n",
              "         var(--colab-secondary-surface-color); padding: 8px 12px;\n",
              "         border-bottom: 1px solid var(--colab-border-color);\"><b>CatClass</b><br/>def __init__()</pre><pre class=\"function-repr-contents function-repr-contents-collapsed\" style=\"\"><a class=\"filepath\" style=\"display:none\" href=\"#\"></a>&lt;no docstring&gt;</pre></div>"
            ],
            "text/plain": [
              "__main__.CatClass"
            ]
          },
          "execution_count": 2,
          "metadata": {},
          "output_type": "execute_result"
        }
      ],
      "source": [
        "# создадим объект Matroskin класса CatClass\n",
        "Matroskin = CatClass()\n",
        "\n",
        "# проверим тип данных созданной переменной\n",
        "type(Matroskin)"
      ]
    },
    {
      "cell_type": "markdown",
      "metadata": {
        "id": "1DUEgzmJn6_h"
      },
      "source": [
        "#### Атрибуты класса"
      ]
    },
    {
      "cell_type": "code",
      "execution_count": null,
      "metadata": {
        "id": "0mQE6dKcwIjD"
      },
      "outputs": [],
      "source": [
        "# вновь создадим класс CatClass\n",
        "class CatClass:\n",
        "\n",
        "  # метод .__init__() на этот раз принимает еще и параметр color\n",
        "  def __init__(self, color):\n",
        "\n",
        "    # этот параметр будет записан в переменную атрибута self.color\n",
        "    self.color = color\n",
        "\n",
        "    # значение атрибута type_ задается внутри класса\n",
        "    self.type_ = 'cat'"
      ]
    },
    {
      "cell_type": "code",
      "execution_count": null,
      "metadata": {
        "colab": {
          "base_uri": "https://localhost:8080/"
        },
        "id": "CXFmjySeEJ59",
        "outputId": "f8935acf-e444-4a39-f0dc-b0309c00b3c8"
      },
      "outputs": [
        {
          "data": {
            "text/plain": [
              "('gray', 'cat')"
            ]
          },
          "execution_count": 5,
          "metadata": {},
          "output_type": "execute_result"
        }
      ],
      "source": [
        "# повторно создадим объект класса CatClass, передав ему параметр цвета шерсти\n",
        "Matroskin = CatClass('gray')\n",
        "\n",
        "# и выведем атрибуты класса\n",
        "Matroskin.color, Matroskin.type_"
      ]
    },
    {
      "cell_type": "markdown",
      "metadata": {
        "id": "lm6DQjYEWR-M"
      },
      "source": [
        "#### Методы класса"
      ]
    },
    {
      "cell_type": "code",
      "execution_count": null,
      "metadata": {
        "id": "KYAGXaEaWXGt"
      },
      "outputs": [],
      "source": [
        "# перепишем класс CatClass\n",
        "class CatClass:\n",
        "\n",
        "  # метод .__init__() и атрибуты оставим без изменений\n",
        "  def __init__(self, color):\n",
        "    self.color = color\n",
        "    self.type_ = 'cat'\n",
        "\n",
        "  # однако добавим метод, который позволит коту мяукать\n",
        "  def meow(self):\n",
        "    for i in range(3):\n",
        "      print('Мяу')\n",
        "\n",
        "  # и метод .info() для вывода информации об объекте\n",
        "  def info(self):\n",
        "    print(self.color, self.type_)"
      ]
    },
    {
      "cell_type": "code",
      "execution_count": null,
      "metadata": {
        "id": "pwOtF86Na8Tm"
      },
      "outputs": [],
      "source": [
        "# создадим объект\n",
        "Matroskin = CatClass('gray')"
      ]
    },
    {
      "cell_type": "code",
      "execution_count": null,
      "metadata": {
        "colab": {
          "base_uri": "https://localhost:8080/"
        },
        "id": "5wKGe_KEcq9C",
        "outputId": "50eb751d-e4e9-46d6-d713-1994812b18ad"
      },
      "outputs": [
        {
          "name": "stdout",
          "output_type": "stream",
          "text": [
            "Мяу\n",
            "Мяу\n",
            "Мяу\n"
          ]
        }
      ],
      "source": [
        "# применим метод .meow()\n",
        "Matroskin.meow()"
      ]
    },
    {
      "cell_type": "code",
      "execution_count": null,
      "metadata": {
        "colab": {
          "base_uri": "https://localhost:8080/"
        },
        "id": "01l4yJA17k9d",
        "outputId": "fbb14fc5-1d0a-4e66-b113-493c11ebb790"
      },
      "outputs": [
        {
          "name": "stdout",
          "output_type": "stream",
          "text": [
            "gray cat\n"
          ]
        }
      ],
      "source": [
        "# и метод .info()\n",
        "Matroskin.info()"
      ]
    },
    {
      "cell_type": "markdown",
      "metadata": {
        "id": "7o5fPMtonH0V"
      },
      "source": [
        "### Принципы ООП"
      ]
    },
    {
      "cell_type": "markdown",
      "metadata": {
        "id": "LG0BiM5PgxYR"
      },
      "source": [
        "#### Инкапсуляция"
      ]
    },
    {
      "cell_type": "code",
      "execution_count": null,
      "metadata": {
        "colab": {
          "base_uri": "https://localhost:8080/",
          "height": 35
        },
        "id": "X0HiYZq0Rmnd",
        "outputId": "680f7213-abb6-4dd0-d414-442d450b6332"
      },
      "outputs": [
        {
          "data": {
            "application/vnd.google.colaboratory.intrinsic+json": {
              "type": "string"
            },
            "text/plain": [
              "'dog'"
            ]
          },
          "execution_count": 10,
          "metadata": {},
          "output_type": "execute_result"
        }
      ],
      "source": [
        "# изменим атрибут type_ объекта Matroskin на dog\n",
        "Matroskin.type_ = 'dog'\n",
        "\n",
        "# выведем этот атрибут\n",
        "Matroskin.type_"
      ]
    },
    {
      "cell_type": "code",
      "execution_count": null,
      "metadata": {
        "id": "_Un9fShyWILH"
      },
      "outputs": [],
      "source": [
        "class CatClass:\n",
        "\n",
        "  def __init__(self, color):\n",
        "    self.color = color\n",
        "    # символ подчеркивания ПЕРЕД названием атрибута указывает,\n",
        "    # что это частный атрибут и изменять его не стоит\n",
        "    self._type_ = 'cat'"
      ]
    },
    {
      "cell_type": "code",
      "execution_count": null,
      "metadata": {
        "colab": {
          "base_uri": "https://localhost:8080/",
          "height": 35
        },
        "id": "YmpfrLukW4sm",
        "outputId": "6f113919-796f-44ec-f329-f02a7959dabd"
      },
      "outputs": [
        {
          "data": {
            "application/vnd.google.colaboratory.intrinsic+json": {
              "type": "string"
            },
            "text/plain": [
              "'dog'"
            ]
          },
          "execution_count": 12,
          "metadata": {},
          "output_type": "execute_result"
        }
      ],
      "source": [
        "# вновь создадим объект класса CatClass\n",
        "Matroskin = CatClass('gray')\n",
        "\n",
        "# и изменим значение атрибута _type_\n",
        "Matroskin._type_ = 'dog'\n",
        "Matroskin._type_"
      ]
    },
    {
      "cell_type": "code",
      "execution_count": null,
      "metadata": {
        "id": "GqU88qogZ8_B"
      },
      "outputs": [],
      "source": [
        "class CatClass:\n",
        "\n",
        "  def __init__(self, color):\n",
        "    self.color = color\n",
        "    # символ двойного подчеркивания предотвратит доступ извне\n",
        "    self.__type_ = 'cat'"
      ]
    },
    {
      "cell_type": "code",
      "execution_count": null,
      "metadata": {
        "id": "2O1GUso6aG4C"
      },
      "outputs": [],
      "source": [
        "# при попытке вызова такого атрибута Питон выдаст ошибку\n",
        "Matroskin = CatClass('gray')\n",
        "# Matroskin.__type_"
      ]
    },
    {
      "cell_type": "code",
      "execution_count": null,
      "metadata": {
        "colab": {
          "base_uri": "https://localhost:8080/",
          "height": 35
        },
        "id": "gqsNNuRiaHBr",
        "outputId": "290aad23-9ff7-4dee-c3f5-03ea385f54e3"
      },
      "outputs": [
        {
          "data": {
            "application/vnd.google.colaboratory.intrinsic+json": {
              "type": "string"
            },
            "text/plain": [
              "'dog'"
            ]
          },
          "execution_count": 15,
          "metadata": {},
          "output_type": "execute_result"
        }
      ],
      "source": [
        "# поставим _CatClass перед __type_\n",
        "Matroskin._CatClass__type_ = 'dog'\n",
        "\n",
        "# к сожалению, значение атрибута изменится\n",
        "Matroskin._CatClass__type_"
      ]
    },
    {
      "cell_type": "markdown",
      "metadata": {
        "id": "33PlUWogG2HN"
      },
      "source": [
        "#### Наследование классов"
      ]
    },
    {
      "cell_type": "markdown",
      "metadata": {
        "id": "e-NaY_Yd4l5h"
      },
      "source": [
        "Создание родительского класса и класса-потомка"
      ]
    },
    {
      "cell_type": "code",
      "execution_count": null,
      "metadata": {
        "id": "HS-07E-6Vc6Q"
      },
      "outputs": [],
      "source": [
        "# создадим класс Animal\n",
        "class Animal:\n",
        "\n",
        "  # пропишем метод .__init__() с двумя параметрами: вес (кг) и длина (см)\n",
        "  def __init__(self, weight, length):\n",
        "\n",
        "    # поместим аргументы этих параметров в соответствующие переменные\n",
        "    self.weight = weight\n",
        "    self.length = length\n",
        "\n",
        "  # объявим методы .eat()\n",
        "  def eat(self):\n",
        "    print('Eating')\n",
        "\n",
        "  # и .sleep()\n",
        "  def sleep(self):\n",
        "    print('Sleeping')"
      ]
    },
    {
      "cell_type": "code",
      "execution_count": null,
      "metadata": {
        "id": "lABQGZSoCF0Y"
      },
      "outputs": [],
      "source": [
        "# создадим класс Bird\n",
        "# родительский класс Animal пропишем в скобках\n",
        "class Bird(Animal):\n",
        "\n",
        "  # внутри класса Bird объявим новый метод .move()\n",
        "  def move(self):\n",
        "\n",
        "    # для птиц .move() будет означать \"летать\"\n",
        "    print('Flying')"
      ]
    },
    {
      "cell_type": "code",
      "execution_count": null,
      "metadata": {
        "id": "RzdouKGtCQMP"
      },
      "outputs": [],
      "source": [
        "# создадим объект pigeon и передадим ему значения веса и длины\n",
        "pigeon = Bird(0.3, 30)"
      ]
    },
    {
      "cell_type": "code",
      "execution_count": null,
      "metadata": {
        "colab": {
          "base_uri": "https://localhost:8080/"
        },
        "id": "YGwcXdjWCcDd",
        "outputId": "a7a492f8-646a-4355-e6d2-2fc75d22ed00"
      },
      "outputs": [
        {
          "data": {
            "text/plain": [
              "(0.3, 30)"
            ]
          },
          "execution_count": 19,
          "metadata": {},
          "output_type": "execute_result"
        }
      ],
      "source": [
        "# посмотрим на унаследованные у класса Animal атрибуты\n",
        "pigeon.weight, pigeon.length"
      ]
    },
    {
      "cell_type": "code",
      "execution_count": null,
      "metadata": {
        "colab": {
          "base_uri": "https://localhost:8080/"
        },
        "id": "8wX-Bo_fCcP7",
        "outputId": "87e1fa2b-b0e5-4c32-fd51-9caf21d1a222"
      },
      "outputs": [
        {
          "name": "stdout",
          "output_type": "stream",
          "text": [
            "Eating\n"
          ]
        }
      ],
      "source": [
        "# и методы\n",
        "pigeon.eat()"
      ]
    },
    {
      "cell_type": "code",
      "execution_count": null,
      "metadata": {
        "colab": {
          "base_uri": "https://localhost:8080/"
        },
        "id": "d6HH0FwrCw90",
        "outputId": "024e64d8-1e6b-450c-c4b7-f00e3f8d8f84"
      },
      "outputs": [
        {
          "name": "stdout",
          "output_type": "stream",
          "text": [
            "Flying\n"
          ]
        }
      ],
      "source": [
        "# теперь вызовем метод, свойственный только классу Bird\n",
        "pigeon.move()"
      ]
    },
    {
      "cell_type": "markdown",
      "metadata": {
        "id": "z9yL5WN2C_Qi"
      },
      "source": [
        "Функция `super()`"
      ]
    },
    {
      "cell_type": "code",
      "execution_count": null,
      "metadata": {
        "id": "JYzIVcZrVc9W"
      },
      "outputs": [],
      "source": [
        "# снова создадим класс Bird\n",
        "class Bird(Animal):\n",
        "\n",
        "  # в метод .__init__() добавим параметр скорости полета (км/ч)\n",
        "  def __init__(self, weight, length, flying_speed):\n",
        "\n",
        "    # с помощью функции super() вызовем метод .__init__() родительского класса Animal\n",
        "    super().__init__(weight, length)\n",
        "    self.flying_speed = flying_speed\n",
        "\n",
        "  # вновь пропишем метод .move()\n",
        "  def move(self):\n",
        "    print('Flying')"
      ]
    },
    {
      "cell_type": "code",
      "execution_count": null,
      "metadata": {
        "id": "cwu9N5Q0VdAO"
      },
      "outputs": [],
      "source": [
        "# вновь создадим объект pigeon класса Bird, но уже с тремя параметрами\n",
        "pigeon = Bird(0.3, 30, 100)"
      ]
    },
    {
      "cell_type": "code",
      "execution_count": null,
      "metadata": {
        "colab": {
          "base_uri": "https://localhost:8080/"
        },
        "id": "WfcbSzlf6Ao_",
        "outputId": "984059b7-02cb-450e-acb3-bee19295289e"
      },
      "outputs": [
        {
          "data": {
            "text/plain": [
              "(0.3, 30, 100)"
            ]
          },
          "execution_count": 24,
          "metadata": {},
          "output_type": "execute_result"
        }
      ],
      "source": [
        "# вызовем как унаследованные, так и собственные атрибуты класса Bird\n",
        "pigeon.weight, pigeon.length, pigeon.flying_speed"
      ]
    },
    {
      "cell_type": "code",
      "execution_count": null,
      "metadata": {
        "colab": {
          "base_uri": "https://localhost:8080/"
        },
        "id": "230dmrRP4ZZE",
        "outputId": "d9a50f2e-5f9e-4cf0-93e7-bbc0022e99c5"
      },
      "outputs": [
        {
          "name": "stdout",
          "output_type": "stream",
          "text": [
            "Sleeping\n"
          ]
        }
      ],
      "source": [
        "# вызовем унаследованный метод .sleep()\n",
        "pigeon.sleep()"
      ]
    },
    {
      "cell_type": "code",
      "execution_count": null,
      "metadata": {
        "colab": {
          "base_uri": "https://localhost:8080/"
        },
        "id": "spaGz6VV4g_m",
        "outputId": "ebb8b7d7-85df-4d6c-fa29-1c260aee07a0"
      },
      "outputs": [
        {
          "name": "stdout",
          "output_type": "stream",
          "text": [
            "Flying\n"
          ]
        }
      ],
      "source": [
        "# и собственный метод .move()\n",
        "pigeon.move()"
      ]
    },
    {
      "cell_type": "markdown",
      "metadata": {
        "id": "qmOoUK4R5D-f"
      },
      "source": [
        "Переопределение класса"
      ]
    },
    {
      "cell_type": "code",
      "execution_count": null,
      "metadata": {
        "id": "7EFREoZb4kE6"
      },
      "outputs": [],
      "source": [
        "# создадим подкласс Flightless класса Bird\n",
        "class Flightless(Bird):\n",
        "\n",
        "  # метод .__init__() этого подкласса \"стирает\" .__init__() родительского класса\n",
        "  def __init__(self, running_speed):\n",
        "\n",
        "    # таким образом, у нас остается только один атрибут\n",
        "    self.running_speed = running_speed\n",
        "\n",
        "  # кроме того, результатом метода .move() будет 'Running'\n",
        "  def move(self):\n",
        "    print('Running')"
      ]
    },
    {
      "cell_type": "code",
      "execution_count": null,
      "metadata": {
        "id": "lb8QJKEN4kKh"
      },
      "outputs": [],
      "source": [
        "# создадим объект ostrich класса Flightless\n",
        "ostrich = Flightless(60)"
      ]
    },
    {
      "cell_type": "code",
      "execution_count": null,
      "metadata": {
        "colab": {
          "base_uri": "https://localhost:8080/"
        },
        "id": "AoTdJFjw4kNn",
        "outputId": "3a1a39d7-fc2a-4351-bb12-9c338567257b"
      },
      "outputs": [
        {
          "data": {
            "text/plain": [
              "60"
            ]
          },
          "execution_count": 30,
          "metadata": {},
          "output_type": "execute_result"
        }
      ],
      "source": [
        "# посмотрим на значение атрбута скорости\n",
        "ostrich.running_speed"
      ]
    },
    {
      "cell_type": "code",
      "execution_count": null,
      "metadata": {
        "colab": {
          "base_uri": "https://localhost:8080/"
        },
        "id": "PledBnHF4kQ3",
        "outputId": "0d791ed0-40cc-451d-8f1a-f708e36593fd"
      },
      "outputs": [
        {
          "name": "stdout",
          "output_type": "stream",
          "text": [
            "Running\n"
          ]
        }
      ],
      "source": [
        "# и проверим метод .move()\n",
        "ostrich.move()"
      ]
    },
    {
      "cell_type": "code",
      "execution_count": null,
      "metadata": {
        "colab": {
          "base_uri": "https://localhost:8080/"
        },
        "id": "7oBZyEcG797e",
        "outputId": "066e5b32-13fc-4186-df9c-5322716ce16d"
      },
      "outputs": [
        {
          "name": "stdout",
          "output_type": "stream",
          "text": [
            "Eating\n"
          ]
        }
      ],
      "source": [
        "# подкласс Flightless сохранил методы всех родительских классов\n",
        "ostrich.eat()"
      ]
    },
    {
      "cell_type": "markdown",
      "metadata": {
        "id": "BW2xaOeB9PDk"
      },
      "source": [
        "Множественное наследование"
      ]
    },
    {
      "cell_type": "code",
      "execution_count": null,
      "metadata": {
        "id": "jA-Aj_z49RYk"
      },
      "outputs": [],
      "source": [
        "# создадим родительский класс Fish\n",
        "class Fish:\n",
        "\n",
        "  # и метод .swim()\n",
        "  def swim(self):\n",
        "    print('Swimming')"
      ]
    },
    {
      "cell_type": "code",
      "execution_count": null,
      "metadata": {
        "id": "CN-A0F2D9RSC"
      },
      "outputs": [],
      "source": [
        "# и еще один родительский класс Bird\n",
        "class Bird:\n",
        "\n",
        "  # и метод .fly()\n",
        "  def fly(self):\n",
        "    print('Flying')"
      ]
    },
    {
      "cell_type": "code",
      "execution_count": null,
      "metadata": {
        "id": "udTUUUr0HKkB"
      },
      "outputs": [],
      "source": [
        "# теперь создадим класс-потомок этих двух классов\n",
        "class SwimmingBird(Bird, Fish):\n",
        "  pass"
      ]
    },
    {
      "cell_type": "code",
      "execution_count": null,
      "metadata": {
        "id": "7SfYHQItHe9I"
      },
      "outputs": [],
      "source": [
        "# создадим объект duck класса SwimmingBird\n",
        "duck = SwimmingBird()"
      ]
    },
    {
      "cell_type": "code",
      "execution_count": null,
      "metadata": {
        "colab": {
          "base_uri": "https://localhost:8080/"
        },
        "id": "xogM-VUMHrd0",
        "outputId": "280ead96-86c0-4dc0-ef55-e6e7d4556cdb"
      },
      "outputs": [
        {
          "name": "stdout",
          "output_type": "stream",
          "text": [
            "Flying\n"
          ]
        }
      ],
      "source": [
        "# как мы видим утка умеет как летать,\n",
        "duck.fly()"
      ]
    },
    {
      "cell_type": "code",
      "execution_count": null,
      "metadata": {
        "colab": {
          "base_uri": "https://localhost:8080/"
        },
        "id": "lHZ6WVWQJmVi",
        "outputId": "4137c2cf-2c5d-44da-836d-6de609ae8607"
      },
      "outputs": [
        {
          "name": "stdout",
          "output_type": "stream",
          "text": [
            "Swimming\n"
          ]
        }
      ],
      "source": [
        "# так и плавать\n",
        "duck.swim()"
      ]
    },
    {
      "cell_type": "markdown",
      "metadata": {
        "id": "ruBf2MpEiN-9"
      },
      "source": [
        "#### Полиморфизм"
      ]
    },
    {
      "cell_type": "code",
      "execution_count": null,
      "metadata": {
        "colab": {
          "base_uri": "https://localhost:8080/"
        },
        "id": "57k1y3vHzS2Q",
        "outputId": "d18b2163-e1aa-43a8-f07c-977ecf8f17a8"
      },
      "outputs": [
        {
          "data": {
            "text/plain": [
              "4"
            ]
          },
          "execution_count": 39,
          "metadata": {},
          "output_type": "execute_result"
        }
      ],
      "source": [
        "# для чисел '+' является оператором сложения\n",
        "2 + 2"
      ]
    },
    {
      "cell_type": "code",
      "execution_count": null,
      "metadata": {
        "colab": {
          "base_uri": "https://localhost:8080/",
          "height": 35
        },
        "id": "XFkxRUt2zTFb",
        "outputId": "3c53f266-64a7-4472-adaa-9859de7f2551"
      },
      "outputs": [
        {
          "data": {
            "application/vnd.google.colaboratory.intrinsic+json": {
              "type": "string"
            },
            "text/plain": [
              "'классы и объекты'"
            ]
          },
          "execution_count": 40,
          "metadata": {},
          "output_type": "execute_result"
        }
      ],
      "source": [
        "# для строк - оператором объединения\n",
        "'классы' + ' и ' + 'объекты'"
      ]
    },
    {
      "cell_type": "markdown",
      "metadata": {
        "id": "syQy4yvkiRUN"
      },
      "source": [
        "1. Полиморфизм функций"
      ]
    },
    {
      "cell_type": "code",
      "execution_count": null,
      "metadata": {
        "colab": {
          "base_uri": "https://localhost:8080/"
        },
        "id": "T23-llHTiTY2",
        "outputId": "5ca4d58b-e6a5-4c3a-fbee-5febdd01ea40"
      },
      "outputs": [
        {
          "data": {
            "text/plain": [
              "26"
            ]
          },
          "execution_count": 41,
          "metadata": {},
          "output_type": "execute_result"
        }
      ],
      "source": [
        "# функцию len() можно применить к строке\n",
        "len('Программирование на Питоне')"
      ]
    },
    {
      "cell_type": "code",
      "execution_count": null,
      "metadata": {
        "colab": {
          "base_uri": "https://localhost:8080/"
        },
        "id": "CbWOFs8wqLKZ",
        "outputId": "1634933b-bd83-4320-c90f-8372bc013748"
      },
      "outputs": [
        {
          "data": {
            "text/plain": [
              "3"
            ]
          },
          "execution_count": 42,
          "metadata": {},
          "output_type": "execute_result"
        }
      ],
      "source": [
        "# кроме того, она способна работать со списком\n",
        "len(['Программирование', 'на', 'Питоне'])"
      ]
    },
    {
      "cell_type": "code",
      "execution_count": null,
      "metadata": {
        "colab": {
          "base_uri": "https://localhost:8080/"
        },
        "id": "l03mggVpqLPx",
        "outputId": "becb35d7-43b5-4a31-d8da-3228c9788b1d"
      },
      "outputs": [
        {
          "data": {
            "text/plain": [
              "3"
            ]
          },
          "execution_count": 43,
          "metadata": {},
          "output_type": "execute_result"
        }
      ],
      "source": [
        "# словарем\n",
        "len({0 : 'Программирование', 1 : 'на', 2 : 'Питоне'})"
      ]
    },
    {
      "cell_type": "code",
      "execution_count": null,
      "metadata": {
        "colab": {
          "base_uri": "https://localhost:8080/"
        },
        "id": "EAvsld8Zr6eK",
        "outputId": "198df525-cf06-4953-c4f7-ff04d2e3147e"
      },
      "outputs": [
        {
          "data": {
            "text/plain": [
              "3"
            ]
          },
          "execution_count": 44,
          "metadata": {},
          "output_type": "execute_result"
        }
      ],
      "source": [
        "# массивом Numpy и другими объектами\n",
        "import numpy as np\n",
        "len(np.array([1, 2, 3]))"
      ]
    },
    {
      "cell_type": "markdown",
      "metadata": {
        "id": "03fAyPjYiUD-"
      },
      "source": [
        "2. Полиморфизм классов"
      ]
    },
    {
      "cell_type": "markdown",
      "metadata": {
        "id": "Q2JI2sNo_rJ4"
      },
      "source": [
        "Создадим объекты с одинаковыми атрибутами и методами"
      ]
    },
    {
      "cell_type": "code",
      "execution_count": null,
      "metadata": {
        "id": "JexRqp8IiTig"
      },
      "outputs": [],
      "source": [
        "# создадим класс котов\n",
        "class CatClass:\n",
        "\n",
        "  # определим атрибуты клички, типа и цвета шерсти\n",
        "  def __init__(self, name, color):\n",
        "    self.name = name\n",
        "    self._type_ = 'кот'\n",
        "    self.color = color\n",
        "\n",
        "  # создадим метод .info() для вывода этих атрибутов\n",
        "  def info(self):\n",
        "    print(f'Меня зовут {self.name}, я {self._type_}, цвет моей шерсти {self.color}')\n",
        "\n",
        "  # и метод .sound(), показывающий, что коты умеют мяукать\n",
        "  def sound(self):\n",
        "    print('Я умею мяукать')"
      ]
    },
    {
      "cell_type": "code",
      "execution_count": null,
      "metadata": {
        "id": "PEyzqo1qBxhZ"
      },
      "outputs": [],
      "source": [
        "# создадим класс собак\n",
        "class DogClass:\n",
        "\n",
        "  # с такими же атрибутами\n",
        "  def __init__(self, name, color):\n",
        "    self.name = name\n",
        "    self._type_ = 'пес'\n",
        "    self.color = color\n",
        "\n",
        "  # и методами\n",
        "  def info(self):\n",
        "    print(f'Меня зовут {self.name}, я {self._type_}, цвет моей шерсти {self.color}')\n",
        "\n",
        "  # хотя, обратите внимание, действия внутри методов отличаются\n",
        "  def sound(self):\n",
        "    print('Я умею лаять')"
      ]
    },
    {
      "cell_type": "markdown",
      "metadata": {
        "id": "yxdVCLs7_vGV"
      },
      "source": [
        "Создадим объекты этих классов"
      ]
    },
    {
      "cell_type": "code",
      "execution_count": null,
      "metadata": {
        "id": "j5TO6c1aAHRV"
      },
      "outputs": [],
      "source": [
        "cat = CatClass('Бегемот', 'черный')\n",
        "dog = DogClass('Барбос', 'серый')"
      ]
    },
    {
      "cell_type": "markdown",
      "metadata": {
        "id": "In29ldkK_9aa"
      },
      "source": [
        "В цикле `for` вызовем атрибуты и методы каждого из классов"
      ]
    },
    {
      "cell_type": "code",
      "execution_count": null,
      "metadata": {
        "colab": {
          "base_uri": "https://localhost:8080/"
        },
        "id": "5xvyicz0AGyU",
        "outputId": "d132ac87-ba33-4d72-c9ca-33e6d30450e6"
      },
      "outputs": [
        {
          "name": "stdout",
          "output_type": "stream",
          "text": [
            "Меня зовут Бегемот, я кот, цвет моей шерсти черный\n",
            "Я умею мяукать\n",
            "\n",
            "Меня зовут Барбос, я пес, цвет моей шерсти серый\n",
            "Я умею лаять\n",
            "\n"
          ]
        }
      ],
      "source": [
        "for animal in (cat, dog):\n",
        "  animal.info()\n",
        "  animal.sound()\n",
        "  print()"
      ]
    },
    {
      "cell_type": "markdown",
      "metadata": {
        "id": "UhIuTZgpjK-n"
      },
      "source": [
        "### Парадигмы программирования"
      ]
    },
    {
      "cell_type": "code",
      "execution_count": null,
      "metadata": {
        "id": "D329DnitlFFM"
      },
      "outputs": [],
      "source": [
        "patients = [{'name': 'Николай', 'height': 178},\n",
        "            {'name': 'Иван', 'height': 182},\n",
        "            {'name': 'Алексей', 'height': 190}]"
      ]
    },
    {
      "cell_type": "markdown",
      "metadata": {
        "id": "SakiQ8b0jQb5"
      },
      "source": [
        "#### Процедурное программирование"
      ]
    },
    {
      "cell_type": "code",
      "execution_count": null,
      "metadata": {
        "colab": {
          "base_uri": "https://localhost:8080/"
        },
        "id": "fMwt8bYhjVG0",
        "outputId": "b212e292-867f-4dd1-a9b4-3d4a1c8ee0a1"
      },
      "outputs": [
        {
          "data": {
            "text/plain": [
              "183.33333333333334"
            ]
          },
          "execution_count": 50,
          "metadata": {},
          "output_type": "execute_result"
        }
      ],
      "source": [
        "# создадим переменные для общего роста и количества пациентов\n",
        "total, count = 0, 0\n",
        "\n",
        "# в цикле for пройдемся по пациентам (отдельным словарям)\n",
        "for patient in patients:\n",
        "  # достанем значение роста и прибавим к текущему значению переменной total\n",
        "  total += patient['height']\n",
        "  # на каждой итерации будем увеличивать счетчик пациентов на один\n",
        "  count += 1\n",
        "\n",
        "# разделим общий рост на количество пациентов,\n",
        "# чтобы получить среднее значение\n",
        "total / count"
      ]
    },
    {
      "cell_type": "markdown",
      "metadata": {
        "id": "pdLaSjb-jV1y"
      },
      "source": [
        "#### Объектно-ориентированное программирование"
      ]
    },
    {
      "cell_type": "code",
      "execution_count": null,
      "metadata": {},
      "outputs": [],
      "source": [
        "patients = [{'name': 'Николай', 'height': 178},\n",
        "            {'name': 'Иван', 'height': 182},\n",
        "            {'name': 'Алексей', 'height': 190}]"
      ]
    },
    {
      "cell_type": "code",
      "execution_count": null,
      "metadata": {
        "id": "7OKHNVZHjiTu"
      },
      "outputs": [],
      "source": [
        "# создадим класс для работы с данными DataClass\n",
        "class DataClass:\n",
        "\n",
        "  # при создании объекта будем передавать ему данные для анализа\n",
        "  def __init__(self, data):\n",
        "    self.data = data\n",
        "\n",
        "  # кроме того, создадим метод для расчета среднего значения\n",
        "  def count_average(self, metric):\n",
        "\n",
        "    # параметр metric определит, по какому столбцу считать среднее\n",
        "    self.metric = metric\n",
        "\n",
        "    # объявим два частных атрибута\n",
        "    self.__total = 0\n",
        "    self.__count = 0\n",
        "\n",
        "    # в цикле for пройдемся по списку словарей\n",
        "    for item in self.data:\n",
        "\n",
        "      # рассчитем общую сумму по указанному в metric\n",
        "      # значению каждого словаря\n",
        "      self.__total += item[self.metric]\n",
        "\n",
        "      # и количество таких записей\n",
        "      self.__count += 1\n",
        "\n",
        "    # разделим общую сумму показателя на количество записей\n",
        "    return self.__total / self.__count"
      ]
    },
    {
      "cell_type": "code",
      "execution_count": null,
      "metadata": {
        "colab": {
          "base_uri": "https://localhost:8080/"
        },
        "id": "CgiUFzkLjibJ",
        "outputId": "e2221e08-90c9-4bb7-e57f-76cb678a1fc1"
      },
      "outputs": [
        {
          "data": {
            "text/plain": [
              "183.33333333333334"
            ]
          },
          "execution_count": 52,
          "metadata": {},
          "output_type": "execute_result"
        }
      ],
      "source": [
        "# создадим объект класса DataClass и передадим ему данные о пациентах\n",
        "data_object = DataClass(patients)\n",
        "\n",
        "# вызовем метод .count_average() с метрикой 'height'\n",
        "data_object.count_average('height')"
      ]
    },
    {
      "cell_type": "markdown",
      "metadata": {
        "id": "oIzYzt3hji9O"
      },
      "source": [
        "#### Функциональное программирование"
      ]
    },
    {
      "cell_type": "markdown",
      "metadata": {
        "id": "T7rvVdD9rU4a"
      },
      "source": [
        "Функция map()"
      ]
    },
    {
      "cell_type": "code",
      "execution_count": null,
      "metadata": {
        "colab": {
          "base_uri": "https://localhost:8080/"
        },
        "id": "5PT_4ZLfqqG0",
        "outputId": "c586024d-c14a-4685-a5db-042ad98dcd40"
      },
      "outputs": [
        {
          "data": {
            "text/plain": [
              "[178, 182, 190]"
            ]
          },
          "execution_count": 53,
          "metadata": {},
          "output_type": "execute_result"
        }
      ],
      "source": [
        "# lambda-функция достанет значение по ключу height\n",
        "# функция map() применит lambda-функцию к каждому вложенному в patients словарю\n",
        "# функция list() преобразует результат в список\n",
        "heights = list(map(lambda x: x['height'], patients))\n",
        "heights"
      ]
    },
    {
      "cell_type": "code",
      "execution_count": null,
      "metadata": {
        "colab": {
          "base_uri": "https://localhost:8080/"
        },
        "id": "Zr0R6ibHor5X",
        "outputId": "e93f4bc5-0237-46e5-fc33-25677f68be12"
      },
      "outputs": [
        {
          "data": {
            "text/plain": [
              "183.33333333333334"
            ]
          },
          "execution_count": 54,
          "metadata": {},
          "output_type": "execute_result"
        }
      ],
      "source": [
        "# воспользуемся функциями sum() и len() для нахождения среднего значения\n",
        "sum(heights) / len(heights)"
      ]
    },
    {
      "cell_type": "markdown",
      "metadata": {
        "id": "5WBvRwVxrXRg"
      },
      "source": [
        "Функция einsum()"
      ]
    },
    {
      "cell_type": "code",
      "execution_count": null,
      "metadata": {
        "id": "co4xTm4krdDn"
      },
      "outputs": [],
      "source": [
        "# возьмем два двумерных массива\n",
        "a = np.array([[0, 1, 2],\n",
        "              [3, 4, 5]])\n",
        "\n",
        "b = np.array([[5, 4],\n",
        "              [3, 2],\n",
        "              [1, 0]])"
      ]
    },
    {
      "cell_type": "code",
      "execution_count": null,
      "metadata": {
        "colab": {
          "base_uri": "https://localhost:8080/"
        },
        "id": "D1U0EgomMX-6",
        "outputId": "41bfdec9-c0b0-4687-9e5f-b434e79981ef"
      },
      "outputs": [
        {
          "data": {
            "text/plain": [
              "array([[ 5,  2],\n",
              "       [32, 20]])"
            ]
          },
          "execution_count": 56,
          "metadata": {},
          "output_type": "execute_result"
        }
      ],
      "source": [
        "# перемножим a и b по индексу j через функцию np.einsum()\n",
        "np.einsum('ij, jk -> ik', a, b)"
      ]
    },
    {
      "cell_type": "markdown",
      "metadata": {
        "id": "K3j3MzT6h70G"
      },
      "source": [
        "### Классы и объекты в машинном обучении"
      ]
    },
    {
      "cell_type": "markdown",
      "metadata": {
        "id": "WFqBszMyiAdy"
      },
      "source": [
        "#### Готовые классы в библиотеке sklearn"
      ]
    },
    {
      "cell_type": "code",
      "execution_count": null,
      "metadata": {
        "id": "VtVNV9EMiFcF"
      },
      "outputs": [],
      "source": [
        "# возьмем данные роста и обхвата шеи\n",
        "X = np.array([1.48, 1.49, 1.49, 1.50, 1.51, 1.52, 1.52, 1.53, 1.53, 1.54, 1.55, 1.56, 1.57, 1.57, 1.58, 1.58, 1.59, 1.60, 1.61, 1.62, 1.63, 1.64, 1.65, 1.65, 1.66, 1.67, 1.67, 1.68, 1.68,  1.69, 1.70, 1.70, 1.71, 1.71, 1.71, 1.74, 1.75, 1.76, 1.77, 1.77, 1.78])\n",
        "y = np.array([29.1, 30.0, 30.1, 30.2, 30.4, 30.6, 30.8, 30.9, 31.0, 30.6, 30.7, 30.9, 31.0, 31.2, 31.3, 32.0, 31.4, 31.9, 32.4, 32.8, 32.8, 33.3, 33.6, 33.0, 33.9, 33.8, 35.0, 34.5, 34.7, 34.6, 34.2, 34.8, 35.5, 36.0, 36.2, 36.3, 36.6, 36.8, 36.8, 37.0, 38.5])"
      ]
    },
    {
      "cell_type": "code",
      "execution_count": null,
      "metadata": {
        "id": "urkDTmJiGexS"
      },
      "outputs": [],
      "source": [
        "# преобразуем данные роста в двумерный массив\n",
        "X_2D = X.reshape(-1, 1)"
      ]
    },
    {
      "cell_type": "code",
      "execution_count": null,
      "metadata": {
        "colab": {
          "base_uri": "https://localhost:8080/"
        },
        "id": "Y_7E3d9EE2_e",
        "outputId": "0d9ca371-7503-4b0d-8091-9670ce1070f4"
      },
      "outputs": [
        {
          "data": {
            "text/plain": [
              "(array([26.86181201]), -10.570936299787334)"
            ]
          },
          "execution_count": 59,
          "metadata": {},
          "output_type": "execute_result"
        }
      ],
      "source": [
        "# из набора линейных моделей библиотеки sklearn импортируем линейную регрессию\n",
        "from sklearn.linear_model import LinearRegression\n",
        "\n",
        "# создадим объект этого класса и запишем в переменную model\n",
        "model = LinearRegression()\n",
        "\n",
        "# обучим модель с помощью метода .fit(), которому передадим наши данные\n",
        "model.fit(X_2D, y)\n",
        "\n",
        "# на выходе получим коэффициенты линейной регрессии\n",
        "model.coef_, model.intercept_"
      ]
    },
    {
      "cell_type": "code",
      "execution_count": null,
      "metadata": {
        "colab": {
          "base_uri": "https://localhost:8080/"
        },
        "id": "DAkn0YJd_xZM",
        "outputId": "46c0fdf2-881f-4780-aca8-220bc08676e8"
      },
      "outputs": [
        {
          "data": {
            "text/plain": [
              "array([29.18454547, 29.45316359, 29.45316359, 29.72178171, 29.99039983])"
            ]
          },
          "execution_count": 60,
          "metadata": {},
          "output_type": "execute_result"
        }
      ],
      "source": [
        "# построим прогноз и выведем первые пять значений\n",
        "y_pred = model.predict(X_2D)\n",
        "y_pred[:5]"
      ]
    },
    {
      "cell_type": "markdown",
      "metadata": {
        "id": "deNVn0YIJ9Lx"
      },
      "source": [
        "#### Пример ООП: собственный класс линейной регрессии"
      ]
    },
    {
      "cell_type": "code",
      "execution_count": null,
      "metadata": {
        "id": "Fy55136VEDy9"
      },
      "outputs": [],
      "source": [
        "# нашему классу понадобится Numpy\n",
        "import numpy as np\n",
        "\n",
        "# создадим класс SimpleLinearRegression\n",
        "class SimpleLinearRegression:\n",
        "\n",
        "  # в методе .__init__() объявим переменные наклона и сдвига\n",
        "  def __init__(self):\n",
        "    self.slope_ = None\n",
        "    self.intercept_ = None\n",
        "\n",
        "  # создадим метод .fit()\n",
        "  def fit(self, X, y):\n",
        "\n",
        "    # найдем среднее значение X и y\n",
        "    X_mean = self.find_mean(X)\n",
        "    y_mean = self.find_mean(y)\n",
        "\n",
        "    # объявим переменные для числителя и знаменателя\n",
        "    numerator, denominator = 0, 0\n",
        "\n",
        "    # в цикле пройдемся по данным\n",
        "    for i in range(len(X)):\n",
        "\n",
        "      # вычислим значения числителя и знаменателя по формуле выше\n",
        "      numerator += (X[i] - X_mean) * (y[i] - y_mean)\n",
        "      denominator += (X[i] - X_mean) ** 2\n",
        "\n",
        "    # найдем наклон и сдвиг\n",
        "    slope_ = numerator / denominator\n",
        "    intercept_ = y_mean - slope_ * X_mean\n",
        "\n",
        "    # сохраним получившиеся коэффициенты в виде атрибутов\n",
        "    self.slope_ = slope_\n",
        "    self.intercept_ = intercept_\n",
        "\n",
        "  # метод .predict() просто умножит через скалярное произведение\n",
        "  # вектор данных на наклон и прибавит сдвиг\n",
        "  def predict(self, X):\n",
        "    # на выходе мы получим вектор прогнозных значений\n",
        "    return np.dot(self.slope_, X) + self.intercept_\n",
        "\n",
        "  # служебный метод: расчет среднего\n",
        "  def find_mean(self, nums):\n",
        "    return sum(nums) / len(nums)"
      ]
    },
    {
      "cell_type": "code",
      "execution_count": null,
      "metadata": {
        "id": "SO7OMSo0E3K7"
      },
      "outputs": [],
      "source": [
        "# создадим объект класса SimpleLinearRegression\n",
        "model = SimpleLinearRegression()"
      ]
    },
    {
      "cell_type": "code",
      "execution_count": null,
      "metadata": {
        "colab": {
          "base_uri": "https://localhost:8080/"
        },
        "id": "g27k4R8dE8mo",
        "outputId": "924fdca1-4b94-41f0-e550-330c37f898f9"
      },
      "outputs": [
        {
          "data": {
            "text/plain": [
              "(26.861812005569757, -10.570936299787334)"
            ]
          },
          "execution_count": 63,
          "metadata": {},
          "output_type": "execute_result"
        }
      ],
      "source": [
        "# применим метод .fit()\n",
        "model.fit(X, y)\n",
        "\n",
        "# посмотрим на коэффициенты\n",
        "model.slope_, model.intercept_"
      ]
    },
    {
      "cell_type": "code",
      "execution_count": null,
      "metadata": {
        "colab": {
          "base_uri": "https://localhost:8080/"
        },
        "id": "FgvjnZG9F_rA",
        "outputId": "9d946490-fadf-46fe-f304-6e8a898570da"
      },
      "outputs": [
        {
          "data": {
            "text/plain": [
              "array([29.18454547, 29.45316359, 29.45316359, 29.72178171, 29.99039983])"
            ]
          },
          "execution_count": 64,
          "metadata": {},
          "output_type": "execute_result"
        }
      ],
      "source": [
        "# сделаем прогноз через .predict()\n",
        "y_pred = model.predict(X)\n",
        "\n",
        "# и выведем первые пять коэффициентов\n",
        "y_pred[:5]"
      ]
    },
    {
      "cell_type": "code",
      "execution_count": null,
      "metadata": {
        "id": "_7yI2OfQHJUe"
      },
      "outputs": [],
      "source": []
    }
  ],
  "metadata": {
    "colab": {
      "provenance": [],
      "toc_visible": true
    },
    "kernelspec": {
      "display_name": "Python 3",
      "name": "python3"
    },
    "language_info": {
      "name": "python"
    }
  },
  "nbformat": 4,
  "nbformat_minor": 0
}

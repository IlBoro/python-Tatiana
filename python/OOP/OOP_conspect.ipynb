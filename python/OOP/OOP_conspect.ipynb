{
  "nbformat": 4,
  "nbformat_minor": 0,
  "metadata": {
    "colab": {
      "provenance": [],
      "toc_visible": true
    },
    "kernelspec": {
      "name": "python3",
      "display_name": "Python 3"
    },
    "language_info": {
      "name": "python"
    }
  },
  "cells": [
    {
      "cell_type": "markdown",
      "metadata": {
        "id": "0AoPSXyUTTLc"
      },
      "source": [
        "## Классы и объекты в Питоне"
      ]
    },
    {
      "cell_type": "markdown",
      "metadata": {
        "id": "lIM5gFo4TbUg"
      },
      "source": [
        "### Создание класса"
      ]
    },
    {
      "cell_type": "markdown",
      "source": [
        "#### Создание класса и метод `.__init__()`"
      ],
      "metadata": {
        "id": "RROZUPzwm4rK"
      }
    },
    {
      "cell_type": "code",
      "source": [
        "# создадим класс CatClass\n",
        "class CatClass:\n",
        "\n",
        "  # и пропишем метод .__init__()\n",
        "  def __init__(self):\n",
        "    pass"
      ],
      "metadata": {
        "id": "QGswhMFMno7-"
      },
      "execution_count": null,
      "outputs": []
    },
    {
      "cell_type": "markdown",
      "source": [
        "#### Создание объекта"
      ],
      "metadata": {
        "id": "qIIzZD65n1Mh"
      }
    },
    {
      "cell_type": "code",
      "source": [
        "# создадим объект Matroskin класса CatClass\n",
        "Matroskin = CatClass()\n",
        "\n",
        "# проверим тип данных созданной переменной\n",
        "type(Matroskin)"
      ],
      "metadata": {
        "colab": {
          "base_uri": "https://localhost:8080/",
          "height": 104
        },
        "id": "pERZ4ZQonsJB",
        "outputId": "98ba6678-a996-48ad-9d13-78deffb6a88a"
      },
      "execution_count": null,
      "outputs": [
        {
          "output_type": "execute_result",
          "data": {
            "text/plain": [
              "__main__.CatClass"
            ],
            "text/html": [
              "<div style=\"max-width:800px; border: 1px solid var(--colab-border-color);\"><style>\n",
              "      pre.function-repr-contents {\n",
              "        overflow-x: auto;\n",
              "        padding: 8px 12px;\n",
              "        max-height: 500px;\n",
              "      }\n",
              "\n",
              "      pre.function-repr-contents.function-repr-contents-collapsed {\n",
              "        cursor: pointer;\n",
              "        max-height: 100px;\n",
              "      }\n",
              "    </style>\n",
              "    <pre style=\"white-space: initial; background:\n",
              "         var(--colab-secondary-surface-color); padding: 8px 12px;\n",
              "         border-bottom: 1px solid var(--colab-border-color);\"><b>CatClass</b><br/>def __init__()</pre><pre class=\"function-repr-contents function-repr-contents-collapsed\" style=\"\"><a class=\"filepath\" style=\"display:none\" href=\"#\"></a>&lt;no docstring&gt;</pre></div>"
            ]
          },
          "metadata": {},
          "execution_count": 2
        }
      ]
    },
    {
      "cell_type": "markdown",
      "source": [
        "#### Атрибуты класса"
      ],
      "metadata": {
        "id": "1DUEgzmJn6_h"
      }
    },
    {
      "cell_type": "code",
      "metadata": {
        "id": "0mQE6dKcwIjD"
      },
      "source": [
        "# вновь создадим класс CatClass\n",
        "class CatClass:\n",
        "\n",
        "  # метод .__init__() на этот раз принимает еще и параметр color\n",
        "  def __init__(self, color):\n",
        "\n",
        "    # этот параметр будет записан в переменную атрибута self.color\n",
        "    self.color = color\n",
        "\n",
        "    # значение атрибута type_ задается внутри класса\n",
        "    self.type_ = 'cat'"
      ],
      "execution_count": null,
      "outputs": []
    },
    {
      "cell_type": "code",
      "source": [
        "# повторно создадим объект класса CatClass, передав ему параметр цвета шерсти\n",
        "Matroskin = CatClass('gray')\n",
        "\n",
        "# и выведем атрибуты класса\n",
        "Matroskin.color, Matroskin.type_"
      ],
      "metadata": {
        "colab": {
          "base_uri": "https://localhost:8080/"
        },
        "id": "CXFmjySeEJ59",
        "outputId": "f8935acf-e444-4a39-f0dc-b0309c00b3c8"
      },
      "execution_count": null,
      "outputs": [
        {
          "output_type": "execute_result",
          "data": {
            "text/plain": [
              "('gray', 'cat')"
            ]
          },
          "metadata": {},
          "execution_count": 5
        }
      ]
    },
    {
      "cell_type": "markdown",
      "source": [
        "#### Методы класса"
      ],
      "metadata": {
        "id": "lm6DQjYEWR-M"
      }
    },
    {
      "cell_type": "code",
      "source": [
        "# перепишем класс CatClass\n",
        "class CatClass:\n",
        "\n",
        "  # метод .__init__() и атрибуты оставим без изменений\n",
        "  def __init__(self, color):\n",
        "    self.color = color\n",
        "    self.type_ = 'cat'\n",
        "\n",
        "  # однако добавим метод, который позволит коту мяукать\n",
        "  def meow(self):\n",
        "    for i in range(3):\n",
        "      print('Мяу')\n",
        "\n",
        "  # и метод .info() для вывода информации об объекте\n",
        "  def info(self):\n",
        "    print(self.color, self.type_)"
      ],
      "metadata": {
        "id": "KYAGXaEaWXGt"
      },
      "execution_count": null,
      "outputs": []
    },
    {
      "cell_type": "code",
      "source": [
        "# создадим объект\n",
        "Matroskin = CatClass('gray')"
      ],
      "metadata": {
        "id": "pwOtF86Na8Tm"
      },
      "execution_count": null,
      "outputs": []
    },
    {
      "cell_type": "code",
      "source": [
        "# применим метод .meow()\n",
        "Matroskin.meow()"
      ],
      "metadata": {
        "colab": {
          "base_uri": "https://localhost:8080/"
        },
        "id": "5wKGe_KEcq9C",
        "outputId": "50eb751d-e4e9-46d6-d713-1994812b18ad"
      },
      "execution_count": null,
      "outputs": [
        {
          "output_type": "stream",
          "name": "stdout",
          "text": [
            "Мяу\n",
            "Мяу\n",
            "Мяу\n"
          ]
        }
      ]
    },
    {
      "cell_type": "code",
      "source": [
        "# и метод .info()\n",
        "Matroskin.info()"
      ],
      "metadata": {
        "colab": {
          "base_uri": "https://localhost:8080/"
        },
        "id": "01l4yJA17k9d",
        "outputId": "fbb14fc5-1d0a-4e66-b113-493c11ebb790"
      },
      "execution_count": null,
      "outputs": [
        {
          "output_type": "stream",
          "name": "stdout",
          "text": [
            "gray cat\n"
          ]
        }
      ]
    },
    {
      "cell_type": "markdown",
      "source": [
        "### Принципы ООП"
      ],
      "metadata": {
        "id": "7o5fPMtonH0V"
      }
    },
    {
      "cell_type": "markdown",
      "source": [
        "#### Инкапсуляция"
      ],
      "metadata": {
        "id": "LG0BiM5PgxYR"
      }
    },
    {
      "cell_type": "code",
      "source": [
        "# изменим атрибут type_ объекта Matroskin на dog\n",
        "Matroskin.type_ = 'dog'\n",
        "\n",
        "# выведем этот атрибут\n",
        "Matroskin.type_"
      ],
      "metadata": {
        "colab": {
          "base_uri": "https://localhost:8080/",
          "height": 35
        },
        "id": "X0HiYZq0Rmnd",
        "outputId": "680f7213-abb6-4dd0-d414-442d450b6332"
      },
      "execution_count": null,
      "outputs": [
        {
          "output_type": "execute_result",
          "data": {
            "text/plain": [
              "'dog'"
            ],
            "application/vnd.google.colaboratory.intrinsic+json": {
              "type": "string"
            }
          },
          "metadata": {},
          "execution_count": 10
        }
      ]
    },
    {
      "cell_type": "code",
      "source": [
        "class CatClass:\n",
        "\n",
        "  def __init__(self, color):\n",
        "    self.color = color\n",
        "    # символ подчеркивания ПЕРЕД названием атрибута указывает,\n",
        "    # что это частный атрибут и изменять его не стоит\n",
        "    self._type_ = 'cat'"
      ],
      "metadata": {
        "id": "_Un9fShyWILH"
      },
      "execution_count": null,
      "outputs": []
    },
    {
      "cell_type": "code",
      "source": [
        "# вновь создадим объект класса CatClass\n",
        "Matroskin = CatClass('gray')\n",
        "\n",
        "# и изменим значение атрибута _type_\n",
        "Matroskin._type_ = 'dog'\n",
        "Matroskin._type_"
      ],
      "metadata": {
        "colab": {
          "base_uri": "https://localhost:8080/",
          "height": 35
        },
        "id": "YmpfrLukW4sm",
        "outputId": "6f113919-796f-44ec-f329-f02a7959dabd"
      },
      "execution_count": null,
      "outputs": [
        {
          "output_type": "execute_result",
          "data": {
            "text/plain": [
              "'dog'"
            ],
            "application/vnd.google.colaboratory.intrinsic+json": {
              "type": "string"
            }
          },
          "metadata": {},
          "execution_count": 12
        }
      ]
    },
    {
      "cell_type": "code",
      "source": [
        "class CatClass:\n",
        "\n",
        "  def __init__(self, color):\n",
        "    self.color = color\n",
        "    # символ двойного подчеркивания предотвратит доступ извне\n",
        "    self.__type_ = 'cat'"
      ],
      "metadata": {
        "id": "GqU88qogZ8_B"
      },
      "execution_count": null,
      "outputs": []
    },
    {
      "cell_type": "code",
      "source": [
        "# при попытке вызова такого атрибута Питон выдаст ошибку\n",
        "Matroskin = CatClass('gray')\n",
        "# Matroskin.__type_"
      ],
      "metadata": {
        "id": "2O1GUso6aG4C"
      },
      "execution_count": null,
      "outputs": []
    },
    {
      "cell_type": "code",
      "source": [
        "# поставим _CatClass перед __type_\n",
        "Matroskin._CatClass__type_ = 'dog'\n",
        "\n",
        "# к сожалению, значение атрибута изменится\n",
        "Matroskin._CatClass__type_"
      ],
      "metadata": {
        "colab": {
          "base_uri": "https://localhost:8080/",
          "height": 35
        },
        "id": "gqsNNuRiaHBr",
        "outputId": "290aad23-9ff7-4dee-c3f5-03ea385f54e3"
      },
      "execution_count": null,
      "outputs": [
        {
          "output_type": "execute_result",
          "data": {
            "text/plain": [
              "'dog'"
            ],
            "application/vnd.google.colaboratory.intrinsic+json": {
              "type": "string"
            }
          },
          "metadata": {},
          "execution_count": 15
        }
      ]
    },
    {
      "cell_type": "markdown",
      "source": [
        "#### Наследование классов"
      ],
      "metadata": {
        "id": "33PlUWogG2HN"
      }
    },
    {
      "cell_type": "markdown",
      "source": [
        "Создание родительского класса и класса-потомка"
      ],
      "metadata": {
        "id": "e-NaY_Yd4l5h"
      }
    },
    {
      "cell_type": "code",
      "source": [
        "# создадим класс Animal\n",
        "class Animal:\n",
        "\n",
        "  # пропишем метод .__init__() с двумя параметрами: вес (кг) и длина (см)\n",
        "  def __init__(self, weight, length):\n",
        "\n",
        "    # поместим аргументы этих параметров в соответствующие переменные\n",
        "    self.weight = weight\n",
        "    self.length = length\n",
        "\n",
        "  # объявим методы .eat()\n",
        "  def eat(self):\n",
        "    print('Eating')\n",
        "\n",
        "  # и .sleep()\n",
        "  def sleep(self):\n",
        "    print('Sleeping')"
      ],
      "metadata": {
        "id": "HS-07E-6Vc6Q"
      },
      "execution_count": null,
      "outputs": []
    },
    {
      "cell_type": "code",
      "source": [
        "# создадим класс Bird\n",
        "# родительский класс Animal пропишем в скобках\n",
        "class Bird(Animal):\n",
        "\n",
        "  # внутри класса Bird объявим новый метод .move()\n",
        "  def move(self):\n",
        "\n",
        "    # для птиц .move() будет означать \"летать\"\n",
        "    print('Flying')"
      ],
      "metadata": {
        "id": "lABQGZSoCF0Y"
      },
      "execution_count": null,
      "outputs": []
    },
    {
      "cell_type": "code",
      "source": [
        "# создадим объект pigeon и передадим ему значения веса и длины\n",
        "pigeon = Bird(0.3, 30)"
      ],
      "metadata": {
        "id": "RzdouKGtCQMP"
      },
      "execution_count": null,
      "outputs": []
    },
    {
      "cell_type": "code",
      "source": [
        "# посмотрим на унаследованные у класса Animal атрибуты\n",
        "pigeon.weight, pigeon.length"
      ],
      "metadata": {
        "colab": {
          "base_uri": "https://localhost:8080/"
        },
        "id": "YGwcXdjWCcDd",
        "outputId": "a7a492f8-646a-4355-e6d2-2fc75d22ed00"
      },
      "execution_count": null,
      "outputs": [
        {
          "output_type": "execute_result",
          "data": {
            "text/plain": [
              "(0.3, 30)"
            ]
          },
          "metadata": {},
          "execution_count": 19
        }
      ]
    },
    {
      "cell_type": "code",
      "source": [
        "# и методы\n",
        "pigeon.eat()"
      ],
      "metadata": {
        "colab": {
          "base_uri": "https://localhost:8080/"
        },
        "id": "8wX-Bo_fCcP7",
        "outputId": "87e1fa2b-b0e5-4c32-fd51-9caf21d1a222"
      },
      "execution_count": null,
      "outputs": [
        {
          "output_type": "stream",
          "name": "stdout",
          "text": [
            "Eating\n"
          ]
        }
      ]
    },
    {
      "cell_type": "code",
      "source": [
        "# теперь вызовем метод, свойственный только классу Bird\n",
        "pigeon.move()"
      ],
      "metadata": {
        "colab": {
          "base_uri": "https://localhost:8080/"
        },
        "id": "d6HH0FwrCw90",
        "outputId": "024e64d8-1e6b-450c-c4b7-f00e3f8d8f84"
      },
      "execution_count": null,
      "outputs": [
        {
          "output_type": "stream",
          "name": "stdout",
          "text": [
            "Flying\n"
          ]
        }
      ]
    },
    {
      "cell_type": "markdown",
      "source": [
        "Функция `super()`"
      ],
      "metadata": {
        "id": "z9yL5WN2C_Qi"
      }
    },
    {
      "cell_type": "code",
      "source": [
        "# снова создадим класс Bird\n",
        "class Bird(Animal):\n",
        "\n",
        "  # в метод .__init__() добавим параметр скорости полета (км/ч)\n",
        "  def __init__(self, weight, length, flying_speed):\n",
        "\n",
        "    # с помощью функции super() вызовем метод .__init__() родительского класса Animal\n",
        "    super().__init__(weight, length)\n",
        "    self.flying_speed = flying_speed\n",
        "\n",
        "  # вновь пропишем метод .move()\n",
        "  def move(self):\n",
        "    print('Flying')"
      ],
      "metadata": {
        "id": "JYzIVcZrVc9W"
      },
      "execution_count": null,
      "outputs": []
    },
    {
      "cell_type": "code",
      "source": [
        "# вновь создадим объект pigeon класса Bird, но уже с тремя параметрами\n",
        "pigeon = Bird(0.3, 30, 100)"
      ],
      "metadata": {
        "id": "cwu9N5Q0VdAO"
      },
      "execution_count": null,
      "outputs": []
    },
    {
      "cell_type": "code",
      "source": [
        "# вызовем как унаследованные, так и собственные атрибуты класса Bird\n",
        "pigeon.weight, pigeon.length, pigeon.flying_speed"
      ],
      "metadata": {
        "colab": {
          "base_uri": "https://localhost:8080/"
        },
        "id": "WfcbSzlf6Ao_",
        "outputId": "984059b7-02cb-450e-acb3-bee19295289e"
      },
      "execution_count": null,
      "outputs": [
        {
          "output_type": "execute_result",
          "data": {
            "text/plain": [
              "(0.3, 30, 100)"
            ]
          },
          "metadata": {},
          "execution_count": 24
        }
      ]
    },
    {
      "cell_type": "code",
      "source": [
        "# вызовем унаследованный метод .sleep()\n",
        "pigeon.sleep()"
      ],
      "metadata": {
        "colab": {
          "base_uri": "https://localhost:8080/"
        },
        "id": "230dmrRP4ZZE",
        "outputId": "d9a50f2e-5f9e-4cf0-93e7-bbc0022e99c5"
      },
      "execution_count": null,
      "outputs": [
        {
          "output_type": "stream",
          "name": "stdout",
          "text": [
            "Sleeping\n"
          ]
        }
      ]
    },
    {
      "cell_type": "code",
      "source": [
        "# и собственный метод .move()\n",
        "pigeon.move()"
      ],
      "metadata": {
        "colab": {
          "base_uri": "https://localhost:8080/"
        },
        "id": "spaGz6VV4g_m",
        "outputId": "ebb8b7d7-85df-4d6c-fa29-1c260aee07a0"
      },
      "execution_count": null,
      "outputs": [
        {
          "output_type": "stream",
          "name": "stdout",
          "text": [
            "Flying\n"
          ]
        }
      ]
    },
    {
      "cell_type": "markdown",
      "source": [
        "Переопределение класса"
      ],
      "metadata": {
        "id": "qmOoUK4R5D-f"
      }
    },
    {
      "cell_type": "code",
      "source": [
        "# создадим подкласс Flightless класса Bird\n",
        "class Flightless(Bird):\n",
        "\n",
        "  # метод .__init__() этого подкласса \"стирает\" .__init__() родительского класса\n",
        "  def __init__(self, running_speed):\n",
        "\n",
        "    # таким образом, у нас остается только один атрибут\n",
        "    self.running_speed = running_speed\n",
        "\n",
        "  # кроме того, результатом метода .move() будет 'Running'\n",
        "  def move(self):\n",
        "    print('Running')"
      ],
      "metadata": {
        "id": "7EFREoZb4kE6"
      },
      "execution_count": null,
      "outputs": []
    },
    {
      "cell_type": "code",
      "source": [
        "# создадим объект ostrich класса Flightless\n",
        "ostrich = Flightless(60)"
      ],
      "metadata": {
        "id": "lb8QJKEN4kKh"
      },
      "execution_count": null,
      "outputs": []
    },
    {
      "cell_type": "code",
      "source": [
        "# посмотрим на значение атрбута скорости\n",
        "ostrich.running_speed"
      ],
      "metadata": {
        "colab": {
          "base_uri": "https://localhost:8080/"
        },
        "id": "AoTdJFjw4kNn",
        "outputId": "3a1a39d7-fc2a-4351-bb12-9c338567257b"
      },
      "execution_count": null,
      "outputs": [
        {
          "output_type": "execute_result",
          "data": {
            "text/plain": [
              "60"
            ]
          },
          "metadata": {},
          "execution_count": 30
        }
      ]
    },
    {
      "cell_type": "code",
      "source": [
        "# и проверим метод .move()\n",
        "ostrich.move()"
      ],
      "metadata": {
        "colab": {
          "base_uri": "https://localhost:8080/"
        },
        "id": "PledBnHF4kQ3",
        "outputId": "0d791ed0-40cc-451d-8f1a-f708e36593fd"
      },
      "execution_count": null,
      "outputs": [
        {
          "output_type": "stream",
          "name": "stdout",
          "text": [
            "Running\n"
          ]
        }
      ]
    },
    {
      "cell_type": "code",
      "source": [
        "# подкласс Flightless сохранил методы всех родительских классов\n",
        "ostrich.eat()"
      ],
      "metadata": {
        "colab": {
          "base_uri": "https://localhost:8080/"
        },
        "id": "7oBZyEcG797e",
        "outputId": "066e5b32-13fc-4186-df9c-5322716ce16d"
      },
      "execution_count": null,
      "outputs": [
        {
          "output_type": "stream",
          "name": "stdout",
          "text": [
            "Eating\n"
          ]
        }
      ]
    },
    {
      "cell_type": "markdown",
      "source": [
        "Множественное наследование"
      ],
      "metadata": {
        "id": "BW2xaOeB9PDk"
      }
    },
    {
      "cell_type": "code",
      "source": [
        "# создадим родительский класс Fish\n",
        "class Fish:\n",
        "\n",
        "  # и метод .swim()\n",
        "  def swim(self):\n",
        "    print('Swimming')"
      ],
      "metadata": {
        "id": "jA-Aj_z49RYk"
      },
      "execution_count": null,
      "outputs": []
    },
    {
      "cell_type": "code",
      "source": [
        "# и еще один родительский класс Bird\n",
        "class Bird:\n",
        "\n",
        "  # и метод .fly()\n",
        "  def fly(self):\n",
        "    print('Flying')"
      ],
      "metadata": {
        "id": "CN-A0F2D9RSC"
      },
      "execution_count": null,
      "outputs": []
    },
    {
      "cell_type": "code",
      "source": [
        "# теперь создадим класс-потомок этих двух классов\n",
        "class SwimmingBird(Bird, Fish):\n",
        "  pass"
      ],
      "metadata": {
        "id": "udTUUUr0HKkB"
      },
      "execution_count": null,
      "outputs": []
    },
    {
      "cell_type": "code",
      "source": [
        "# создадим объект duck класса SwimmingBird\n",
        "duck = SwimmingBird()"
      ],
      "metadata": {
        "id": "7SfYHQItHe9I"
      },
      "execution_count": null,
      "outputs": []
    },
    {
      "cell_type": "code",
      "source": [
        "# как мы видим утка умеет как летать,\n",
        "duck.fly()"
      ],
      "metadata": {
        "colab": {
          "base_uri": "https://localhost:8080/"
        },
        "id": "xogM-VUMHrd0",
        "outputId": "280ead96-86c0-4dc0-ef55-e6e7d4556cdb"
      },
      "execution_count": null,
      "outputs": [
        {
          "output_type": "stream",
          "name": "stdout",
          "text": [
            "Flying\n"
          ]
        }
      ]
    },
    {
      "cell_type": "code",
      "source": [
        "# так и плавать\n",
        "duck.swim()"
      ],
      "metadata": {
        "colab": {
          "base_uri": "https://localhost:8080/"
        },
        "id": "lHZ6WVWQJmVi",
        "outputId": "4137c2cf-2c5d-44da-836d-6de609ae8607"
      },
      "execution_count": null,
      "outputs": [
        {
          "output_type": "stream",
          "name": "stdout",
          "text": [
            "Swimming\n"
          ]
        }
      ]
    },
    {
      "cell_type": "markdown",
      "source": [
        "#### Полиморфизм"
      ],
      "metadata": {
        "id": "ruBf2MpEiN-9"
      }
    },
    {
      "cell_type": "code",
      "source": [
        "# для чисел '+' является оператором сложения\n",
        "2 + 2"
      ],
      "metadata": {
        "colab": {
          "base_uri": "https://localhost:8080/"
        },
        "id": "57k1y3vHzS2Q",
        "outputId": "d18b2163-e1aa-43a8-f07c-977ecf8f17a8"
      },
      "execution_count": null,
      "outputs": [
        {
          "output_type": "execute_result",
          "data": {
            "text/plain": [
              "4"
            ]
          },
          "metadata": {},
          "execution_count": 39
        }
      ]
    },
    {
      "cell_type": "code",
      "source": [
        "# для строк - оператором объединения\n",
        "'классы' + ' и ' + 'объекты'"
      ],
      "metadata": {
        "colab": {
          "base_uri": "https://localhost:8080/",
          "height": 35
        },
        "id": "XFkxRUt2zTFb",
        "outputId": "3c53f266-64a7-4472-adaa-9859de7f2551"
      },
      "execution_count": null,
      "outputs": [
        {
          "output_type": "execute_result",
          "data": {
            "text/plain": [
              "'классы и объекты'"
            ],
            "application/vnd.google.colaboratory.intrinsic+json": {
              "type": "string"
            }
          },
          "metadata": {},
          "execution_count": 40
        }
      ]
    },
    {
      "cell_type": "markdown",
      "source": [
        "1. Полиморфизм функций"
      ],
      "metadata": {
        "id": "syQy4yvkiRUN"
      }
    },
    {
      "cell_type": "code",
      "source": [
        "# функцию len() можно применить к строке\n",
        "len('Программирование на Питоне')"
      ],
      "metadata": {
        "id": "T23-llHTiTY2",
        "colab": {
          "base_uri": "https://localhost:8080/"
        },
        "outputId": "5ca4d58b-e6a5-4c3a-fbee-5febdd01ea40"
      },
      "execution_count": null,
      "outputs": [
        {
          "output_type": "execute_result",
          "data": {
            "text/plain": [
              "26"
            ]
          },
          "metadata": {},
          "execution_count": 41
        }
      ]
    },
    {
      "cell_type": "code",
      "source": [
        "# кроме того, она способна работать со списком\n",
        "len(['Программирование', 'на', 'Питоне'])"
      ],
      "metadata": {
        "colab": {
          "base_uri": "https://localhost:8080/"
        },
        "id": "CbWOFs8wqLKZ",
        "outputId": "1634933b-bd83-4320-c90f-8372bc013748"
      },
      "execution_count": null,
      "outputs": [
        {
          "output_type": "execute_result",
          "data": {
            "text/plain": [
              "3"
            ]
          },
          "metadata": {},
          "execution_count": 42
        }
      ]
    },
    {
      "cell_type": "code",
      "source": [
        "# словарем\n",
        "len({0 : 'Программирование', 1 : 'на', 2 : 'Питоне'})"
      ],
      "metadata": {
        "colab": {
          "base_uri": "https://localhost:8080/"
        },
        "id": "l03mggVpqLPx",
        "outputId": "becb35d7-43b5-4a31-d8da-3228c9788b1d"
      },
      "execution_count": null,
      "outputs": [
        {
          "output_type": "execute_result",
          "data": {
            "text/plain": [
              "3"
            ]
          },
          "metadata": {},
          "execution_count": 43
        }
      ]
    },
    {
      "cell_type": "code",
      "source": [
        "# массивом Numpy и другими объектами\n",
        "import numpy as np\n",
        "len(np.array([1, 2, 3]))"
      ],
      "metadata": {
        "colab": {
          "base_uri": "https://localhost:8080/"
        },
        "id": "EAvsld8Zr6eK",
        "outputId": "198df525-cf06-4953-c4f7-ff04d2e3147e"
      },
      "execution_count": null,
      "outputs": [
        {
          "output_type": "execute_result",
          "data": {
            "text/plain": [
              "3"
            ]
          },
          "metadata": {},
          "execution_count": 44
        }
      ]
    },
    {
      "cell_type": "markdown",
      "source": [
        "2. Полиморфизм классов"
      ],
      "metadata": {
        "id": "03fAyPjYiUD-"
      }
    },
    {
      "cell_type": "markdown",
      "source": [
        "Создадим объекты с одинаковыми атрибутами и методами"
      ],
      "metadata": {
        "id": "Q2JI2sNo_rJ4"
      }
    },
    {
      "cell_type": "code",
      "source": [
        "# создадим класс котов\n",
        "class CatClass:\n",
        "\n",
        "  # определим атрибуты клички, типа и цвета шерсти\n",
        "  def __init__(self, name, color):\n",
        "    self.name = name\n",
        "    self._type_ = 'кот'\n",
        "    self.color = color\n",
        "\n",
        "  # создадим метод .info() для вывода этих атрибутов\n",
        "  def info(self):\n",
        "    print(f'Меня зовут {self.name}, я {self._type_}, цвет моей шерсти {self.color}')\n",
        "\n",
        "  # и метод .sound(), показывающий, что коты умеют мяукать\n",
        "  def sound(self):\n",
        "    print('Я умею мяукать')"
      ],
      "metadata": {
        "id": "JexRqp8IiTig"
      },
      "execution_count": null,
      "outputs": []
    },
    {
      "cell_type": "code",
      "source": [
        "# создадим класс собак\n",
        "class DogClass:\n",
        "\n",
        "  # с такими же атрибутами\n",
        "  def __init__(self, name, color):\n",
        "    self.name = name\n",
        "    self._type_ = 'пес'\n",
        "    self.color = color\n",
        "\n",
        "  # и методами\n",
        "  def info(self):\n",
        "    print(f'Меня зовут {self.name}, я {self._type_}, цвет моей шерсти {self.color}')\n",
        "\n",
        "  # хотя, обратите внимание, действия внутри методов отличаются\n",
        "  def sound(self):\n",
        "    print('Я умею лаять')"
      ],
      "metadata": {
        "id": "PEyzqo1qBxhZ"
      },
      "execution_count": null,
      "outputs": []
    },
    {
      "cell_type": "markdown",
      "source": [
        "Создадим объекты этих классов"
      ],
      "metadata": {
        "id": "yxdVCLs7_vGV"
      }
    },
    {
      "cell_type": "code",
      "source": [
        "cat = CatClass('Бегемот', 'черный')\n",
        "dog = DogClass('Барбос', 'серый')"
      ],
      "metadata": {
        "id": "j5TO6c1aAHRV"
      },
      "execution_count": null,
      "outputs": []
    },
    {
      "cell_type": "markdown",
      "source": [
        "В цикле `for` вызовем атрибуты и методы каждого из классов"
      ],
      "metadata": {
        "id": "In29ldkK_9aa"
      }
    },
    {
      "cell_type": "code",
      "source": [
        "for animal in (cat, dog):\n",
        "  animal.info()\n",
        "  animal.sound()\n",
        "  print()"
      ],
      "metadata": {
        "colab": {
          "base_uri": "https://localhost:8080/"
        },
        "id": "5xvyicz0AGyU",
        "outputId": "d132ac87-ba33-4d72-c9ca-33e6d30450e6"
      },
      "execution_count": null,
      "outputs": [
        {
          "output_type": "stream",
          "name": "stdout",
          "text": [
            "Меня зовут Бегемот, я кот, цвет моей шерсти черный\n",
            "Я умею мяукать\n",
            "\n",
            "Меня зовут Барбос, я пес, цвет моей шерсти серый\n",
            "Я умею лаять\n",
            "\n"
          ]
        }
      ]
    },
    {
      "cell_type": "markdown",
      "source": [
        "### Парадигмы программирования"
      ],
      "metadata": {
        "id": "UhIuTZgpjK-n"
      }
    },
    {
      "cell_type": "code",
      "source": [
        "patients = [{'name': 'Николай', 'height': 178},\n",
        "            {'name': 'Иван', 'height': 182},\n",
        "            {'name': 'Алексей', 'height': 190}]"
      ],
      "metadata": {
        "id": "D329DnitlFFM"
      },
      "execution_count": null,
      "outputs": []
    },
    {
      "cell_type": "markdown",
      "source": [
        "#### Процедурное программирование"
      ],
      "metadata": {
        "id": "SakiQ8b0jQb5"
      }
    },
    {
      "cell_type": "code",
      "source": [
        "# создадим переменные для общего роста и количества пациентов\n",
        "total, count = 0, 0\n",
        "\n",
        "# в цикле for пройдемся по пациентам (отдельным словарям)\n",
        "for patient in patients:\n",
        "  # достанем значение роста и прибавим к текущему значению переменной total\n",
        "  total += patient['height']\n",
        "  # на каждой итерации будем увеличивать счетчик пациентов на один\n",
        "  count += 1\n",
        "\n",
        "# разделим общий рост на количество пациентов,\n",
        "# чтобы получить среднее значение\n",
        "total / count"
      ],
      "metadata": {
        "colab": {
          "base_uri": "https://localhost:8080/"
        },
        "id": "fMwt8bYhjVG0",
        "outputId": "b212e292-867f-4dd1-a9b4-3d4a1c8ee0a1"
      },
      "execution_count": null,
      "outputs": [
        {
          "output_type": "execute_result",
          "data": {
            "text/plain": [
              "183.33333333333334"
            ]
          },
          "metadata": {},
          "execution_count": 50
        }
      ]
    },
    {
      "cell_type": "markdown",
      "source": [
        "#### Объектно-ориентированное программирование"
      ],
      "metadata": {
        "id": "pdLaSjb-jV1y"
      }
    },
    {
      "cell_type": "code",
      "source": [
        "# создадим класс для работы с данными DataClass\n",
        "class DataClass:\n",
        "\n",
        "  # при создании объекта будем передавать ему данные для анализа\n",
        "  def __init__(self, data):\n",
        "    self.data = data\n",
        "\n",
        "  # кроме того, создадим метод для расчета среднего значения\n",
        "  def count_average(self, metric):\n",
        "\n",
        "    # параметр metric определит, по какому столбцу считать среднее\n",
        "    self.metric = metric\n",
        "\n",
        "    # объявим два частных атрибута\n",
        "    self.__total = 0\n",
        "    self.__count = 0\n",
        "\n",
        "    # в цикле for пройдемся по списку словарей\n",
        "    for item in self.data:\n",
        "\n",
        "      # рассчитем общую сумму по указанному в metric\n",
        "      # значению каждого словаря\n",
        "      self.__total += item[self.metric]\n",
        "\n",
        "      # и количество таких записей\n",
        "      self.__count += 1\n",
        "\n",
        "    # разделим общую сумму показателя на количество записей\n",
        "    return self.__total / self.__count"
      ],
      "metadata": {
        "id": "7OKHNVZHjiTu"
      },
      "execution_count": null,
      "outputs": []
    },
    {
      "cell_type": "code",
      "source": [
        "# создадим объект класса DataClass и передадим ему данные о пациентах\n",
        "data_object = DataClass(patients)\n",
        "\n",
        "# вызовем метод .count_average() с метрикой 'height'\n",
        "data_object.count_average('height')"
      ],
      "metadata": {
        "id": "CgiUFzkLjibJ",
        "colab": {
          "base_uri": "https://localhost:8080/"
        },
        "outputId": "e2221e08-90c9-4bb7-e57f-76cb678a1fc1"
      },
      "execution_count": null,
      "outputs": [
        {
          "output_type": "execute_result",
          "data": {
            "text/plain": [
              "183.33333333333334"
            ]
          },
          "metadata": {},
          "execution_count": 52
        }
      ]
    },
    {
      "cell_type": "markdown",
      "source": [
        "#### Функциональное программирование"
      ],
      "metadata": {
        "id": "oIzYzt3hji9O"
      }
    },
    {
      "cell_type": "markdown",
      "source": [
        "Функция map()"
      ],
      "metadata": {
        "id": "T7rvVdD9rU4a"
      }
    },
    {
      "cell_type": "code",
      "source": [
        "# lambda-функция достанет значение по ключу height\n",
        "# функция map() применит lambda-функцию к каждому вложенному в patients словарю\n",
        "# функция list() преобразует результат в список\n",
        "heights = list(map(lambda x: x['height'], patients))\n",
        "heights"
      ],
      "metadata": {
        "id": "5PT_4ZLfqqG0",
        "colab": {
          "base_uri": "https://localhost:8080/"
        },
        "outputId": "c586024d-c14a-4685-a5db-042ad98dcd40"
      },
      "execution_count": null,
      "outputs": [
        {
          "output_type": "execute_result",
          "data": {
            "text/plain": [
              "[178, 182, 190]"
            ]
          },
          "metadata": {},
          "execution_count": 53
        }
      ]
    },
    {
      "cell_type": "code",
      "source": [
        "# воспользуемся функциями sum() и len() для нахождения среднего значения\n",
        "sum(heights) / len(heights)"
      ],
      "metadata": {
        "colab": {
          "base_uri": "https://localhost:8080/"
        },
        "id": "Zr0R6ibHor5X",
        "outputId": "e93f4bc5-0237-46e5-fc33-25677f68be12"
      },
      "execution_count": null,
      "outputs": [
        {
          "output_type": "execute_result",
          "data": {
            "text/plain": [
              "183.33333333333334"
            ]
          },
          "metadata": {},
          "execution_count": 54
        }
      ]
    },
    {
      "cell_type": "markdown",
      "source": [
        "Функция einsum()"
      ],
      "metadata": {
        "id": "5WBvRwVxrXRg"
      }
    },
    {
      "cell_type": "code",
      "source": [
        "# возьмем два двумерных массива\n",
        "a = np.array([[0, 1, 2],\n",
        "              [3, 4, 5]])\n",
        "\n",
        "b = np.array([[5, 4],\n",
        "              [3, 2],\n",
        "              [1, 0]])"
      ],
      "metadata": {
        "id": "co4xTm4krdDn"
      },
      "execution_count": null,
      "outputs": []
    },
    {
      "cell_type": "code",
      "source": [
        "# перемножим a и b по индексу j через функцию np.einsum()\n",
        "np.einsum('ij, jk -> ik', a, b)"
      ],
      "metadata": {
        "colab": {
          "base_uri": "https://localhost:8080/"
        },
        "id": "D1U0EgomMX-6",
        "outputId": "41bfdec9-c0b0-4687-9e5f-b434e79981ef"
      },
      "execution_count": null,
      "outputs": [
        {
          "output_type": "execute_result",
          "data": {
            "text/plain": [
              "array([[ 5,  2],\n",
              "       [32, 20]])"
            ]
          },
          "metadata": {},
          "execution_count": 56
        }
      ]
    },
    {
      "cell_type": "markdown",
      "source": [
        "### Классы и объекты в машинном обучении"
      ],
      "metadata": {
        "id": "K3j3MzT6h70G"
      }
    },
    {
      "cell_type": "markdown",
      "source": [
        "#### Готовые классы в библиотеке sklearn"
      ],
      "metadata": {
        "id": "WFqBszMyiAdy"
      }
    },
    {
      "cell_type": "code",
      "source": [
        "# возьмем данные роста и обхвата шеи\n",
        "X = np.array([1.48, 1.49, 1.49, 1.50, 1.51, 1.52, 1.52, 1.53, 1.53, 1.54, 1.55, 1.56, 1.57, 1.57, 1.58, 1.58, 1.59, 1.60, 1.61, 1.62, 1.63, 1.64, 1.65, 1.65, 1.66, 1.67, 1.67, 1.68, 1.68,  1.69, 1.70, 1.70, 1.71, 1.71, 1.71, 1.74, 1.75, 1.76, 1.77, 1.77, 1.78])\n",
        "y = np.array([29.1, 30.0, 30.1, 30.2, 30.4, 30.6, 30.8, 30.9, 31.0, 30.6, 30.7, 30.9, 31.0, 31.2, 31.3, 32.0, 31.4, 31.9, 32.4, 32.8, 32.8, 33.3, 33.6, 33.0, 33.9, 33.8, 35.0, 34.5, 34.7, 34.6, 34.2, 34.8, 35.5, 36.0, 36.2, 36.3, 36.6, 36.8, 36.8, 37.0, 38.5])"
      ],
      "metadata": {
        "id": "VtVNV9EMiFcF"
      },
      "execution_count": null,
      "outputs": []
    },
    {
      "cell_type": "code",
      "source": [
        "# преобразуем данные роста в двумерный массив\n",
        "X_2D = X.reshape(-1, 1)"
      ],
      "metadata": {
        "id": "urkDTmJiGexS"
      },
      "execution_count": null,
      "outputs": []
    },
    {
      "cell_type": "code",
      "source": [
        "# из набора линейных моделей библиотеки sklearn импортируем линейную регрессию\n",
        "from sklearn.linear_model import LinearRegression\n",
        "\n",
        "# создадим объект этого класса и запишем в переменную model\n",
        "model = LinearRegression()\n",
        "\n",
        "# обучим модель с помощью метода .fit(), которому передадим наши данные\n",
        "model.fit(X_2D, y)\n",
        "\n",
        "# на выходе получим коэффициенты линейной регрессии\n",
        "model.coef_, model.intercept_"
      ],
      "metadata": {
        "colab": {
          "base_uri": "https://localhost:8080/"
        },
        "id": "Y_7E3d9EE2_e",
        "outputId": "0d9ca371-7503-4b0d-8091-9670ce1070f4"
      },
      "execution_count": null,
      "outputs": [
        {
          "output_type": "execute_result",
          "data": {
            "text/plain": [
              "(array([26.86181201]), -10.570936299787334)"
            ]
          },
          "metadata": {},
          "execution_count": 59
        }
      ]
    },
    {
      "cell_type": "code",
      "source": [
        "# построим прогноз и выведем первые пять значений\n",
        "y_pred = model.predict(X_2D)\n",
        "y_pred[:5]"
      ],
      "metadata": {
        "colab": {
          "base_uri": "https://localhost:8080/"
        },
        "id": "DAkn0YJd_xZM",
        "outputId": "46c0fdf2-881f-4780-aca8-220bc08676e8"
      },
      "execution_count": null,
      "outputs": [
        {
          "output_type": "execute_result",
          "data": {
            "text/plain": [
              "array([29.18454547, 29.45316359, 29.45316359, 29.72178171, 29.99039983])"
            ]
          },
          "metadata": {},
          "execution_count": 60
        }
      ]
    },
    {
      "cell_type": "markdown",
      "source": [
        "#### Пример ООП: собственный класс линейной регрессии"
      ],
      "metadata": {
        "id": "deNVn0YIJ9Lx"
      }
    },
    {
      "cell_type": "code",
      "source": [
        "# нашему классу понадобится Numpy\n",
        "import numpy as np\n",
        "\n",
        "# создадим класс SimpleLinearRegression\n",
        "class SimpleLinearRegression:\n",
        "\n",
        "  # в методе .__init__() объявим переменные наклона и сдвига\n",
        "  def __init__(self):\n",
        "    self.slope_ = None\n",
        "    self.intercept_ = None\n",
        "\n",
        "  # создадим метод .fit()\n",
        "  def fit(self, X, y):\n",
        "\n",
        "    # найдем среднее значение X и y\n",
        "    X_mean = self.find_mean(X)\n",
        "    y_mean = self.find_mean(y)\n",
        "\n",
        "    # объявим переменные для числителя и знаменателя\n",
        "    numerator, denominator = 0, 0\n",
        "\n",
        "    # в цикле пройдемся по данным\n",
        "    for i in range(len(X)):\n",
        "\n",
        "      # вычислим значения числителя и знаменателя по формуле выше\n",
        "      numerator += (X[i] - X_mean) * (y[i] - y_mean)\n",
        "      denominator += (X[i] - X_mean) ** 2\n",
        "\n",
        "    # найдем наклон и сдвиг\n",
        "    slope_ = numerator / denominator\n",
        "    intercept_ = y_mean - slope_ * X_mean\n",
        "\n",
        "    # сохраним получившиеся коэффициенты в виде атрибутов\n",
        "    self.slope_ = slope_\n",
        "    self.intercept_ = intercept_\n",
        "\n",
        "  # метод .predict() просто умножит через скалярное произведение\n",
        "  # вектор данных на наклон и прибавит сдвиг\n",
        "  def predict(self, X):\n",
        "    # на выходе мы получим вектор прогнозных значений\n",
        "    return np.dot(self.slope_, X) + self.intercept_\n",
        "\n",
        "  # служебный метод: расчет среднего\n",
        "  def find_mean(self, nums):\n",
        "    return sum(nums) / len(nums)"
      ],
      "metadata": {
        "id": "Fy55136VEDy9"
      },
      "execution_count": null,
      "outputs": []
    },
    {
      "cell_type": "code",
      "source": [
        "# создадим объект класса SimpleLinearRegression\n",
        "model = SimpleLinearRegression()"
      ],
      "metadata": {
        "id": "SO7OMSo0E3K7"
      },
      "execution_count": null,
      "outputs": []
    },
    {
      "cell_type": "code",
      "source": [
        "# применим метод .fit()\n",
        "model.fit(X, y)\n",
        "\n",
        "# посмотрим на коэффициенты\n",
        "model.slope_, model.intercept_"
      ],
      "metadata": {
        "id": "g27k4R8dE8mo",
        "colab": {
          "base_uri": "https://localhost:8080/"
        },
        "outputId": "924fdca1-4b94-41f0-e550-330c37f898f9"
      },
      "execution_count": null,
      "outputs": [
        {
          "output_type": "execute_result",
          "data": {
            "text/plain": [
              "(26.861812005569757, -10.570936299787334)"
            ]
          },
          "metadata": {},
          "execution_count": 63
        }
      ]
    },
    {
      "cell_type": "code",
      "source": [
        "# сделаем прогноз через .predict()\n",
        "y_pred = model.predict(X)\n",
        "\n",
        "# и выведем первые пять коэффициентов\n",
        "y_pred[:5]"
      ],
      "metadata": {
        "colab": {
          "base_uri": "https://localhost:8080/"
        },
        "id": "FgvjnZG9F_rA",
        "outputId": "9d946490-fadf-46fe-f304-6e8a898570da"
      },
      "execution_count": null,
      "outputs": [
        {
          "output_type": "execute_result",
          "data": {
            "text/plain": [
              "array([29.18454547, 29.45316359, 29.45316359, 29.72178171, 29.99039983])"
            ]
          },
          "metadata": {},
          "execution_count": 64
        }
      ]
    },
    {
      "cell_type": "code",
      "source": [],
      "metadata": {
        "id": "_7yI2OfQHJUe"
      },
      "execution_count": null,
      "outputs": []
    }
  ]
}
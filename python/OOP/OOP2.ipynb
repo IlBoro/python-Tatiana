{
 "cells": [
  {
   "cell_type": "code",
   "execution_count": null,
   "metadata": {},
   "outputs": [],
   "source": [
    "list1 = []  # синтаксический сахар\n",
    "list2 = list()  # в питон практически все объекты\n",
    "list()  # создание объекта при помощи вызова класса и ()\n",
    "dir(list1)  # атрибуты и метода объекта"
   ]
  },
  {
   "cell_type": "code",
   "execution_count": null,
   "metadata": {},
   "outputs": [],
   "source": [
    "type(list1)  # выводим тип класса"
   ]
  },
  {
   "cell_type": "code",
   "execution_count": 2,
   "metadata": {},
   "outputs": [
    {
     "data": {
      "text/plain": [
       "23"
      ]
     },
     "execution_count": 2,
     "metadata": {},
     "output_type": "execute_result"
    }
   ],
   "source": [
    "def get_value(\n",
    "    string: str,\n",
    ") -> int:  # аннотация типов = type hinting.Задаем параметры функции\n",
    "    return int(string)\n",
    "\n",
    "\n",
    "get_value(\"23\")"
   ]
  },
  {
   "cell_type": "code",
   "execution_count": 4,
   "metadata": {},
   "outputs": [
    {
     "data": {
      "text/plain": [
       "(9, 43)"
      ]
     },
     "execution_count": 4,
     "metadata": {},
     "output_type": "execute_result"
    }
   ],
   "source": [
    "def sum(\n",
    "    a: int, b: int\n",
    ") -> int:  # a: int, b:int - параметры(=фргументы) функции, -> int- что хотим получить\n",
    "    return a + b\n",
    "\n",
    "\n",
    "sum(5, 4), sum(a=33, b=10)"
   ]
  },
  {
   "cell_type": "markdown",
   "metadata": {},
   "source": [
    "Все классы наследуются от метакласса object."
   ]
  },
  {
   "cell_type": "code",
   "execution_count": 6,
   "metadata": {},
   "outputs": [
    {
     "data": {
      "text/plain": [
       "'Hello WORLD!'"
      ]
     },
     "execution_count": 6,
     "metadata": {},
     "output_type": "execute_result"
    }
   ],
   "source": [
    "class Alex:  # класс контейнер для функций\n",
    "    age = 12  # перемнная = свойство атрибут класса\n",
    "\n",
    "    def get_value(self, str: str) -> str:  # self - тк класс ALEX, а не object\n",
    "        return f\"Hello {str}!\"  # интерполирование перемнной или извдечение значения переменной в строке\n",
    "\n",
    "\n",
    "object = Alex()  # создаем объект класса ALEX\n",
    "# object.number\n",
    "\n",
    "object.get_value(\"WORLD\")  # обращаемся к объекту и вызываем его метод\n",
    "Alex.number"
   ]
  },
  {
   "cell_type": "code",
   "execution_count": 64,
   "metadata": {},
   "outputs": [
    {
     "name": "stdout",
     "output_type": "stream",
     "text": [
      "15\n",
      "100\n",
      "100\n",
      "100\n",
      "Tatiana\n",
      "15\n",
      "15\n",
      "15\n",
      "Tatiana\n",
      "Empty\n",
      "Empty\n",
      "Empty\n",
      " IVAN Drink in USA!\n",
      "Andrey I don't drink!\n",
      "Andrey 10\n",
      "Empty\n"
     ]
    },
    {
     "ename": "AttributeError",
     "evalue": "'IndianPerson' object has no attribute 'test'",
     "output_type": "error",
     "traceback": [
      "\u001b[0;31m---------------------------------------------------------------------------\u001b[0m",
      "\u001b[0;31mAttributeError\u001b[0m                            Traceback (most recent call last)",
      "Cell \u001b[0;32mIn[64], line 89\u001b[0m\n\u001b[1;32m     86\u001b[0m     x\u001b[39m.\u001b[39mget_drink()\n\u001b[1;32m     88\u001b[0m test(tanya)\n\u001b[0;32m---> 89\u001b[0m andrey\u001b[39m.\u001b[39;49mtest(\u001b[39m1\u001b[39m)\n\u001b[1;32m     90\u001b[0m andrey\u001b[39m.\u001b[39mtest(\u001b[39m1\u001b[39m,\u001b[39m2\u001b[39m)\n",
      "\u001b[0;31mAttributeError\u001b[0m: 'IndianPerson' object has no attribute 'test'"
     ]
    }
   ],
   "source": [
    "class Body:  #\n",
    "    size = 100\n",
    "\n",
    "\n",
    "class Person:\n",
    "\n",
    "    body = Body()  #\n",
    "\n",
    "    @property\n",
    "    def name(self):\n",
    "        return self._name\n",
    "\n",
    "    @property\n",
    "    def age(self) -> int:\n",
    "        return self._age\n",
    "        # return self.get_age()\n",
    "\n",
    "    def __init__(self, name: str, age: int):  # __inint__ - инициализация самого объекта\n",
    "\n",
    "        self._name = name  # self._name - field\n",
    "        # self._age = age + 100 #\n",
    "        self._age = age\n",
    "\n",
    "    def get_age(self) -> int:  #\n",
    "        return self._age  #\n",
    "\n",
    "    # def  __add__(self, other:\"Person\"):\n",
    "    #     # return self._age   + other.get_age()\n",
    "    #     return f'{self._name}\\\\{other._name}'\n",
    "\n",
    "    # def get_drink(self):\n",
    "    #     if self._age > 18:\n",
    "    #         print (f\"{self._name} Drink!\")\n",
    "\n",
    "    def get_drink(self):\n",
    "        print(\"Empty\")\n",
    "\n",
    "\n",
    "# полимовфизм\n",
    "class USAPerson(Person):  # делаем наследование от класса (Person)\n",
    "    # @overload # передпределение\n",
    "\n",
    "    def get_drink(self):  # переопределяем класс\n",
    "        if self._age > 16:\n",
    "            print(f\"{self._name} Drink in USA!\")\n",
    "\n",
    "\n",
    "class IndianPerson(Person):\n",
    "\n",
    "    def get_drink(self):  # переопределяем класс\n",
    "        print(f\"{self._name} I don't drink!\")\n",
    "\n",
    "\n",
    "tanya = Person(\"Tatiana\", 17)  # создается инстанс объектв\n",
    "vita = Person(\"Vitalina\", 15)  #\n",
    "sanya = Person(\"Alexander\", 21)\n",
    "ivan = USAPerson(\" IVAN\", 17)\n",
    "andrey = IndianPerson(\"Andrey\", 10)\n",
    "\n",
    "\n",
    "print(vita.get_age())\n",
    "print(vita.body.size)\n",
    "print(tanya.body.size)\n",
    "print(Person.body.size)\n",
    "# print(tanya + vita)\n",
    "# print(vita.__add__(tanya))\n",
    "\n",
    "dir(tanya)\n",
    "print(tanya._name)\n",
    "print(\n",
    "    vita._age\n",
    ")  # нарушение принципа инкапсуляции тк _age - это для внутреннего пользования!(есть _)\n",
    "print(vita.age)\n",
    "# print(vita.age+100)\n",
    "print(vita.get_age())\n",
    "print(tanya.name)\n",
    "# vita.age = 100 # подает ошибка\n",
    "sanya.get_drink()\n",
    "vita.get_drink()\n",
    "tanya.get_drink()\n",
    "ivan.get_drink()\n",
    "andrey.get_drink()\n",
    "print(andrey.name, andrey.age)\n",
    "\n",
    "\n",
    "def test(x: Person):\n",
    "    x.get_drink()\n",
    "\n",
    "\n",
    "test(tanya)\n",
    "andrey.test(1)\n",
    "andrey.test(1, 2)"
   ]
  },
  {
   "cell_type": "code",
   "execution_count": 69,
   "metadata": {},
   "outputs": [
    {
     "ename": "TypeError",
     "evalue": "Person.test() takes 1 positional argument but 2 were given",
     "output_type": "error",
     "traceback": [
      "\u001b[0;31m---------------------------------------------------------------------------\u001b[0m",
      "\u001b[0;31mTypeError\u001b[0m                                 Traceback (most recent call last)",
      "Cell \u001b[0;32mIn[69], line 16\u001b[0m\n\u001b[1;32m     10\u001b[0m     \u001b[39m@staticmethod\u001b[39m\n\u001b[1;32m     11\u001b[0m \n\u001b[1;32m     12\u001b[0m     \u001b[39mdef\u001b[39;00m \u001b[39mtest\u001b[39m(x: \u001b[39mint\u001b[39m):\n\u001b[1;32m     13\u001b[0m         \u001b[39mprint\u001b[39m(x)\n\u001b[0;32m---> 16\u001b[0m Person\u001b[39m.\u001b[39;49mtest(\u001b[39m1\u001b[39;49m,\u001b[39m2\u001b[39;49m)\n",
      "\u001b[0;31mTypeError\u001b[0m: Person.test() takes 1 positional argument but 2 were given"
     ]
    }
   ],
   "source": [
    "class Person:\n",
    "    # @overload\n",
    "\n",
    "    @staticmethod\n",
    "    def test(x: int, y: int):\n",
    "        print(x + y)\n",
    "\n",
    "    @staticmethod\n",
    "    def test(x: int):\n",
    "        print(x)\n",
    "\n",
    "\n",
    "Person.test(1, 2)"
   ]
  },
  {
   "cell_type": "code",
   "execution_count": 23,
   "metadata": {},
   "outputs": [
    {
     "data": {
      "text/plain": [
       "['__class__',\n",
       " '__delattr__',\n",
       " '__dict__',\n",
       " '__dir__',\n",
       " '__doc__',\n",
       " '__eq__',\n",
       " '__format__',\n",
       " '__ge__',\n",
       " '__getattribute__',\n",
       " '__getstate__',\n",
       " '__gt__',\n",
       " '__hash__',\n",
       " '__init__',\n",
       " '__init_subclass__',\n",
       " '__le__',\n",
       " '__lt__',\n",
       " '__module__',\n",
       " '__ne__',\n",
       " '__new__',\n",
       " '__reduce__',\n",
       " '__reduce_ex__',\n",
       " '__repr__',\n",
       " '__setattr__',\n",
       " '__sizeof__',\n",
       " '__str__',\n",
       " '__subclasshook__',\n",
       " '__weakref__',\n",
       " '_age',\n",
       " '_name',\n",
       " 'body',\n",
       " 'get_age']"
      ]
     },
     "execution_count": 23,
     "metadata": {},
     "output_type": "execute_result"
    }
   ],
   "source": [
    "dir(tanya)"
   ]
  },
  {
   "cell_type": "code",
   "execution_count": null,
   "metadata": {},
   "outputs": [],
   "source": [
    "add"
   ]
  }
 ],
 "metadata": {
  "kernelspec": {
   "display_name": "base",
   "language": "python",
   "name": "python3"
  },
  "language_info": {
   "codemirror_mode": {
    "name": "ipython",
    "version": 3
   },
   "file_extension": ".py",
   "mimetype": "text/x-python",
   "name": "python",
   "nbconvert_exporter": "python",
   "pygments_lexer": "ipython3",
   "version": "3.11.4"
  },
  "orig_nbformat": 4
 },
 "nbformat": 4,
 "nbformat_minor": 2
}

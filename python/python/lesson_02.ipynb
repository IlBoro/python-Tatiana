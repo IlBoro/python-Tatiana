{
 "cells": [
  {
   "cell_type": "markdown",
   "metadata": {},
   "source": [
    "1. Enter Senatorov team. Choose a person to fork.\n",
    "2. Choose a peson's repository for a fork or ask for recommendation (@Yugay_Irina help me to choose repository for review) \n",
    "3. Fork rep. and create a dev branch: Settings-> default brach-> switch to another branch - > dev\n",
    "4. Ask for permission @senatorov to work as a team in Git chat\n",
    "5. Clone: VS code-> source control->...-> clone -> choose colegue's repository\n",
    "6.Modification: \n",
    "7. Commit & Push\n",
    "8. Contact @Irina in Code review to give a review and add a link on the commit (copy from GITHUB)"
   ]
  },
  {
   "cell_type": "markdown",
   "metadata": {},
   "source": [
    "Getting started:\n",
    "* 1. Start-> Open (choose a way to the folder). TO COONECT YOUR VC TO THE FOLDERS ON THE DESKTOP. IT WILL APPEAR UNDER EXPLORER"
   ]
  },
  {
   "cell_type": "markdown",
   "metadata": {},
   "source": [
    "EXPLORER  -  to see your folders and files\n",
    "MAGNIFUING GLASS - to search and find replace text in files across your whole workspace\n",
    "SOURCE CONTROL - to track changes in code with Git and GitHub.\n",
    "RUN AND DEBUG - to executecode and debug it using breakpoints.\n",
    "THE EXTENSION MARKETPLACE -  to add additional features to our code editor.\n",
    "ACCOUNT ICON\n",
    "SETTINGS"
   ]
  },
  {
   "cell_type": "markdown",
   "metadata": {},
   "source": [
    "1. CREATE A NEW FILE:  File-> New File\n",
    "2. SAVE FILE: cmnd+S. \n",
    "! We need to save each change. A DOT on the file name reminds about it. \n",
    "3. TO SAVE CHANGE: ctrl+S or File-> AutoSave"
   ]
  },
  {
   "cell_type": "markdown",
   "metadata": {},
   "source": [
    "1. TO EXECUTE THE CODE: hit F5 \n",
    "2. CREATE A NEW FILE: cmnd+n"
   ]
  },
  {
   "cell_type": "markdown",
   "metadata": {},
   "source": [
    "Get review:\n",
    "Algorithm:\n",
    "\n",
    "1. Clone on local PC\n",
    "2. Answer the ?s\n",
    "1. Source control"
   ]
  },
  {
   "cell_type": "markdown",
   "metadata": {},
   "source": [
    "Work with terminal:\n",
    "1. ctl+alt+T\n",
    "2. Terminal -> New Terminal"
   ]
  },
  {
   "cell_type": "markdown",
   "metadata": {},
   "source": [
    "Fork/Clone of repository:\n",
    "1. Terminal: git clone link"
   ]
  }
 ],
 "metadata": {
  "kernelspec": {
   "display_name": "venv",
   "language": "python",
   "name": "python3"
  },
  "language_info": {
   "codemirror_mode": {
    "name": "ipython",
    "version": 3
   },
   "file_extension": ".py",
   "mimetype": "text/x-python",
   "name": "python",
   "nbconvert_exporter": "python",
   "pygments_lexer": "ipython3",
   "version": "3.6.9"
  },
  "orig_nbformat": 4
 },
 "nbformat": 4,
 "nbformat_minor": 2
}

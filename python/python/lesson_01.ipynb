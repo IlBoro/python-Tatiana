{
 "cells": [
  {
   "cell_type": "code",
   "execution_count": 1,
   "metadata": {},
   "outputs": [
    {
     "data": {
      "text/plain": [
       "'Module on python. Introduction.'"
      ]
     },
     "execution_count": 1,
     "metadata": {},
     "output_type": "execute_result"
    }
   ],
   "source": [
    "\"Module on python. Introduction.\""
   ]
  },
  {
   "cell_type": "markdown",
   "metadata": {},
   "source": [
    "Fork это операция клонирования чужого репозитория в свой личный аккаунт GitHub, для дальнейшего pull requestа.\n",
    "\n",
    "Pull request - это процедура переноса изменений из личного репозитория в форкнутый репозиторий, возможен только при наличии изменений."
   ]
  },
  {
   "cell_type": "markdown",
   "metadata": {},
   "source": [
    "Активация виртуального окружения: python -m venv venv"
   ]
  },
  {
   "cell_type": "markdown",
   "metadata": {},
   "source": [
    "Linter - это инструмент анализа и поиска ошибок согласно PEP 8.\n",
    "Flake8 - это linter .\n",
    "Black - это тнструмент автоформатирования кода согласна linter/\n"
   ]
  },
  {
   "cell_type": "code",
   "execution_count": 2,
   "metadata": {},
   "outputs": [
    {
     "name": "stdout",
     "output_type": "stream",
     "text": [
      "yes\n"
     ]
    }
   ],
   "source": [
    "var_w = int(input())\n",
    "\n",
    "if var_w % 2 == 0 and var_w > 2:\n",
    "    print(\"yes\")\n",
    "else:\n",
    "    print(\"no\")"
   ]
  }
 ],
 "metadata": {
  "kernelspec": {
   "display_name": "Python 3.8.0 ('venv': venv)",
   "language": "python",
   "name": "python3"
  },
  "language_info": {
   "codemirror_mode": {
    "name": "ipython",
    "version": 3
   },
   "file_extension": ".py",
   "mimetype": "text/x-python",
   "name": "python",
   "nbconvert_exporter": "python",
   "pygments_lexer": "ipython3",
   "version": "3.11.4"
  },
  "orig_nbformat": 4,
  "vscode": {
   "interpreter": {
    "hash": "7debfb7ff2a65a67fe4c33e05f6711e03aa7e44d9c4bd9c2a5f14dff9cc136af"
   }
  }
 },
 "nbformat": 4,
 "nbformat_minor": 2
}

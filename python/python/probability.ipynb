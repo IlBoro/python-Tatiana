{
 "cells": [
  {
   "cell_type": "code",
   "execution_count": 4,
   "metadata": {},
   "outputs": [],
   "source": [
    "\"Module 1. Types of events.\""
   ]
  },
  {
   "cell_type": "code",
   "execution_count": null,
   "metadata": {},
   "outputs": [],
   "source": [
    "def cerain_event():\n",
    "    \"\"\"\n",
    "    This function returns 1 as 100%.\n",
    "\n",
    "    Returns:\n",
    "       int: 1\n",
    "    \"\"\"\n",
    "    return 1\n"
   ]
  },
  {
   "cell_type": "code",
   "execution_count": 7,
   "metadata": {},
   "outputs": [
    {
     "name": "stdout",
     "output_type": "stream",
     "text": [
      "\u001b[0;31mInit signature:\u001b[0m \u001b[0mset\u001b[0m\u001b[0;34m(\u001b[0m\u001b[0mself\u001b[0m\u001b[0;34m,\u001b[0m \u001b[0;34m/\u001b[0m\u001b[0;34m,\u001b[0m \u001b[0;34m*\u001b[0m\u001b[0margs\u001b[0m\u001b[0;34m,\u001b[0m \u001b[0;34m**\u001b[0m\u001b[0mkwargs\u001b[0m\u001b[0;34m)\u001b[0m\u001b[0;34m\u001b[0m\u001b[0;34m\u001b[0m\u001b[0m\n",
      "\u001b[0;31mDocstring:\u001b[0m     \n",
      "set() -> new empty set object\n",
      "set(iterable) -> new set object\n",
      "\n",
      "Build an unordered collection of unique elements.\n",
      "\u001b[0;31mType:\u001b[0m           type\n",
      "\u001b[0;31mSubclasses:\u001b[0m     "
     ]
    }
   ],
   "source": [
    "set?"
   ]
  },
  {
   "cell_type": "code",
   "execution_count": 5,
   "metadata": {},
   "outputs": [],
   "source": [
    "def impossible_event():\n",
    "    \"\"\"\n",
    "    This function returns 0 as impossible event.\n",
    "\n",
    "    Returns:\n",
    "       int: 0\n",
    "    \"\"\"\n",
    "    return 0"
   ]
  },
  {
   "cell_type": "code",
   "execution_count": 6,
   "metadata": {},
   "outputs": [],
   "source": [
    "def random_event(successful_outcomes:float, total_outcome:float)->float:\n",
    "        \"\"\"\n",
    "    This function returns 0 as impossible event.\n",
    "\n",
    "    Parameters:\n",
    "    \n",
    "    successful_outcomes:float\n",
    "    total_outcome:float\n",
    "\n",
    "    Returns:\n",
    "       float: devision of successful_outcomes on total_outcomes\n",
    "    \"\"\"\n",
    "    return successful_outcomes / total_outcomes"
   ]
  },
  {
   "cell_type": "code",
   "execution_count": 9,
   "metadata": {},
   "outputs": [],
   "source": [
    "# Несовместные события\n",
    "def incompatible_events():\n",
    "    \"\"\"\n",
    "     def __init__(self, iterable: Iterable[_T], /) \n",
    "    -> None: ... -  до / -  позиционные аргументы, \n",
    "    а после / - ключевые\n",
    "    Iterable[_T] -параметр является итерируемым объектом,\n",
    "      и содержит элементы типа _T \n",
    "    _T — это обобщённый тип (generic), \n",
    "    который представляет собой любой тип данных  \n",
    "    \"\"\"\n",
    "    event_A = set([1,2]) \n",
    "    event_B = set([3,4])\n",
    "    total_outcomes = 6\n",
    "    p_A = len(event_A)/total_outcomes\n",
    "    p_B = len(event_B)/total_outcomes\n",
    "    "
   ]
  },
  {
   "cell_type": "code",
   "execution_count": 12,
   "metadata": {},
   "outputs": [
    {
     "data": {
      "text/plain": [
       "0.8333333333333334"
      ]
     },
     "execution_count": 12,
     "metadata": {},
     "output_type": "execute_result"
    }
   ],
   "source": [
    "# Противоположные события\n",
    "def complementary_events():\n",
    "    total_outcomes = 6\n",
    "    event_A = set([6])\n",
    "    p_A = len(event_A) / total_outcomes\n",
    "    p_not_a = 1-p_A \n",
    "    return p_not_a\n",
    "\n",
    "complementary_events()"
   ]
  },
  {
   "cell_type": "code",
   "execution_count": 19,
   "metadata": {},
   "outputs": [
    {
     "data": {
      "text/plain": [
       "1.0"
      ]
     },
     "execution_count": 19,
     "metadata": {},
     "output_type": "execute_result"
    }
   ],
   "source": [
    "# Полная группа событий\n",
    "def complete_group():\n",
    "    event = set([1,2,3,4,5,6])\n",
    "    total_outcomes = 6\n",
    "    p_a = len(event)/total_outcomes\n",
    "    return  p_a\n",
    "\n",
    "complete_group()    "
   ]
  },
  {
   "cell_type": "markdown",
   "metadata": {},
   "source": [
    "Сложение и умножение событий\n",
    "\n",
    "    Сложение вероятностей используется, когда мы хотим узнать вероятность того, что произойдет одно из двух несовместных событий (например, выпадет либо 1, либо 2 на кубике).\n",
    "    Умножение вероятностей используется для вычисления вероятности одновременного наступления двух независимых событий."
   ]
  },
  {
   "cell_type": "markdown",
   "metadata": {},
   "source": [
    "daa"
   ]
  }
 ],
 "metadata": {
  "kernelspec": {
   "display_name": "base",
   "language": "python",
   "name": "python3"
  },
  "language_info": {
   "codemirror_mode": {
    "name": "ipython",
    "version": 3
   },
   "file_extension": ".py",
   "mimetype": "text/x-python",
   "name": "python",
   "nbconvert_exporter": "python",
   "pygments_lexer": "ipython3",
   "version": "3.12.4"
  }
 },
 "nbformat": 4,
 "nbformat_minor": 2
}
